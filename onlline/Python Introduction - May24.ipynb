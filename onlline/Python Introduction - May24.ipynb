{
 "cells": [
  {
   "cell_type": "markdown",
   "id": "0087231c-39cd-443a-807d-d459c84fedc3",
   "metadata": {},
   "source": [
    "# What is Python?\n",
    "### Python is a popular programming language. It was created by Guido van Rossum, and released in 1991.\n"
   ]
  },
  {
   "cell_type": "markdown",
   "id": "c8f24f47-6112-4f2e-bee5-94825b2ff080",
   "metadata": {},
   "source": [
    "# What can Python do?\n",
    "- Python can be used on a server to create web applications.\n",
    "- Python can be used alongside software to create workflows.\n",
    "- Python can connect to database systems. It can also read and modify files.\n",
    "- Python can be used to handle big data and perform complex mathematics.\n",
    "- Python can be used for rapid prototyping, or for production-ready software development."
   ]
  },
  {
   "cell_type": "markdown",
   "id": "8b2a0bc1-1b5a-4fd6-b57f-9d6a2c7a92e5",
   "metadata": {},
   "source": [
    "# Why Python?\n",
    "- Python works on different platforms (Windows, Mac, Linux, Raspberry Pi, etc).\n",
    "- Python has a simple syntax similar to the English language.\n",
    "- Python has syntax that allows developers to write programs with fewer lines than some other programming languages.\n",
    "- Python runs on an interpreter system, meaning that code can be executed as soon as it is written. This means that prototyping can be very quick.\n",
    "- Python can be treated in a procedural way, an object-oriented way or a functional way."
   ]
  },
  {
   "cell_type": "markdown",
   "id": "62c8b2a5-ef81-4022-92ce-503442b31635",
   "metadata": {},
   "source": [
    "# Start with Python\n",
    "### Print a statement"
   ]
  },
  {
   "cell_type": "code",
   "execution_count": 8,
   "id": "a7a368fd-3e42-44f2-ada8-0a47c2bf9464",
   "metadata": {},
   "outputs": [
    {
     "name": "stdout",
     "output_type": "stream",
     "text": [
      "Hello, World\n"
     ]
    }
   ],
   "source": [
    "print(\"Hello, World\")"
   ]
  },
  {
   "cell_type": "code",
   "execution_count": 11,
   "id": "3cd23e2b-46e1-4a66-92a0-0caafb9a53aa",
   "metadata": {},
   "outputs": [
    {
     "name": "stdout",
     "output_type": "stream",
     "text": [
      "I forgot to add this code\n"
     ]
    }
   ],
   "source": [
    "print(\"I forgot to add this code\")"
   ]
  },
  {
   "cell_type": "code",
   "execution_count": 12,
   "id": "dd30b251-fb6e-4d08-bd45-8decef32461d",
   "metadata": {},
   "outputs": [
    {
     "name": "stdout",
     "output_type": "stream",
     "text": [
      "Welcome to the introductory class of Python Programming.\n"
     ]
    }
   ],
   "source": [
    "print(\"Welcome to the introductory class of Python Programming.\")"
   ]
  },
  {
   "cell_type": "markdown",
   "id": "3394bb44-992c-493a-9ab9-1dde167e18de",
   "metadata": {},
   "source": [
    "# Let's do some arithmetic operation\n",
    "### Addition"
   ]
  },
  {
   "cell_type": "code",
   "execution_count": 13,
   "id": "d5116374-a27c-4bc8-977c-bbec6f6158a6",
   "metadata": {},
   "outputs": [
    {
     "data": {
      "text/plain": [
       "12"
      ]
     },
     "execution_count": 13,
     "metadata": {},
     "output_type": "execute_result"
    }
   ],
   "source": [
    "10+2"
   ]
  },
  {
   "cell_type": "code",
   "execution_count": 14,
   "id": "2f339279-d0de-4e83-a0c3-552ea937a646",
   "metadata": {},
   "outputs": [
    {
     "data": {
      "text/plain": [
       "27"
      ]
     },
     "execution_count": 14,
     "metadata": {},
     "output_type": "execute_result"
    }
   ],
   "source": [
    "15+12"
   ]
  },
  {
   "cell_type": "markdown",
   "id": "0099eea6-4df4-42f1-bf60-e55ab9fe642c",
   "metadata": {},
   "source": [
    "### Subtraction"
   ]
  },
  {
   "cell_type": "code",
   "execution_count": 15,
   "id": "cc8e0799-b18d-4c93-aadf-b4fe5b87cdd4",
   "metadata": {},
   "outputs": [
    {
     "data": {
      "text/plain": [
       "20"
      ]
     },
     "execution_count": 15,
     "metadata": {},
     "output_type": "execute_result"
    }
   ],
   "source": [
    "50-30"
   ]
  },
  {
   "cell_type": "code",
   "execution_count": 16,
   "id": "1dc6c7ae-1a52-42ec-a1f5-6e5595db694c",
   "metadata": {},
   "outputs": [
    {
     "data": {
      "text/plain": [
       "14"
      ]
     },
     "execution_count": 16,
     "metadata": {},
     "output_type": "execute_result"
    }
   ],
   "source": [
    "30-16"
   ]
  },
  {
   "cell_type": "markdown",
   "id": "a20ea54a-a195-4719-851c-565900a1672c",
   "metadata": {},
   "source": [
    "### Multiplication"
   ]
  },
  {
   "cell_type": "code",
   "execution_count": 17,
   "id": "6e448796-b077-4c16-bcaa-7559d5f23996",
   "metadata": {},
   "outputs": [
    {
     "data": {
      "text/plain": [
       "20"
      ]
     },
     "execution_count": 17,
     "metadata": {},
     "output_type": "execute_result"
    }
   ],
   "source": [
    "5*4"
   ]
  },
  {
   "cell_type": "code",
   "execution_count": 18,
   "id": "1cc1c77f-1133-463a-bcc4-b789156316da",
   "metadata": {},
   "outputs": [
    {
     "data": {
      "text/plain": [
       "300"
      ]
     },
     "execution_count": 18,
     "metadata": {},
     "output_type": "execute_result"
    }
   ],
   "source": [
    "15*20"
   ]
  },
  {
   "cell_type": "markdown",
   "id": "331c9ec1-b429-4903-9ced-137e8bac5b6d",
   "metadata": {},
   "source": [
    "### Division"
   ]
  },
  {
   "cell_type": "code",
   "execution_count": 19,
   "id": "e910bbeb-b00e-4ea1-9f0e-96dc84dab67d",
   "metadata": {},
   "outputs": [
    {
     "data": {
      "text/plain": [
       "5.0"
      ]
     },
     "execution_count": 19,
     "metadata": {},
     "output_type": "execute_result"
    }
   ],
   "source": [
    "10/2"
   ]
  },
  {
   "cell_type": "code",
   "execution_count": 20,
   "id": "c749c186-87cf-4a4b-aabc-591575a61a04",
   "metadata": {},
   "outputs": [
    {
     "data": {
      "text/plain": [
       "5.5"
      ]
     },
     "execution_count": 20,
     "metadata": {},
     "output_type": "execute_result"
    }
   ],
   "source": [
    "11/2"
   ]
  },
  {
   "cell_type": "markdown",
   "id": "54b52d95-2bbc-48aa-a939-3f1e9919e900",
   "metadata": {},
   "source": [
    "### Floor division"
   ]
  },
  {
   "cell_type": "code",
   "execution_count": 21,
   "id": "615dbfc5-6681-4830-9792-dae2c0928757",
   "metadata": {},
   "outputs": [
    {
     "data": {
      "text/plain": [
       "5"
      ]
     },
     "execution_count": 21,
     "metadata": {},
     "output_type": "execute_result"
    }
   ],
   "source": [
    "11//2"
   ]
  },
  {
   "cell_type": "code",
   "execution_count": 23,
   "id": "4c8ae47b-03d2-48ce-b854-cda344f2fc47",
   "metadata": {},
   "outputs": [
    {
     "data": {
      "text/plain": [
       "33"
      ]
     },
     "execution_count": 23,
     "metadata": {},
     "output_type": "execute_result"
    }
   ],
   "source": [
    "100//3"
   ]
  },
  {
   "cell_type": "markdown",
   "id": "2628c958-89fa-4f3e-b861-93b7818593b9",
   "metadata": {},
   "source": [
    "### Exponentiation\t"
   ]
  },
  {
   "cell_type": "code",
   "execution_count": 24,
   "id": "a4ddecaa-49ec-4f8d-a58b-a12fc416f5e9",
   "metadata": {},
   "outputs": [
    {
     "data": {
      "text/plain": [
       "4"
      ]
     },
     "execution_count": 24,
     "metadata": {},
     "output_type": "execute_result"
    }
   ],
   "source": [
    "2**2"
   ]
  },
  {
   "cell_type": "code",
   "execution_count": 25,
   "id": "c1b0931f-4517-4abf-b82d-117cb23fdd96",
   "metadata": {},
   "outputs": [
    {
     "data": {
      "text/plain": [
       "25"
      ]
     },
     "execution_count": 25,
     "metadata": {},
     "output_type": "execute_result"
    }
   ],
   "source": [
    "5**2"
   ]
  },
  {
   "cell_type": "markdown",
   "id": "47dae4bc-0b85-4641-a073-51aa534053ff",
   "metadata": {},
   "source": [
    "### Modulus"
   ]
  },
  {
   "cell_type": "code",
   "execution_count": 26,
   "id": "d0804160-77e2-44e4-b1d7-08f8b4e545f6",
   "metadata": {},
   "outputs": [
    {
     "data": {
      "text/plain": [
       "1"
      ]
     },
     "execution_count": 26,
     "metadata": {},
     "output_type": "execute_result"
    }
   ],
   "source": [
    "11%2"
   ]
  },
  {
   "cell_type": "code",
   "execution_count": 27,
   "id": "284ead5f-5b6c-41d3-b438-43ad2c819154",
   "metadata": {},
   "outputs": [
    {
     "data": {
      "text/plain": [
       "1"
      ]
     },
     "execution_count": 27,
     "metadata": {},
     "output_type": "execute_result"
    }
   ],
   "source": [
    "100%3"
   ]
  },
  {
   "cell_type": "code",
   "execution_count": 28,
   "id": "c1bbb1a1-e71f-409d-88ed-a98143bba92d",
   "metadata": {},
   "outputs": [
    {
     "data": {
      "text/plain": [
       "0"
      ]
     },
     "execution_count": 28,
     "metadata": {},
     "output_type": "execute_result"
    }
   ],
   "source": [
    "100%2"
   ]
  },
  {
   "cell_type": "markdown",
   "id": "8fcddbda-d49c-4f5b-acbe-6dab6c8fde63",
   "metadata": {},
   "source": [
    "# Data Type\n",
    "- Text Type\n",
    "- Numeric Types\n",
    "- Boolean Type\n",
    "- Binary Types\n",
    "- None Type"
   ]
  },
  {
   "cell_type": "code",
   "execution_count": 1,
   "id": "32fb33be-8bd7-4e10-a112-e73e33be4e84",
   "metadata": {},
   "outputs": [
    {
     "data": {
      "text/plain": [
       "'This is the second class on Python'"
      ]
     },
     "execution_count": 1,
     "metadata": {},
     "output_type": "execute_result"
    }
   ],
   "source": [
    "\"This is the second class on Python\""
   ]
  },
  {
   "cell_type": "markdown",
   "id": "ba067f6e-19ae-486c-8a04-1afcbc5902be",
   "metadata": {},
   "source": [
    "### Numeric Types\n",
    "#### Integer and Float\n",
    "#### Integer -> Whole Number\n",
    "#### Float -> Real Number"
   ]
  },
  {
   "cell_type": "code",
   "execution_count": 2,
   "id": "ec9a5893-4cc3-461c-b2fa-4d6ccc1dc2cc",
   "metadata": {},
   "outputs": [
    {
     "data": {
      "text/plain": [
       "10"
      ]
     },
     "execution_count": 2,
     "metadata": {},
     "output_type": "execute_result"
    }
   ],
   "source": [
    "10"
   ]
  },
  {
   "cell_type": "code",
   "execution_count": 3,
   "id": "b592ddab-a353-4875-9acf-19cb86886503",
   "metadata": {},
   "outputs": [
    {
     "data": {
      "text/plain": [
       "10.333"
      ]
     },
     "execution_count": 3,
     "metadata": {},
     "output_type": "execute_result"
    }
   ],
   "source": [
    "10.333"
   ]
  },
  {
   "cell_type": "markdown",
   "id": "92c368ec-a850-4f91-bec9-202b7be89a6b",
   "metadata": {},
   "source": [
    "### Booleans\n",
    "##### True and False\n",
    "##### False -> 0\n",
    "##### True -> Other than 0"
   ]
  },
  {
   "cell_type": "code",
   "execution_count": 4,
   "id": "bc18d943-02a0-4950-8b04-c35f0748bb84",
   "metadata": {},
   "outputs": [
    {
     "data": {
      "text/plain": [
       "True"
      ]
     },
     "execution_count": 4,
     "metadata": {},
     "output_type": "execute_result"
    }
   ],
   "source": [
    "True"
   ]
  },
  {
   "cell_type": "code",
   "execution_count": 5,
   "id": "030a3a77-8e31-4d8a-a8f2-17cb80610836",
   "metadata": {},
   "outputs": [
    {
     "data": {
      "text/plain": [
       "False"
      ]
     },
     "execution_count": 5,
     "metadata": {},
     "output_type": "execute_result"
    }
   ],
   "source": [
    "False"
   ]
  },
  {
   "cell_type": "code",
   "execution_count": 6,
   "id": "cf44e5d2-dfa2-4a38-a17d-5bae979bd509",
   "metadata": {},
   "outputs": [
    {
     "name": "stdout",
     "output_type": "stream",
     "text": [
      "True\n"
     ]
    }
   ],
   "source": [
    "print(10>5)"
   ]
  },
  {
   "cell_type": "code",
   "execution_count": 7,
   "id": "c71c6b77-29f3-4e10-a9ee-f91a341d4bf1",
   "metadata": {},
   "outputs": [
    {
     "name": "stdout",
     "output_type": "stream",
     "text": [
      "False\n"
     ]
    }
   ],
   "source": [
    "print(5>10)"
   ]
  },
  {
   "cell_type": "code",
   "execution_count": 11,
   "id": "34fd9dab-c3d4-4996-91f6-73d98e7b8be1",
   "metadata": {},
   "outputs": [
    {
     "name": "stdout",
     "output_type": "stream",
     "text": [
      "True\n"
     ]
    }
   ],
   "source": [
    "print(bool(1))"
   ]
  },
  {
   "cell_type": "code",
   "execution_count": 12,
   "id": "e69823ea-35fa-4942-9a7d-bb4214a84c56",
   "metadata": {},
   "outputs": [
    {
     "name": "stdout",
     "output_type": "stream",
     "text": [
      "False\n"
     ]
    }
   ],
   "source": [
    "print(bool(0))"
   ]
  },
  {
   "cell_type": "code",
   "execution_count": 13,
   "id": "ab0522df-f0cb-4d40-95f6-20e7d0436a04",
   "metadata": {},
   "outputs": [
    {
     "name": "stdout",
     "output_type": "stream",
     "text": [
      "True\n"
     ]
    }
   ],
   "source": [
    "print(bool(\"Hello\"))"
   ]
  },
  {
   "cell_type": "code",
   "execution_count": 9,
   "id": "9d9f8a08-9d91-4a76-a6ea-4b349fd0293a",
   "metadata": {},
   "outputs": [],
   "source": [
    "None"
   ]
  },
  {
   "cell_type": "markdown",
   "id": "209a1254-6257-45de-818f-3d47b5aac4c9",
   "metadata": {},
   "source": [
    "### Getting the Data Type"
   ]
  },
  {
   "cell_type": "code",
   "execution_count": 14,
   "id": "e713e390-fbd3-4690-b0aa-aac4b16c6426",
   "metadata": {},
   "outputs": [
    {
     "data": {
      "text/plain": [
       "str"
      ]
     },
     "execution_count": 14,
     "metadata": {},
     "output_type": "execute_result"
    }
   ],
   "source": [
    "type(\"Hello Everyone\")"
   ]
  },
  {
   "cell_type": "code",
   "execution_count": 15,
   "id": "9f6fbd33-f9d4-4b96-85ad-bfdc4740fdfe",
   "metadata": {},
   "outputs": [
    {
     "data": {
      "text/plain": [
       "str"
      ]
     },
     "execution_count": 15,
     "metadata": {},
     "output_type": "execute_result"
    }
   ],
   "source": [
    "type(\"This is the Python Class\")"
   ]
  },
  {
   "cell_type": "code",
   "execution_count": 16,
   "id": "e68ba077-edd1-4cbf-9552-54dffe306d1c",
   "metadata": {},
   "outputs": [
    {
     "data": {
      "text/plain": [
       "str"
      ]
     },
     "execution_count": 16,
     "metadata": {},
     "output_type": "execute_result"
    }
   ],
   "source": [
    "type(\"123\")"
   ]
  },
  {
   "cell_type": "code",
   "execution_count": 17,
   "id": "65410336-4480-4106-83a9-6b9018d86f33",
   "metadata": {},
   "outputs": [
    {
     "data": {
      "text/plain": [
       "int"
      ]
     },
     "execution_count": 17,
     "metadata": {},
     "output_type": "execute_result"
    }
   ],
   "source": [
    "type(123)"
   ]
  },
  {
   "cell_type": "code",
   "execution_count": 18,
   "id": "50f516c1-696d-47a0-b0f7-e25221a5053b",
   "metadata": {},
   "outputs": [
    {
     "data": {
      "text/plain": [
       "float"
      ]
     },
     "execution_count": 18,
     "metadata": {},
     "output_type": "execute_result"
    }
   ],
   "source": [
    "type(123.123)"
   ]
  },
  {
   "cell_type": "code",
   "execution_count": 19,
   "id": "851d655c-cac2-4193-b585-8f4547f54550",
   "metadata": {},
   "outputs": [
    {
     "data": {
      "text/plain": [
       "bool"
      ]
     },
     "execution_count": 19,
     "metadata": {},
     "output_type": "execute_result"
    }
   ],
   "source": [
    "type(True)"
   ]
  },
  {
   "cell_type": "code",
   "execution_count": 20,
   "id": "71e80bb1-fe49-4672-ac62-6133a860e375",
   "metadata": {},
   "outputs": [
    {
     "data": {
      "text/plain": [
       "bool"
      ]
     },
     "execution_count": 20,
     "metadata": {},
     "output_type": "execute_result"
    }
   ],
   "source": [
    "type(False)"
   ]
  },
  {
   "cell_type": "code",
   "execution_count": 22,
   "id": "8c5dd302-43d2-4717-958d-fd0fa79f5b5e",
   "metadata": {},
   "outputs": [
    {
     "data": {
      "text/plain": [
       "int"
      ]
     },
     "execution_count": 22,
     "metadata": {},
     "output_type": "execute_result"
    }
   ],
   "source": [
    "type(0)"
   ]
  },
  {
   "cell_type": "code",
   "execution_count": 21,
   "id": "0f6e2c50-9e1b-4ee6-82ed-15e30a5069a4",
   "metadata": {},
   "outputs": [
    {
     "data": {
      "text/plain": [
       "NoneType"
      ]
     },
     "execution_count": 21,
     "metadata": {},
     "output_type": "execute_result"
    }
   ],
   "source": [
    "type(None)"
   ]
  },
  {
   "cell_type": "markdown",
   "id": "d915e99e-f1c9-4e04-ab8d-60cffc5118ae",
   "metadata": {},
   "source": [
    "# Variable\n",
    "### What is variable?\n",
    "Python Variable is containers that store values\n",
    "\n",
    "### Rules for Python variables\n",
    "- A Python variable name must start with a letter or the underscore character.\n",
    "- A Python variable name cannot start with a number.\n",
    "- A Python variable name can only contain alpha-numeric characters and underscores (A-z, 0-9, and _ ).\n",
    "- Variable in Python names are case-sensitive (name, Name, and NAME are three different variables).\n",
    "- The reserved words(keywords) in Python cannot be used to name the variable in Python."
   ]
  },
  {
   "cell_type": "code",
   "execution_count": 35,
   "id": "7f8914ce-7103-4eb0-b0fa-7071c691c3ad",
   "metadata": {},
   "outputs": [],
   "source": [
    "first_name = \"Asif\""
   ]
  },
  {
   "cell_type": "code",
   "execution_count": 26,
   "id": "4035e579-7f57-4d37-8fae-b9621b69ef21",
   "metadata": {},
   "outputs": [],
   "source": [
    "name = \"Asif Iqbal\""
   ]
  },
  {
   "cell_type": "code",
   "execution_count": 36,
   "id": "27e2c8d6-ad2a-4499-8cf1-e55c369a92bd",
   "metadata": {},
   "outputs": [
    {
     "name": "stdout",
     "output_type": "stream",
     "text": [
      "Asif Iqbal\n"
     ]
    }
   ],
   "source": [
    "print(first_name)"
   ]
  },
  {
   "cell_type": "code",
   "execution_count": 23,
   "id": "25976d78-adb3-49f0-af51-11b9039e6185",
   "metadata": {},
   "outputs": [],
   "source": [
    "a = 5"
   ]
  },
  {
   "cell_type": "code",
   "execution_count": 24,
   "id": "cad6a6e8-9cf6-419b-8f1c-751e79d2c6bf",
   "metadata": {},
   "outputs": [
    {
     "name": "stdout",
     "output_type": "stream",
     "text": [
      "5\n"
     ]
    }
   ],
   "source": [
    "print(a)"
   ]
  },
  {
   "cell_type": "code",
   "execution_count": 37,
   "id": "500c2097-2c5e-4947-b42d-876b7b8f527e",
   "metadata": {},
   "outputs": [
    {
     "ename": "SyntaxError",
     "evalue": "invalid syntax (2204693106.py, line 1)",
     "output_type": "error",
     "traceback": [
      "\u001b[1;36m  Cell \u001b[1;32mIn[37], line 1\u001b[1;36m\u001b[0m\n\u001b[1;33m    first$name = \"Asif Iqbal\"\u001b[0m\n\u001b[1;37m         ^\u001b[0m\n\u001b[1;31mSyntaxError\u001b[0m\u001b[1;31m:\u001b[0m invalid syntax\n"
     ]
    }
   ],
   "source": [
    "first$name = \"Asif Iqbal\""
   ]
  },
  {
   "cell_type": "code",
   "execution_count": 39,
   "id": "6b1c0e98-7a0e-45e7-a67c-bc0605405a05",
   "metadata": {},
   "outputs": [],
   "source": [
    "FirstName = \"Asif\""
   ]
  },
  {
   "cell_type": "code",
   "execution_count": 42,
   "id": "23cf0a30-da52-4c4e-92bd-b6fa0418443b",
   "metadata": {},
   "outputs": [
    {
     "name": "stdout",
     "output_type": "stream",
     "text": [
      "Asif\n"
     ]
    }
   ],
   "source": [
    "print(FirstName)"
   ]
  },
  {
   "cell_type": "code",
   "execution_count": 43,
   "id": "68f90177-c397-407a-841b-56e2bfd03ac8",
   "metadata": {},
   "outputs": [
    {
     "ename": "SyntaxError",
     "evalue": "cannot assign to False (2918313104.py, line 1)",
     "output_type": "error",
     "traceback": [
      "\u001b[1;36m  Cell \u001b[1;32mIn[43], line 1\u001b[1;36m\u001b[0m\n\u001b[1;33m    False = \"Asif\"\u001b[0m\n\u001b[1;37m    ^\u001b[0m\n\u001b[1;31mSyntaxError\u001b[0m\u001b[1;31m:\u001b[0m cannot assign to False\n"
     ]
    }
   ],
   "source": [
    "False = \"Asif\""
   ]
  },
  {
   "cell_type": "code",
   "execution_count": 45,
   "id": "a8f92a9e-b894-4ecc-b3e0-0d979d97ea06",
   "metadata": {},
   "outputs": [],
   "source": [
    "First_Name = \"Asif\""
   ]
  },
  {
   "cell_type": "code",
   "execution_count": 48,
   "id": "62c9d14d-89ce-45d3-9bbe-b144c1693e3d",
   "metadata": {},
   "outputs": [],
   "source": [
    "FirstName = \"Asif\""
   ]
  },
  {
   "cell_type": "markdown",
   "id": "3026d4f1-51ad-4cf1-8631-71a1a001c208",
   "metadata": {},
   "source": [
    "### Python Assign Values to Multiple Variables"
   ]
  },
  {
   "cell_type": "code",
   "execution_count": 49,
   "id": "854558a0-5515-4f03-b778-ca76c1e38953",
   "metadata": {},
   "outputs": [],
   "source": [
    "a = 7\n",
    "b = 7\n",
    "c = 7"
   ]
  },
  {
   "cell_type": "code",
   "execution_count": 58,
   "id": "4ea53ed7-8295-4c86-949c-9e494faf576b",
   "metadata": {},
   "outputs": [],
   "source": [
    "a = b = c = 7"
   ]
  },
  {
   "cell_type": "code",
   "execution_count": 61,
   "id": "74934c9d-7651-4298-bf2d-515ec3b67bfb",
   "metadata": {},
   "outputs": [
    {
     "name": "stdout",
     "output_type": "stream",
     "text": [
      "7\n"
     ]
    }
   ],
   "source": [
    "print(a)"
   ]
  },
  {
   "cell_type": "markdown",
   "id": "f6b9b168-fa78-4ea9-9964-e51d3fb217d9",
   "metadata": {},
   "source": [
    "### How does + operator work with variables? "
   ]
  },
  {
   "cell_type": "code",
   "execution_count": 63,
   "id": "2fe460de-ad1a-4260-bb6c-123a6389d4bb",
   "metadata": {},
   "outputs": [
    {
     "name": "stdout",
     "output_type": "stream",
     "text": [
      "30\n"
     ]
    }
   ],
   "source": [
    "a = 10\n",
    "b = 20\n",
    "print(a+b)"
   ]
  },
  {
   "cell_type": "code",
   "execution_count": 67,
   "id": "e475cf7c-fae3-4bab-a05e-2314e78d5bd8",
   "metadata": {},
   "outputs": [
    {
     "name": "stdout",
     "output_type": "stream",
     "text": [
      "My Name is Asif Iqbal\n"
     ]
    }
   ],
   "source": [
    "a = \"My Name is\"\n",
    "b = \"Asif Iqbal\"\n",
    "\n",
    "print(a + \" \" + b)"
   ]
  },
  {
   "cell_type": "markdown",
   "id": "b3c8386e-641c-4658-b233-0e74326970d5",
   "metadata": {},
   "source": [
    "### Casting a variable"
   ]
  },
  {
   "cell_type": "code",
   "execution_count": 68,
   "id": "011cf937-8757-4544-a3ac-6d184f6cbcb4",
   "metadata": {},
   "outputs": [],
   "source": [
    "number = \"122334455\""
   ]
  },
  {
   "cell_type": "code",
   "execution_count": 69,
   "id": "5ffa2084-727f-4355-9008-e9b99aa37112",
   "metadata": {},
   "outputs": [
    {
     "data": {
      "text/plain": [
       "str"
      ]
     },
     "execution_count": 69,
     "metadata": {},
     "output_type": "execute_result"
    }
   ],
   "source": [
    "type(number)"
   ]
  },
  {
   "cell_type": "code",
   "execution_count": 70,
   "id": "61fb4f81-5a65-40af-82fe-4e954b7a4e88",
   "metadata": {},
   "outputs": [],
   "source": [
    "new_number = int(number)"
   ]
  },
  {
   "cell_type": "code",
   "execution_count": 71,
   "id": "50d4db17-85b4-4bcc-a9be-3605c7a30c17",
   "metadata": {},
   "outputs": [
    {
     "data": {
      "text/plain": [
       "int"
      ]
     },
     "execution_count": 71,
     "metadata": {},
     "output_type": "execute_result"
    }
   ],
   "source": [
    "type(new_number)"
   ]
  },
  {
   "cell_type": "code",
   "execution_count": 77,
   "id": "8c8927eb-c911-49ea-92cb-34b4f1d2be7f",
   "metadata": {},
   "outputs": [],
   "source": [
    "char = \"123\""
   ]
  },
  {
   "cell_type": "code",
   "execution_count": 78,
   "id": "6b7970c4-5d4c-4937-b5b6-40fe3de78e3a",
   "metadata": {},
   "outputs": [],
   "source": [
    "new_char = int(char)"
   ]
  },
  {
   "cell_type": "code",
   "execution_count": 79,
   "id": "519e5085-cd97-46ed-b9a5-fa1d7e62f9c9",
   "metadata": {},
   "outputs": [
    {
     "name": "stdout",
     "output_type": "stream",
     "text": [
      "123\n"
     ]
    }
   ],
   "source": [
    "print(new_char)"
   ]
  },
  {
   "cell_type": "code",
   "execution_count": 80,
   "id": "31ff10cc-9d8e-4b1c-b248-1dd5eee19cc6",
   "metadata": {},
   "outputs": [
    {
     "data": {
      "text/plain": [
       "1"
      ]
     },
     "execution_count": 80,
     "metadata": {},
     "output_type": "execute_result"
    }
   ],
   "source": [
    "int(True)"
   ]
  },
  {
   "cell_type": "code",
   "execution_count": 81,
   "id": "7e1bd7f1-c7b0-4ca1-9f2e-c72444e4b4b1",
   "metadata": {},
   "outputs": [
    {
     "data": {
      "text/plain": [
       "False"
      ]
     },
     "execution_count": 81,
     "metadata": {},
     "output_type": "execute_result"
    }
   ],
   "source": [
    "bool(0)"
   ]
  },
  {
   "cell_type": "code",
   "execution_count": 83,
   "id": "b84e61b1-8f88-4670-a7d8-d09ef91f776f",
   "metadata": {},
   "outputs": [
    {
     "data": {
      "text/plain": [
       "True"
      ]
     },
     "execution_count": 83,
     "metadata": {},
     "output_type": "execute_result"
    }
   ],
   "source": [
    "bool(\"Hello\")"
   ]
  },
  {
   "cell_type": "code",
   "execution_count": 84,
   "id": "b1b0dc6b-7f32-487b-b240-2a2c0df10a24",
   "metadata": {},
   "outputs": [],
   "source": [
    "a = 10.112\n",
    "new_a = int(a)"
   ]
  },
  {
   "cell_type": "code",
   "execution_count": 87,
   "id": "86fb0d9e-9bbd-477d-86e4-6a6e4df2bee5",
   "metadata": {},
   "outputs": [
    {
     "name": "stdout",
     "output_type": "stream",
     "text": [
      "10.112\n"
     ]
    }
   ],
   "source": [
    "print(a)"
   ]
  },
  {
   "cell_type": "code",
   "execution_count": 86,
   "id": "d663ba92-bceb-41e5-befb-8dba05b18490",
   "metadata": {},
   "outputs": [
    {
     "name": "stdout",
     "output_type": "stream",
     "text": [
      "10\n"
     ]
    }
   ],
   "source": [
    "print(new_a)"
   ]
  },
  {
   "cell_type": "code",
   "execution_count": 88,
   "id": "9f569244-24ef-4466-9451-a9df77843f48",
   "metadata": {},
   "outputs": [],
   "source": [
    "b = 10\n",
    "new_b = float(b)"
   ]
  },
  {
   "cell_type": "code",
   "execution_count": 89,
   "id": "89c4dfa5-1ef2-43be-9fd0-1fdd17129532",
   "metadata": {},
   "outputs": [
    {
     "name": "stdout",
     "output_type": "stream",
     "text": [
      "10\n"
     ]
    }
   ],
   "source": [
    "print(b)"
   ]
  },
  {
   "cell_type": "code",
   "execution_count": 90,
   "id": "93615893-f416-475c-9d17-8779ded9a7bd",
   "metadata": {},
   "outputs": [
    {
     "name": "stdout",
     "output_type": "stream",
     "text": [
      "10.0\n"
     ]
    }
   ],
   "source": [
    "print(new_b)"
   ]
  },
  {
   "cell_type": "markdown",
   "id": "78b8c07c-3a4d-4c4c-bc5e-7cdff56199b5",
   "metadata": {},
   "source": [
    "### Get the variable type"
   ]
  },
  {
   "cell_type": "code",
   "execution_count": 91,
   "id": "02c54de8-4da3-4d87-a625-ecbe52131ee1",
   "metadata": {},
   "outputs": [
    {
     "data": {
      "text/plain": [
       "int"
      ]
     },
     "execution_count": 91,
     "metadata": {},
     "output_type": "execute_result"
    }
   ],
   "source": [
    "type(b)"
   ]
  },
  {
   "cell_type": "code",
   "execution_count": 92,
   "id": "8ee043d6-526d-4acd-9d93-8fb672465d0a",
   "metadata": {},
   "outputs": [
    {
     "data": {
      "text/plain": [
       "float"
      ]
     },
     "execution_count": 92,
     "metadata": {},
     "output_type": "execute_result"
    }
   ],
   "source": [
    "type(new_b)"
   ]
  },
  {
   "cell_type": "code",
   "execution_count": null,
   "id": "793fd67f-bf58-44b9-bd87-8dea0f5c91ab",
   "metadata": {},
   "outputs": [],
   "source": []
  },
  {
   "cell_type": "markdown",
   "id": "b28409fa-f606-4d85-8c93-450abe877c88",
   "metadata": {},
   "source": [
    "### Print Variables"
   ]
  },
  {
   "cell_type": "code",
   "execution_count": 93,
   "id": "d6c83416-7a0b-45f1-84e3-0897b1b64d88",
   "metadata": {},
   "outputs": [
    {
     "name": "stdout",
     "output_type": "stream",
     "text": [
      "30\n"
     ]
    }
   ],
   "source": [
    "a = 10\n",
    "b = 20\n",
    "print(a+b)"
   ]
  },
  {
   "cell_type": "code",
   "execution_count": 106,
   "id": "fb09958d-d77b-4247-8e7e-badfdd030059",
   "metadata": {},
   "outputs": [
    {
     "name": "stdout",
     "output_type": "stream",
     "text": [
      "Asif Iqbal\n"
     ]
    }
   ],
   "source": [
    "first_name = \"Asif \"\n",
    "second_name = \"Iqbal\"\n",
    "\n",
    "print(first_name + second_name)"
   ]
  },
  {
   "cell_type": "code",
   "execution_count": 108,
   "id": "7dc0df4e-a934-4fbc-9202-f6e974ac091c",
   "metadata": {},
   "outputs": [
    {
     "name": "stdout",
     "output_type": "stream",
     "text": [
      "10 20\n"
     ]
    }
   ],
   "source": [
    "a = 10\n",
    "b = 20\n",
    "print(a, b)"
   ]
  },
  {
   "cell_type": "code",
   "execution_count": 107,
   "id": "76cb8bb4-0e81-48a0-9f50-374219dff827",
   "metadata": {},
   "outputs": [
    {
     "name": "stdout",
     "output_type": "stream",
     "text": [
      "Asif Iqbal\n"
     ]
    }
   ],
   "source": [
    "first_name = \"Asif\"\n",
    "second_name = \"Iqbal\"\n",
    "\n",
    "print(first_name, second_name)"
   ]
  },
  {
   "cell_type": "code",
   "execution_count": 94,
   "id": "df33db65-0025-45b5-8041-74f6f09d0ae9",
   "metadata": {},
   "outputs": [
    {
     "ename": "TypeError",
     "evalue": "can only concatenate str (not \"int\") to str",
     "output_type": "error",
     "traceback": [
      "\u001b[1;31m-------------------------------------------------------\u001b[0m",
      "\u001b[1;31mTypeError\u001b[0m             Traceback (most recent call last)",
      "Cell \u001b[1;32mIn[94], line 2\u001b[0m\n\u001b[0;32m      1\u001b[0m Year \u001b[38;5;241m=\u001b[39m \u001b[38;5;241m2024\u001b[39m\n\u001b[1;32m----> 2\u001b[0m \u001b[38;5;28mprint\u001b[39m(\u001b[38;5;124;43m\"\u001b[39;49m\u001b[38;5;124;43mThis is year\u001b[39;49m\u001b[38;5;124;43m\"\u001b[39;49m\u001b[43m \u001b[49m\u001b[38;5;241;43m+\u001b[39;49m\u001b[43m \u001b[49m\u001b[43mYear\u001b[49m)\n",
      "\u001b[1;31mTypeError\u001b[0m: can only concatenate str (not \"int\") to str"
     ]
    }
   ],
   "source": [
    "Year = 2024\n",
    "print(\"This is year\" + Year)"
   ]
  },
  {
   "cell_type": "code",
   "execution_count": 98,
   "id": "e5510f8a-d0f9-4205-bf1f-36872b56a50b",
   "metadata": {},
   "outputs": [
    {
     "name": "stdout",
     "output_type": "stream",
     "text": [
      "This is year 2024\n"
     ]
    }
   ],
   "source": [
    "Year = 2024\n",
    "print(\"This is year \" + str(Year))"
   ]
  },
  {
   "cell_type": "code",
   "execution_count": 100,
   "id": "fd8b6595-d5e4-4d4b-8c52-f0612dfc53f4",
   "metadata": {},
   "outputs": [
    {
     "name": "stdout",
     "output_type": "stream",
     "text": [
      "Today is 11th May, 2024.\n"
     ]
    }
   ],
   "source": [
    "Date = 11\n",
    "Month = \"May\"\n",
    "Year = 2024\n",
    "print(\"Today is\" + \" \" + str(11) + \"th \" + Month + \", \" + str(Year) + \".\")"
   ]
  },
  {
   "cell_type": "code",
   "execution_count": null,
   "id": "824860db-2718-41fb-b707-9c17c50cc8eb",
   "metadata": {},
   "outputs": [],
   "source": []
  },
  {
   "cell_type": "markdown",
   "id": "5d491b3a-a83b-4993-854a-66f2ebbf7bd0",
   "metadata": {},
   "source": [
    "### Different Type of Variable Print"
   ]
  },
  {
   "cell_type": "code",
   "execution_count": 104,
   "id": "0f7385b6-f07d-44c0-b4e0-4f8a213214aa",
   "metadata": {},
   "outputs": [
    {
     "name": "stdout",
     "output_type": "stream",
     "text": [
      "Today is 11th May, 2024.\n",
      "Today is May 11th, 2024.\n"
     ]
    }
   ],
   "source": [
    "Date = 11\n",
    "Month = \"May\"\n",
    "Year = 2024\n",
    "print(f\"Today is {Date}th {Month}, {Year}.\")\n",
    "print(f\"Today is {Month} {Date}th, {Year}.\")"
   ]
  },
  {
   "cell_type": "code",
   "execution_count": 105,
   "id": "c60de550-85e4-45d2-8a8f-b39266d5ae37",
   "metadata": {},
   "outputs": [
    {
     "name": "stdout",
     "output_type": "stream",
     "text": [
      "Today is 11th May, 2024.\n",
      "Today is May 11th, 2024.\n"
     ]
    }
   ],
   "source": [
    "Date = 11\n",
    "Month = \"May\"\n",
    "Year = 2024\n",
    "print(\"Today is {}th {}, {}.\".format(Date, Month, Year))\n",
    "print(\"Today is {} {}th, {}.\".format(Month, Date, Year))"
   ]
  },
  {
   "cell_type": "code",
   "execution_count": null,
   "id": "83a2e41e-ecc1-4540-8f3d-40f8ddfa5ade",
   "metadata": {},
   "outputs": [],
   "source": []
  },
  {
   "cell_type": "code",
   "execution_count": null,
   "id": "0a14d708-78ca-4f5d-8d4f-90ef03f97e08",
   "metadata": {},
   "outputs": [],
   "source": []
  },
  {
   "cell_type": "code",
   "execution_count": 120,
   "id": "65d6d398-e49e-4863-84a5-b4025f5907a4",
   "metadata": {},
   "outputs": [
    {
     "ename": "ZeroDivisionError",
     "evalue": "division by zero",
     "output_type": "error",
     "traceback": [
      "\u001b[1;31m-------------------------------------------------------\u001b[0m",
      "\u001b[1;31mZeroDivisionError\u001b[0m     Traceback (most recent call last)",
      "Cell \u001b[1;32mIn[120], line 1\u001b[0m\n\u001b[1;32m----> 1\u001b[0m \u001b[38;5;241;43m1\u001b[39;49m\u001b[38;5;241;43m/\u001b[39;49m\u001b[38;5;241;43m0\u001b[39;49m\n",
      "\u001b[1;31mZeroDivisionError\u001b[0m: division by zero"
     ]
    }
   ],
   "source": [
    "1/0"
   ]
  },
  {
   "cell_type": "markdown",
   "id": "bf85df41-ceb8-4b58-8a26-e7e520052461",
   "metadata": {},
   "source": [
    "# Comment in Python\n",
    "### Single Line Comment"
   ]
  },
  {
   "cell_type": "code",
   "execution_count": 110,
   "id": "1b313b20-bb92-4421-9493-5bff2fd6d75e",
   "metadata": {},
   "outputs": [
    {
     "name": "stdout",
     "output_type": "stream",
     "text": [
      "Hello World\n"
     ]
    }
   ],
   "source": [
    "# Today is May 11th\n",
    "# We are taking Python class\n",
    "\n",
    "print(\"Hello World\") # This is a line to print in Python"
   ]
  },
  {
   "cell_type": "code",
   "execution_count": 111,
   "id": "ca80e9cb-5376-4b82-81ad-b23a828708ba",
   "metadata": {},
   "outputs": [],
   "source": [
    "# Today is May 11th\n",
    "# We are taking Python class\n",
    "\n",
    "print(\"Hello World\") # This is a line to print in Python"
   ]
  },
  {
   "cell_type": "markdown",
   "id": "fea1726c-4244-4e3d-b20b-ad4a0a3b90e2",
   "metadata": {},
   "source": [
    "### Multiline Comment"
   ]
  },
  {
   "cell_type": "code",
   "execution_count": 115,
   "id": "18c66502-bb7a-4e64-b43a-24cef21403ad",
   "metadata": {},
   "outputs": [
    {
     "name": "stdout",
     "output_type": "stream",
     "text": [
      "Hello World\n",
      "Goodbye\n"
     ]
    }
   ],
   "source": [
    "print(\"Hello World\")\n",
    "# print(\"Do not print this line\")\n",
    "# print(\"Do not print this line\")\n",
    "# print(\"Do not print this line\")\n",
    "# print(\"Do not print this line\")\n",
    "# print(\"Do not print this line\")\n",
    "# print(\"Do not print this line\")\n",
    "print(\"Goodbye\")"
   ]
  },
  {
   "cell_type": "code",
   "execution_count": 117,
   "id": "8df00206-5857-4c20-810a-5190a4b2f40e",
   "metadata": {},
   "outputs": [
    {
     "name": "stdout",
     "output_type": "stream",
     "text": [
      "Hello World\n"
     ]
    }
   ],
   "source": [
    "'''\n",
    "Today is May 11th\n",
    "We are taking Python class\n",
    "'''\n",
    "print(\"Hello World\")"
   ]
  },
  {
   "cell_type": "code",
   "execution_count": 119,
   "id": "89399a0e-3d03-4a3a-8892-9736321c7f43",
   "metadata": {},
   "outputs": [
    {
     "name": "stdout",
     "output_type": "stream",
     "text": [
      "Hello World\n"
     ]
    }
   ],
   "source": [
    "\"\"\"\n",
    "Today is May 11th\n",
    "We are taking Python class\n",
    "asa\n",
    "d\n",
    "asdad\n",
    "as\n",
    "\"\"\"\n",
    "print(\"Hello World\")"
   ]
  },
  {
   "cell_type": "code",
   "execution_count": null,
   "id": "7d0df52d-de1e-4eb5-b791-08a4b8b7977a",
   "metadata": {},
   "outputs": [],
   "source": []
  },
  {
   "cell_type": "code",
   "execution_count": null,
   "id": "f37b6ca7-cf7d-481b-a8ec-c91951583a84",
   "metadata": {},
   "outputs": [],
   "source": []
  },
  {
   "cell_type": "markdown",
   "id": "f7f73416-dc87-4aa9-9400-de5b526ecb00",
   "metadata": {},
   "source": [
    "# Python Strings"
   ]
  },
  {
   "cell_type": "code",
   "execution_count": 122,
   "id": "d3ab7517-aec9-47fc-bcb5-198834f8a75d",
   "metadata": {},
   "outputs": [
    {
     "name": "stdout",
     "output_type": "stream",
     "text": [
      "This is our second class in Python\n"
     ]
    }
   ],
   "source": [
    "print(\"This is our second class in Python\")"
   ]
  },
  {
   "cell_type": "code",
   "execution_count": 124,
   "id": "9e5d611f-43d6-42e8-aa6c-0911824a88cf",
   "metadata": {},
   "outputs": [
    {
     "name": "stdout",
     "output_type": "stream",
     "text": [
      "0111223445666\n"
     ]
    }
   ],
   "source": [
    "print(\"0111223445666\")"
   ]
  },
  {
   "cell_type": "markdown",
   "id": "eb54895d-2f4d-4c42-b859-ec4e9f593bb4",
   "metadata": {},
   "source": [
    "### Multiline Strings"
   ]
  },
  {
   "cell_type": "code",
   "execution_count": 130,
   "id": "16ec2b9a-4120-4ff4-b64a-fc9721d5c7c5",
   "metadata": {},
   "outputs": [],
   "source": [
    "a = \"\"\"The limerick packs laughs anatomical\n",
    "Into space that is quite economical.\n",
    "But the good ones I've seen\n",
    "So seldom are clean\n",
    "And the clean ones so seldom are comical.\"\"\"\n",
    "\n",
    "b = '''The limerick packs laughs anatomical\n",
    "Into space that is quite economical.\n",
    "But the good ones I've seen\n",
    "So seldom are clean\n",
    "And the clean ones so seldom are comical.'''"
   ]
  },
  {
   "cell_type": "code",
   "execution_count": 131,
   "id": "f5b0aba7-a436-47f2-aeeb-4d6522a70fcb",
   "metadata": {},
   "outputs": [
    {
     "name": "stdout",
     "output_type": "stream",
     "text": [
      "The limerick packs laughs anatomical\n",
      "Into space that is quite economical.\n",
      "But the good ones I've seen\n",
      "So seldom are clean\n",
      "And the clean ones so seldom are comical.\n"
     ]
    }
   ],
   "source": [
    "print(b)"
   ]
  },
  {
   "cell_type": "code",
   "execution_count": 1,
   "id": "1bd2ddd4-a174-4ccf-b1cb-c81d32f4917d",
   "metadata": {},
   "outputs": [],
   "source": [
    "a = \"The limerick packs laughs anatomical \\n Into space that is quite economical. \\n But the good ones I've seen \\n So seldom are clean \\n And the clean ones so seldom are comical.\""
   ]
  },
  {
   "cell_type": "code",
   "execution_count": 2,
   "id": "9d50ad50-29ed-4526-a895-dca71ea31a03",
   "metadata": {},
   "outputs": [
    {
     "name": "stdout",
     "output_type": "stream",
     "text": [
      "The limerick packs laughs anatomical \n",
      " Into space that is quite economical. \n",
      " But the good ones I've seen \n",
      " So seldom are clean \n",
      " And the clean ones so seldom are comical.\n"
     ]
    }
   ],
   "source": [
    "print(a)"
   ]
  },
  {
   "cell_type": "markdown",
   "id": "82e66238-88fe-4059-954a-342d6c2fdeee",
   "metadata": {},
   "source": [
    "### Quotes Inside String"
   ]
  },
  {
   "cell_type": "code",
   "execution_count": 133,
   "id": "afda5eb5-f40b-4dc5-8477-21c96f102156",
   "metadata": {},
   "outputs": [
    {
     "name": "stdout",
     "output_type": "stream",
     "text": [
      "Frank Zappa says, 'So many books, so little time'\n"
     ]
    }
   ],
   "source": [
    "print(\"Frank Zappa says, 'So many books, so little time'\")"
   ]
  },
  {
   "cell_type": "code",
   "execution_count": 134,
   "id": "f02b1c39-3327-40f8-a72d-fb7b8265a90a",
   "metadata": {},
   "outputs": [
    {
     "name": "stdout",
     "output_type": "stream",
     "text": [
      "Frank Zappa says, \"So many books, so little time\"\n"
     ]
    }
   ],
   "source": [
    "print('Frank Zappa says, \"So many books, so little time\"')"
   ]
  },
  {
   "cell_type": "code",
   "execution_count": 136,
   "id": "a1df06e4-b157-4757-8e79-8aba722aebca",
   "metadata": {},
   "outputs": [
    {
     "name": "stdout",
     "output_type": "stream",
     "text": [
      "It's your choice\n"
     ]
    }
   ],
   "source": [
    "print(\"It's your choice\")"
   ]
  },
  {
   "cell_type": "markdown",
   "id": "551ea983-0d24-46db-8527-979c8617f073",
   "metadata": {},
   "source": [
    "### String <> Array\n",
    "##### Char:  H e l l o\n",
    "##### Index: 0 1 2 3 4\n",
    "\n",
    "##### string[0] = H\n",
    "##### string[1] = e\n",
    "....\n",
    "##### string[4] = o"
   ]
  },
  {
   "cell_type": "code",
   "execution_count": 5,
   "id": "ef535215-b42a-4944-a164-945de1b24f50",
   "metadata": {},
   "outputs": [
    {
     "name": "stdout",
     "output_type": "stream",
     "text": [
      "Hello\n"
     ]
    }
   ],
   "source": [
    "string = \"Hello\"\n",
    "print(string)"
   ]
  },
  {
   "cell_type": "code",
   "execution_count": 6,
   "id": "3e944765-4906-4bf5-b7aa-270ebabd8360",
   "metadata": {},
   "outputs": [
    {
     "name": "stdout",
     "output_type": "stream",
     "text": [
      "H\n"
     ]
    }
   ],
   "source": [
    "print(string[0])"
   ]
  },
  {
   "cell_type": "code",
   "execution_count": 7,
   "id": "1ace6f25-717a-4c20-8aed-e4b468b2caf9",
   "metadata": {},
   "outputs": [
    {
     "name": "stdout",
     "output_type": "stream",
     "text": [
      "e\n"
     ]
    }
   ],
   "source": [
    "print(string[1])"
   ]
  },
  {
   "cell_type": "code",
   "execution_count": 8,
   "id": "44699262-c159-4b8d-880c-e12f1deeea1c",
   "metadata": {},
   "outputs": [
    {
     "name": "stdout",
     "output_type": "stream",
     "text": [
      "o\n"
     ]
    }
   ],
   "source": [
    "print(string[4])"
   ]
  },
  {
   "cell_type": "markdown",
   "id": "604ebd62-d2f2-4ab8-9e3f-11e11d8a49fb",
   "metadata": {},
   "source": [
    "### Slicing Strings\n",
    "##### string [slicing_first_index : slicing_last_index+1]"
   ]
  },
  {
   "cell_type": "code",
   "execution_count": 12,
   "id": "9ec1eba8-261e-495c-9efc-aa307fa9e073",
   "metadata": {},
   "outputs": [],
   "source": [
    "name = \"Asif Iqbal\""
   ]
  },
  {
   "cell_type": "code",
   "execution_count": 15,
   "id": "4c867023-a945-478a-a67a-68a86d9955a9",
   "metadata": {},
   "outputs": [
    {
     "name": "stdout",
     "output_type": "stream",
     "text": [
      "l\n"
     ]
    }
   ],
   "source": [
    "print(name[9])"
   ]
  },
  {
   "cell_type": "code",
   "execution_count": 18,
   "id": "5691f18b-345a-4026-86a1-b16deda4fa46",
   "metadata": {},
   "outputs": [
    {
     "name": "stdout",
     "output_type": "stream",
     "text": [
      "if I\n"
     ]
    }
   ],
   "source": [
    "print(name[2:6])"
   ]
  },
  {
   "cell_type": "code",
   "execution_count": 19,
   "id": "8952f115-98a3-4c24-a50c-bf7bde7548d7",
   "metadata": {},
   "outputs": [
    {
     "name": "stdout",
     "output_type": "stream",
     "text": [
      "if Iqbal\n"
     ]
    }
   ],
   "source": [
    "print(name[2:])"
   ]
  },
  {
   "cell_type": "markdown",
   "id": "4ddc3298-d419-44e6-8db7-80f1c8d63193",
   "metadata": {},
   "source": [
    "### Modify Strings"
   ]
  },
  {
   "cell_type": "code",
   "execution_count": null,
   "id": "79831577-825f-4372-9af9-9f8103cef906",
   "metadata": {},
   "outputs": [],
   "source": [
    "name = \"Asif Iqbal\""
   ]
  },
  {
   "cell_type": "code",
   "execution_count": 26,
   "id": "70275877-4ca1-46e9-93b5-ef1c4aaefd13",
   "metadata": {},
   "outputs": [
    {
     "name": "stdout",
     "output_type": "stream",
     "text": [
      "ASIF IQBAL\n"
     ]
    }
   ],
   "source": [
    "print(name.upper())"
   ]
  },
  {
   "cell_type": "code",
   "execution_count": 27,
   "id": "ddc49ee4-3044-49c1-bf6b-4641b0323971",
   "metadata": {},
   "outputs": [
    {
     "name": "stdout",
     "output_type": "stream",
     "text": [
      "asif iqbal\n"
     ]
    }
   ],
   "source": [
    "print(name.lower())"
   ]
  },
  {
   "cell_type": "code",
   "execution_count": 29,
   "id": "6ac6bed4-b4fa-4849-a87b-6c3aed2a8a15",
   "metadata": {},
   "outputs": [
    {
     "name": "stdout",
     "output_type": "stream",
     "text": [
      "Asif Iqbal\n"
     ]
    }
   ],
   "source": [
    "name = \"     Asif Iqbal        \"\n",
    "\n",
    "print(name.strip())"
   ]
  },
  {
   "cell_type": "code",
   "execution_count": 32,
   "id": "5bce6205-6dea-408a-997b-21f4acd77eef",
   "metadata": {},
   "outputs": [],
   "source": [
    "name = \"Asif Iqbal\"\n",
    "name = name.replace(\"A\", \"O\")"
   ]
  },
  {
   "cell_type": "code",
   "execution_count": 33,
   "id": "9913dffe-5e3e-42b2-9571-afd52cca453f",
   "metadata": {},
   "outputs": [
    {
     "name": "stdout",
     "output_type": "stream",
     "text": [
      "Osif Iqbal\n"
     ]
    }
   ],
   "source": [
    "print(name)"
   ]
  },
  {
   "cell_type": "code",
   "execution_count": 35,
   "id": "044a8e13-cba7-42ed-8e85-09be5fd01e90",
   "metadata": {},
   "outputs": [
    {
     "name": "stdout",
     "output_type": "stream",
     "text": [
      "['This', 'is', 'a', 'very', 'nice', 'day', '.']\n"
     ]
    }
   ],
   "source": [
    "name = \"This is a very nice day .\"\n",
    "print(name.split())"
   ]
  },
  {
   "cell_type": "code",
   "execution_count": null,
   "id": "86b93840-6871-407a-b318-7707e484b9e2",
   "metadata": {},
   "outputs": [],
   "source": []
  },
  {
   "cell_type": "markdown",
   "id": "bb2f48da-5816-43fa-adec-d75416a167cb",
   "metadata": {},
   "source": [
    "### Concat Strings"
   ]
  },
  {
   "cell_type": "code",
   "execution_count": 36,
   "id": "8f0f0f97-77e5-413d-a91b-cb7f65fe8d85",
   "metadata": {},
   "outputs": [],
   "source": [
    "a = \"This\"\n",
    "b = \"is the second\"\n",
    "c = \"class on python\""
   ]
  },
  {
   "cell_type": "code",
   "execution_count": 39,
   "id": "b3de4453-3d6b-49b7-ac39-5407d2265f25",
   "metadata": {},
   "outputs": [],
   "source": [
    "final_string = a + \" \" + b + \" \" + c"
   ]
  },
  {
   "cell_type": "code",
   "execution_count": 40,
   "id": "759d6db6-ec74-4abb-80fd-0c6996b09c24",
   "metadata": {},
   "outputs": [
    {
     "name": "stdout",
     "output_type": "stream",
     "text": [
      "This is the second class on python\n"
     ]
    }
   ],
   "source": [
    "print(final_string)"
   ]
  },
  {
   "cell_type": "markdown",
   "id": "f03bf636-8b45-4715-90e1-186ffb77e9b1",
   "metadata": {},
   "source": [
    "### Escape Characters"
   ]
  },
  {
   "cell_type": "code",
   "execution_count": 42,
   "id": "34421398-6f0d-4737-8778-94b6e5765dd1",
   "metadata": {},
   "outputs": [],
   "source": [
    "text = \"This is the second class on \\\"Python\\\"\""
   ]
  },
  {
   "cell_type": "code",
   "execution_count": 43,
   "id": "b1bf0941-f222-4874-8ab9-0691d6322074",
   "metadata": {},
   "outputs": [
    {
     "name": "stdout",
     "output_type": "stream",
     "text": [
      "This is the second class on \"Python\"\n"
     ]
    }
   ],
   "source": [
    "print(text)"
   ]
  },
  {
   "cell_type": "code",
   "execution_count": 44,
   "id": "3b210acf-a436-4708-aadb-6eb1a68ec441",
   "metadata": {},
   "outputs": [],
   "source": [
    "a = \"The limerick packs laughs anatomical \\n Into space that is quite economical. \\n But the good ones I've seen \\n So seldom are clean \\n And the clean ones so seldom are comical.\""
   ]
  },
  {
   "cell_type": "code",
   "execution_count": 45,
   "id": "755fa39d-beb9-4b32-beae-b5c9fb79b96e",
   "metadata": {},
   "outputs": [
    {
     "name": "stdout",
     "output_type": "stream",
     "text": [
      "The limerick packs laughs anatomical \n",
      " Into space that is quite economical. \n",
      " But the good ones I've seen \n",
      " So seldom are clean \n",
      " And the clean ones so seldom are comical.\n"
     ]
    }
   ],
   "source": [
    "print(a)"
   ]
  },
  {
   "cell_type": "code",
   "execution_count": 47,
   "id": "dd29a87d-da5b-4e6b-91df-5c360cc79bad",
   "metadata": {},
   "outputs": [
    {
     "name": "stdout",
     "output_type": "stream",
     "text": [
      "You may use \\n to create a new line.\n"
     ]
    }
   ],
   "source": [
    "print(\"You may use \\\\n to create a new line.\")"
   ]
  },
  {
   "cell_type": "code",
   "execution_count": 49,
   "id": "02354bbf-92ff-46e1-b3e1-332c36ebd657",
   "metadata": {},
   "outputs": [
    {
     "name": "stdout",
     "output_type": "stream",
     "text": [
      "Frank Zappa says, 'So many books, so little time'\n"
     ]
    }
   ],
   "source": [
    "print('Frank Zappa says, \\'So many books, so little time\\'')"
   ]
  },
  {
   "cell_type": "markdown",
   "id": "f0268cb9-2ed7-446c-a813-0bed226b0067",
   "metadata": {},
   "source": [
    "# Operators\n",
    "\n",
    "###### Unary Operators -> One variable requires\n",
    "###### Binary Operators -> Two variables require\n",
    "###### Ternary Operators -> Three variables require"
   ]
  },
  {
   "cell_type": "code",
   "execution_count": 2,
   "id": "f6c50475-a33d-445a-a71a-b4146458ae91",
   "metadata": {},
   "outputs": [],
   "source": [
    "a = 5 # Assign"
   ]
  },
  {
   "cell_type": "code",
   "execution_count": 3,
   "id": "b9e2f0d7-178a-4520-af25-55a1ab43ae32",
   "metadata": {},
   "outputs": [
    {
     "name": "stdout",
     "output_type": "stream",
     "text": [
      "10\n"
     ]
    }
   ],
   "source": [
    "a = a + 5\n",
    "print(a)"
   ]
  },
  {
   "cell_type": "code",
   "execution_count": 4,
   "id": "176dddc1-c9f7-42e4-b831-9c60290d4b04",
   "metadata": {},
   "outputs": [
    {
     "name": "stdout",
     "output_type": "stream",
     "text": [
      "15\n"
     ]
    }
   ],
   "source": [
    "a += 5\n",
    "print(a)"
   ]
  },
  {
   "cell_type": "code",
   "execution_count": 6,
   "id": "6096fdb3-5441-4451-9c6c-00fe68b8dc76",
   "metadata": {},
   "outputs": [],
   "source": [
    "a = a - 5\n",
    "a -= 5"
   ]
  },
  {
   "cell_type": "code",
   "execution_count": 7,
   "id": "ed1c87c1-18f9-4c97-b3e9-61882b2b4669",
   "metadata": {},
   "outputs": [],
   "source": [
    "a = a * 5\n",
    "a *= 5"
   ]
  },
  {
   "cell_type": "code",
   "execution_count": null,
   "id": "7fbf8dd8-9bff-4ff2-9d7b-947bd50c04cb",
   "metadata": {},
   "outputs": [],
   "source": [
    "a = a/5\n",
    "a /= 5"
   ]
  },
  {
   "cell_type": "code",
   "execution_count": null,
   "id": "fd5576b0-3ed4-4674-8ffd-6e533a4fb25f",
   "metadata": {},
   "outputs": [],
   "source": [
    "a = a // 5\n",
    "a //= 5"
   ]
  },
  {
   "cell_type": "code",
   "execution_count": null,
   "id": "cb564811-2c52-4315-b918-b79716fd2819",
   "metadata": {},
   "outputs": [],
   "source": [
    "a = a**5\n",
    "a **= 5"
   ]
  },
  {
   "cell_type": "code",
   "execution_count": null,
   "id": "8469d8ce-1f05-4ac1-b3be-463977893c2b",
   "metadata": {},
   "outputs": [],
   "source": [
    "a = b"
   ]
  },
  {
   "cell_type": "code",
   "execution_count": 12,
   "id": "112614fe-8b5c-4741-ad3f-9c3c1e7c0d9e",
   "metadata": {},
   "outputs": [
    {
     "name": "stdout",
     "output_type": "stream",
     "text": [
      "False\n",
      "False\n",
      "True\n",
      "False\n",
      "True\n",
      "True\n"
     ]
    }
   ],
   "source": [
    "a = 5\n",
    "b = 7\n",
    "\n",
    "print(a == b)\n",
    "print(a > b)\n",
    "print(a < b)\n",
    "print(a >= b)\n",
    "print(a <= b)\n",
    "print(a != b)"
   ]
  },
  {
   "cell_type": "code",
   "execution_count": null,
   "id": "f4412011-2661-4a8b-b957-b9011d457319",
   "metadata": {},
   "outputs": [],
   "source": []
  },
  {
   "cell_type": "code",
   "execution_count": null,
   "id": "7adaf93c-dca7-4c6b-80c9-77d8dd9ecee1",
   "metadata": {},
   "outputs": [],
   "source": [
    "# Identity Operators"
   ]
  },
  {
   "cell_type": "code",
   "execution_count": 107,
   "id": "8ef2c2e4-af15-4b18-8b02-d499a290c751",
   "metadata": {},
   "outputs": [
    {
     "name": "stdout",
     "output_type": "stream",
     "text": [
      "d\n",
      "e\n",
      "f\n"
     ]
    }
   ],
   "source": [
    "# Membership Operators\n",
    "list2 = ['d', 'e', 'f']\n",
    "\n",
    "for i in list2:\n",
    "    print(i)"
   ]
  },
  {
   "cell_type": "markdown",
   "id": "9f714e57-aac8-41e7-bfe6-bf3348866080",
   "metadata": {},
   "source": [
    "# Lists"
   ]
  },
  {
   "cell_type": "code",
   "execution_count": 13,
   "id": "6a68570b-889b-4184-bd88-664cf03cc255",
   "metadata": {},
   "outputs": [],
   "source": [
    "car = [\"Fiat\", \"BMW\", \"Audi\", \"Tesla\"]"
   ]
  },
  {
   "cell_type": "code",
   "execution_count": 14,
   "id": "42824f57-d1b4-4a80-8323-53d0b3907dca",
   "metadata": {},
   "outputs": [],
   "source": [
    "car = [\"Fiat\", \"BMW\", \"Audi\", \"Tesla\", 1, 1.233, True]"
   ]
  },
  {
   "cell_type": "markdown",
   "id": "8be350d0-6919-4405-8dc7-5497f39091ba",
   "metadata": {},
   "source": [
    "### List Items\n",
    "- List items are ordered, changeable, and allow duplicate values.\n",
    "- List items are indexed, the first item has index [0], the second item has index [1] etc."
   ]
  },
  {
   "cell_type": "markdown",
   "id": "44e8362e-8e55-4f19-a736-8afcbfe0f3d0",
   "metadata": {},
   "source": [
    "### Ordered\n",
    "- When we say that lists are ordered, it means that the items have a defined order, and that order will not change.\n",
    "- If you add new items to a list, the new items will be placed at the end of the list."
   ]
  },
  {
   "cell_type": "code",
   "execution_count": 64,
   "id": "b2bb79f7-bb7a-4104-84df-58d3e3d6e7a2",
   "metadata": {},
   "outputs": [],
   "source": [
    "car = [\"Fiat\", \"BMW\", \"Audi\", \"Tesla\"]"
   ]
  },
  {
   "cell_type": "code",
   "execution_count": 24,
   "id": "632163fb-bde2-4a35-b182-2d2d656d1bd2",
   "metadata": {},
   "outputs": [
    {
     "name": "stdout",
     "output_type": "stream",
     "text": [
      "Tesla\n"
     ]
    }
   ],
   "source": [
    "print(car[3])"
   ]
  },
  {
   "cell_type": "code",
   "execution_count": 25,
   "id": "b1ea538a-1252-4890-85f7-132ca8dae2f7",
   "metadata": {},
   "outputs": [
    {
     "name": "stdout",
     "output_type": "stream",
     "text": [
      "4\n"
     ]
    }
   ],
   "source": [
    "print(len(car))"
   ]
  },
  {
   "cell_type": "code",
   "execution_count": 32,
   "id": "86db8d37-1ef5-4dab-ad47-4243d02527ef",
   "metadata": {},
   "outputs": [],
   "source": [
    "list1 = [True, False, False, True]\n",
    "list2 = [1, 4, 6, True, False,        3,       5,       6,    False]"
   ]
  },
  {
   "cell_type": "code",
   "execution_count": 30,
   "id": "502084ff-9c92-406d-8f68-4e299629df7d",
   "metadata": {},
   "outputs": [
    {
     "name": "stdout",
     "output_type": "stream",
     "text": [
      "[1, 4, 6, True, False, 3, 5, 6, False]\n"
     ]
    }
   ],
   "source": [
    "print(list2)"
   ]
  },
  {
   "cell_type": "code",
   "execution_count": 33,
   "id": "2a24f482-0f20-4134-81b6-43b3db39412b",
   "metadata": {},
   "outputs": [],
   "source": [
    "car = [\"Fiat\", \"BMW\", \"Audi\", \"Tesla\"]"
   ]
  },
  {
   "cell_type": "code",
   "execution_count": 34,
   "id": "bc78031a-a883-44ce-a6d5-6d46cfa8a8b0",
   "metadata": {},
   "outputs": [
    {
     "data": {
      "text/plain": [
       "list"
      ]
     },
     "execution_count": 34,
     "metadata": {},
     "output_type": "execute_result"
    }
   ],
   "source": [
    "type(car)"
   ]
  },
  {
   "cell_type": "markdown",
   "id": "99468e5e-1f95-4b8d-acc0-fd7e758bb433",
   "metadata": {},
   "source": [
    "### List Items"
   ]
  },
  {
   "cell_type": "code",
   "execution_count": 45,
   "id": "b9597d06-2596-4407-aa33-9f1f79f8ee7d",
   "metadata": {},
   "outputs": [],
   "source": [
    "car = [\"Fiat\", \"BMW\", \"Audi\", \"Tesla\", \"Honda\", \"Ford\", \"Tata\"]"
   ]
  },
  {
   "cell_type": "code",
   "execution_count": 46,
   "id": "df580959-39a7-4a45-b805-71bc62fee5e9",
   "metadata": {},
   "outputs": [
    {
     "name": "stdout",
     "output_type": "stream",
     "text": [
      "Audi\n"
     ]
    }
   ],
   "source": [
    "print(car[2])"
   ]
  },
  {
   "cell_type": "code",
   "execution_count": 47,
   "id": "c652f837-2588-471c-a7c8-76b923351d53",
   "metadata": {},
   "outputs": [
    {
     "name": "stdout",
     "output_type": "stream",
     "text": [
      "['Audi', 'Tesla', 'Honda']\n"
     ]
    }
   ],
   "source": [
    "## list_name[starting_index : ending_index + 1]\n",
    "print(car[2:5])"
   ]
  },
  {
   "cell_type": "code",
   "execution_count": 48,
   "id": "ff90df97-8562-49c7-8078-348b84da2e30",
   "metadata": {},
   "outputs": [
    {
     "name": "stdout",
     "output_type": "stream",
     "text": [
      "['Honda', 'Ford', 'Tata']\n"
     ]
    }
   ],
   "source": [
    "print(car[4:])"
   ]
  },
  {
   "cell_type": "code",
   "execution_count": 49,
   "id": "386e85ae-260a-48d0-8c49-61c0127ed193",
   "metadata": {},
   "outputs": [
    {
     "name": "stdout",
     "output_type": "stream",
     "text": [
      "['Fiat', 'BMW', 'Audi']\n"
     ]
    }
   ],
   "source": [
    "print(car[:3])"
   ]
  },
  {
   "cell_type": "code",
   "execution_count": 63,
   "id": "c9dfcb86-f786-4e56-ac24-4ef7bfc9f318",
   "metadata": {},
   "outputs": [
    {
     "name": "stdout",
     "output_type": "stream",
     "text": [
      "['Fiat', 'BMW']\n",
      "['Fiat', 'BMW', 'Audi', 'Tesla', 'Honda', 'Ford', 'Tata']\n"
     ]
    }
   ],
   "source": [
    "car = [\"Fiat\", \"BMW\", \"Audi\", \"Tesla\", \"Honda\", \"Ford\", \"Tata\"]\n",
    "print(car[:2])\n",
    "print(car[:])"
   ]
  },
  {
   "cell_type": "code",
   "execution_count": 53,
   "id": "dc6551e2-8dcc-49df-b4c1-f4535b797de3",
   "metadata": {},
   "outputs": [
    {
     "name": "stdout",
     "output_type": "stream",
     "text": [
      "['Fiat', 'BMW', 'Audi', 'Tesla', 'Honda', 'Ford', 'Tata']\n"
     ]
    }
   ],
   "source": [
    "print(car)"
   ]
  },
  {
   "cell_type": "code",
   "execution_count": 60,
   "id": "66048f23-cce3-4ca5-9426-828c52cc4679",
   "metadata": {},
   "outputs": [
    {
     "name": "stdout",
     "output_type": "stream",
     "text": [
      "W\n"
     ]
    }
   ],
   "source": [
    "print(car[1][2])"
   ]
  },
  {
   "cell_type": "code",
   "execution_count": 69,
   "id": "bb780323-81b1-4958-b9d7-34565fa62d41",
   "metadata": {},
   "outputs": [],
   "source": [
    "car = [\"Fiat\", \"BMW\", \"Audi\", \"Tesla\", \"Honda\", \"Ford\"]\n",
    "car[2] = \"Tata\"\n",
    "print(car)"
   ]
  },
  {
   "cell_type": "code",
   "execution_count": 73,
   "id": "fbf7de4c-af2f-418a-a52c-9d97fd9077d2",
   "metadata": {},
   "outputs": [
    {
     "name": "stdout",
     "output_type": "stream",
     "text": [
      "['Fiat', 'BMW', 'Tata', 'Toyota', 'Honda', 'Ford']\n"
     ]
    }
   ],
   "source": [
    "car = [\"Fiat\", \"BMW\", \"Audi\", \"Tesla\", \"Honda\", \"Ford\"]\n",
    "car[2:4] = [\"Tata\", \"Toyota\"]\n",
    "print(car)"
   ]
  },
  {
   "cell_type": "code",
   "execution_count": 75,
   "id": "36b2304d-f455-4fd6-ac6c-1153548fb167",
   "metadata": {},
   "outputs": [
    {
     "name": "stdout",
     "output_type": "stream",
     "text": [
      "['Fiat', 'BMW', 'Tata', 'Toyota', 'Tesla', 'Honda', 'Ford']\n"
     ]
    }
   ],
   "source": [
    "car = [\"Fiat\", \"BMW\", \"Audi\", \"Tesla\", \"Honda\", \"Ford\"]\n",
    "car[2:3] = [\"Tata\", \"Toyota\"]\n",
    "print(car)"
   ]
  },
  {
   "cell_type": "code",
   "execution_count": 76,
   "id": "1473edf8-7193-41a3-ad47-fc5e87c01b5c",
   "metadata": {},
   "outputs": [
    {
     "name": "stdout",
     "output_type": "stream",
     "text": [
      "['Fiat', 'BMW', 'Tata', 'Toyota']\n"
     ]
    }
   ],
   "source": [
    "car = [\"Fiat\", \"BMW\", \"Audi\", \"Tesla\", \"Honda\", \"Ford\"]\n",
    "car[2:6] = [\"Tata\", \"Toyota\"]\n",
    "print(car)"
   ]
  },
  {
   "cell_type": "code",
   "execution_count": 80,
   "id": "31866afc-f010-446c-8c9c-1631aaf73b42",
   "metadata": {},
   "outputs": [
    {
     "name": "stdout",
     "output_type": "stream",
     "text": [
      "['Fiat', 'BMW', 'Tata', 'Audi', 'Tesla', 'Honda', 'Ford']\n"
     ]
    }
   ],
   "source": [
    "car = [\"Fiat\", \"BMW\", \"Audi\", \"Tesla\", \"Honda\", \"Ford\"]\n",
    "car[2:2] = [\"Tata\", \"Toyota\"]\n",
    "print(car)"
   ]
  },
  {
   "cell_type": "code",
   "execution_count": 83,
   "id": "e3f9f845-870a-46fe-b86f-bf2c02d7cc2f",
   "metadata": {},
   "outputs": [
    {
     "name": "stdout",
     "output_type": "stream",
     "text": [
      "['Fiat', 'BMW', ['Tata', 'Toyota'], 'Audi', 'Tesla', 'Honda', 'Ford']\n"
     ]
    }
   ],
   "source": [
    "car = [\"Fiat\", \"BMW\", \"Audi\", \"Tesla\", \"Honda\", \"Ford\"]\n",
    "car.insert(2, \"Tata\")\n",
    "print(car)"
   ]
  },
  {
   "cell_type": "code",
   "execution_count": 88,
   "id": "79d9fc3c-52c8-4dd4-a098-7c693d94aff3",
   "metadata": {},
   "outputs": [
    {
     "name": "stdout",
     "output_type": "stream",
     "text": [
      "Tesla\n"
     ]
    }
   ],
   "source": [
    "car = [\"Fiat\", \"BMW\", [\"Audi\", \"Tesla\"], \"Honda\", \"Ford\"]\n",
    "print(car[2][1])"
   ]
  },
  {
   "cell_type": "markdown",
   "id": "008aaafd-e93e-40e4-900c-d1cc34c5efd2",
   "metadata": {},
   "source": [
    "### Add and Remove List Items"
   ]
  },
  {
   "cell_type": "code",
   "execution_count": 89,
   "id": "6a767d41-064b-413a-9929-15583ed20228",
   "metadata": {},
   "outputs": [
    {
     "name": "stdout",
     "output_type": "stream",
     "text": [
      "['Fiat', 'BMW', 'Audi', 'Tesla', 'Honda', 'Ford', 'Tata']\n"
     ]
    }
   ],
   "source": [
    "car = [\"Fiat\", \"BMW\", \"Audi\", \"Tesla\", \"Honda\", \"Ford\"]\n",
    "car.append(\"Tata\")\n",
    "print(car)"
   ]
  },
  {
   "cell_type": "code",
   "execution_count": 90,
   "id": "d3f3e2f5-c745-4265-a2da-f72f7afde3b0",
   "metadata": {},
   "outputs": [
    {
     "name": "stdout",
     "output_type": "stream",
     "text": [
      "['Fiat', 'BMW', 'Tata', 'Audi', 'Tesla', 'Honda', 'Ford']\n"
     ]
    }
   ],
   "source": [
    "car = [\"Fiat\", \"BMW\", \"Audi\", \"Tesla\", \"Honda\", \"Ford\"]\n",
    "car.insert(2, \"Tata\")\n",
    "print(car)"
   ]
  },
  {
   "cell_type": "code",
   "execution_count": 91,
   "id": "660871f2-1f5b-418a-9e9c-f99d1f60ed4b",
   "metadata": {},
   "outputs": [
    {
     "name": "stdout",
     "output_type": "stream",
     "text": [
      "['Fiat', 'BMW', 'Audi', 'Tesla', 'Honda', 'Ford']\n",
      "['Tesla', 'Honda', 'Ford']\n"
     ]
    }
   ],
   "source": [
    "car1 = [\"Fiat\", \"BMW\", \"Audi\"]\n",
    "car2 = [\"Tesla\", \"Honda\", \"Ford\"]\n",
    "\n",
    "car1.extend(car2)\n",
    "print(car1)\n",
    "print(car2)"
   ]
  },
  {
   "cell_type": "code",
   "execution_count": 92,
   "id": "8ac5f971-aba4-448f-870a-186e09c5bdcd",
   "metadata": {},
   "outputs": [
    {
     "name": "stdout",
     "output_type": "stream",
     "text": [
      "['Fiat', 'BMW', 'Audi']\n",
      "['Tesla', 'Honda', 'Ford', 'Fiat', 'BMW', 'Audi']\n"
     ]
    }
   ],
   "source": [
    "car1 = [\"Fiat\", \"BMW\", \"Audi\"]\n",
    "car2 = [\"Tesla\", \"Honda\", \"Ford\"]\n",
    "\n",
    "car2.extend(car1)\n",
    "print(car1)\n",
    "print(car2)"
   ]
  },
  {
   "cell_type": "code",
   "execution_count": 93,
   "id": "2658464d-40ef-4afc-89b4-725ebff5ba3a",
   "metadata": {},
   "outputs": [
    {
     "name": "stdout",
     "output_type": "stream",
     "text": [
      "['BMW', 'Audi', 'Tesla', 'Honda', 'Ford']\n"
     ]
    }
   ],
   "source": [
    "car = [\"Fiat\", \"BMW\", \"Audi\", \"Tesla\", \"Honda\", \"Ford\"]\n",
    "car.remove(\"Fiat\")\n",
    "print(car)"
   ]
  },
  {
   "cell_type": "code",
   "execution_count": 94,
   "id": "7469224c-d309-46ec-94d3-ea81e377fc0a",
   "metadata": {},
   "outputs": [
    {
     "name": "stdout",
     "output_type": "stream",
     "text": [
      "['BMW', 'Audi', 'Tesla', 'Honda', 'Ford', 'Fiat']\n"
     ]
    }
   ],
   "source": [
    "car = [\"Fiat\", \"BMW\", \"Audi\", \"Tesla\", \"Honda\", \"Ford\", \"Fiat\"]\n",
    "car.remove(\"Fiat\")\n",
    "print(car)"
   ]
  },
  {
   "cell_type": "code",
   "execution_count": 95,
   "id": "b30d0996-cae0-413e-b0c9-bbd705ee55d5",
   "metadata": {},
   "outputs": [
    {
     "name": "stdout",
     "output_type": "stream",
     "text": [
      "['BMW', 'Audi', 'Tesla', 'Honda', 'Ford']\n"
     ]
    }
   ],
   "source": [
    "car.remove(\"Fiat\")\n",
    "print(car)"
   ]
  },
  {
   "cell_type": "code",
   "execution_count": 96,
   "id": "93ae73bd-9347-4c63-bd35-ad525111f9b5",
   "metadata": {},
   "outputs": [
    {
     "name": "stdout",
     "output_type": "stream",
     "text": [
      "['Fiat', 'BMW', 'Audi', 'Tesla', 'Honda', 'Ford', 'Fiat']\n"
     ]
    }
   ],
   "source": [
    "car = [\"Fiat\", \"BMW\", \"Audi\", \"Tesla\", \"Honda\", \"Ford\", \"Fiat\"]\n",
    "print(car)"
   ]
  },
  {
   "cell_type": "code",
   "execution_count": 49,
   "id": "d03ac229-3e03-4d9d-b73f-6b74f11dc04e",
   "metadata": {},
   "outputs": [
    {
     "name": "stdout",
     "output_type": "stream",
     "text": [
      "['Audi', 'BMW', 'Fiat']\n"
     ]
    }
   ],
   "source": [
    "car = [\"Fiat\", \"BMW\", \"Audi\"]\n",
    "\n",
    "temp = car[0]\n",
    "car[0] = car[2]\n",
    "car[2] = temp\n",
    "\n",
    "print(car)"
   ]
  },
  {
   "cell_type": "code",
   "execution_count": null,
   "id": "69343973-3b46-48f7-906d-68b99e19823b",
   "metadata": {},
   "outputs": [],
   "source": []
  },
  {
   "cell_type": "markdown",
   "id": "eb4e45fb-1fbb-486e-8ec8-29aa7fc227c9",
   "metadata": {},
   "source": [
    "### Sort List"
   ]
  },
  {
   "cell_type": "code",
   "execution_count": 98,
   "id": "e75f3be1-1a98-496e-b0d6-0d59be1a9f62",
   "metadata": {},
   "outputs": [
    {
     "name": "stdout",
     "output_type": "stream",
     "text": [
      "['Audi', 'BMW', 'Fiat', 'Ford', 'Honda', 'Tesla']\n"
     ]
    }
   ],
   "source": [
    "car = [\"Fiat\", \"BMW\", \"Audi\", \"Tesla\", \"Honda\", \"Ford\"]\n",
    "car.sort()\n",
    "print(car)"
   ]
  },
  {
   "cell_type": "code",
   "execution_count": 99,
   "id": "21718bea-f0a6-4e2d-8c18-a93616fe16b0",
   "metadata": {},
   "outputs": [
    {
     "name": "stdout",
     "output_type": "stream",
     "text": [
      "[5, 6, 123, 123, 4353, 4565, 5677]\n"
     ]
    }
   ],
   "source": [
    "number = [5,6,123,123,4353,4565,5677]\n",
    "number.sort()\n",
    "print(number)"
   ]
  },
  {
   "cell_type": "code",
   "execution_count": 100,
   "id": "727487e3-315b-4efb-be95-be601e4304b7",
   "metadata": {},
   "outputs": [
    {
     "name": "stdout",
     "output_type": "stream",
     "text": [
      "['Tesla', 'Honda', 'Ford', 'Fiat', 'BMW', 'Audi']\n"
     ]
    }
   ],
   "source": [
    "car = [\"Fiat\", \"BMW\", \"Audi\", \"Tesla\", \"Honda\", \"Ford\"]\n",
    "car.sort(reverse = True)\n",
    "print(car)"
   ]
  },
  {
   "cell_type": "code",
   "execution_count": 101,
   "id": "b75d75db-5f7d-486d-9d4d-07300ed631ce",
   "metadata": {},
   "outputs": [
    {
     "name": "stdout",
     "output_type": "stream",
     "text": [
      "[5677, 4565, 4353, 123, 123, 6, 5]\n"
     ]
    }
   ],
   "source": [
    "number = [5,6,123,123,4353,4565,5677]\n",
    "number.sort(reverse= True)\n",
    "print(number)"
   ]
  },
  {
   "cell_type": "markdown",
   "id": "a353edf0-8c3b-409b-9746-7d02ef98eea3",
   "metadata": {},
   "source": [
    "### Join Lists"
   ]
  },
  {
   "cell_type": "code",
   "execution_count": 102,
   "id": "c637ffca-21ce-4c36-9586-0ff434d11287",
   "metadata": {},
   "outputs": [
    {
     "name": "stdout",
     "output_type": "stream",
     "text": [
      "['a', 'b', 'c', 'd', 'e', 'f']\n",
      "['d', 'e', 'f']\n"
     ]
    }
   ],
   "source": [
    "list1 = ['a', 'b', 'c']\n",
    "list2 = ['d', 'e', 'f']\n",
    "\n",
    "list1.extend(list2)\n",
    "print(list1)\n",
    "print(list2)"
   ]
  },
  {
   "cell_type": "code",
   "execution_count": 134,
   "id": "24112996-1c03-4a81-acf9-5098c0c3f152",
   "metadata": {},
   "outputs": [
    {
     "name": "stdout",
     "output_type": "stream",
     "text": [
      "['a', 'b', 'c', 'd', 'e', 'f']\n"
     ]
    }
   ],
   "source": [
    "list1 = ['a', 'b', 'c']\n",
    "list2 = ['d', 'e', 'f']\n",
    "\n",
    "for item in list2:\n",
    "    list1.append(item)\n",
    "print(list1)"
   ]
  },
  {
   "cell_type": "code",
   "execution_count": 108,
   "id": "5988ac69-6263-49fd-bab6-036985bda106",
   "metadata": {},
   "outputs": [
    {
     "name": "stdout",
     "output_type": "stream",
     "text": [
      "['a', 'b', 'c']\n",
      "['d', 'e', 'f']\n",
      "['a', 'b', 'c', 'd', 'e', 'f']\n"
     ]
    }
   ],
   "source": [
    "list1 = ['a', 'b', 'c']\n",
    "list2 = ['d', 'e', 'f']\n",
    "\n",
    "list3 = list1 + list2\n",
    "print(list1)\n",
    "print(list2)\n",
    "print(list3)"
   ]
  },
  {
   "cell_type": "markdown",
   "id": "1042a327-1e7e-4aed-b025-5515b29a6965",
   "metadata": {},
   "source": [
    "# Tuple"
   ]
  },
  {
   "cell_type": "code",
   "execution_count": 110,
   "id": "77638794-ac00-477a-bfd6-0458087199ad",
   "metadata": {},
   "outputs": [],
   "source": [
    "car = (\"Fiat\", \"BMW\", \"Audi\", \"Tesla\", \"Honda\", \"Ford\")"
   ]
  },
  {
   "cell_type": "code",
   "execution_count": 111,
   "id": "dc62020d-272e-41b1-ad99-42e699455031",
   "metadata": {},
   "outputs": [
    {
     "name": "stdout",
     "output_type": "stream",
     "text": [
      "('Fiat', 'BMW', 'Audi', 'Tesla', 'Honda', 'Ford')\n"
     ]
    }
   ],
   "source": [
    "print(car)"
   ]
  },
  {
   "cell_type": "code",
   "execution_count": 112,
   "id": "6d355d91-6429-4688-ad67-de196ecddc13",
   "metadata": {},
   "outputs": [
    {
     "name": "stdout",
     "output_type": "stream",
     "text": [
      "<class 'tuple'>\n"
     ]
    }
   ],
   "source": [
    "print(type(car))"
   ]
  },
  {
   "cell_type": "markdown",
   "id": "74713943-6233-4133-ab78-a416516625ae",
   "metadata": {},
   "source": [
    "### Tuple items are ordered, unchangeable, and allow duplicate values.\n",
    "### Tuple items are indexed, the first item has index [0], the second item has index [1] etc."
   ]
  },
  {
   "cell_type": "code",
   "execution_count": 113,
   "id": "2e0f2742-6e61-4333-9b65-93b96c34dbf5",
   "metadata": {},
   "outputs": [],
   "source": [
    "car = (\"Fiat\", \"BMW\", \"Audi\", \"Tesla\", \"Honda\", \"Ford\")"
   ]
  },
  {
   "cell_type": "code",
   "execution_count": 115,
   "id": "3388edfc-f8c6-440c-89e4-e4c8322e441f",
   "metadata": {},
   "outputs": [
    {
     "name": "stdout",
     "output_type": "stream",
     "text": [
      "('Fiat', 'BMW', 'Audi', 'Tesla', 'Honda', 'Ford', 'Fiat')\n"
     ]
    }
   ],
   "source": [
    "car = (\"Fiat\", \"BMW\", \"Audi\", \"Tesla\", \"Honda\", \"Ford\", \"Fiat\")\n",
    "print(car)"
   ]
  },
  {
   "cell_type": "code",
   "execution_count": 116,
   "id": "72ef9a5c-d900-4677-a849-405939f98032",
   "metadata": {},
   "outputs": [
    {
     "ename": "TypeError",
     "evalue": "'tuple' object does not support item assignment",
     "output_type": "error",
     "traceback": [
      "\u001b[1;31m-------------------------------------------------------\u001b[0m",
      "\u001b[1;31mTypeError\u001b[0m             Traceback (most recent call last)",
      "Cell \u001b[1;32mIn[116], line 1\u001b[0m\n\u001b[1;32m----> 1\u001b[0m \u001b[43mcar\u001b[49m\u001b[43m[\u001b[49m\u001b[38;5;241;43m2\u001b[39;49m\u001b[43m]\u001b[49m \u001b[38;5;241m=\u001b[39m \u001b[38;5;124m\"\u001b[39m\u001b[38;5;124mTata\u001b[39m\u001b[38;5;124m\"\u001b[39m\n",
      "\u001b[1;31mTypeError\u001b[0m: 'tuple' object does not support item assignment"
     ]
    }
   ],
   "source": [
    "car[2] = \"Tata\""
   ]
  },
  {
   "cell_type": "code",
   "execution_count": null,
   "id": "a8b11c3c-3ea2-4c4f-8bb6-9d3b4f81ae4f",
   "metadata": {},
   "outputs": [],
   "source": []
  },
  {
   "cell_type": "markdown",
   "id": "47fa0d47-6b82-47a7-9e1d-ffe70ef0bb45",
   "metadata": {},
   "source": [
    "### You may check the tuple as you check the list"
   ]
  },
  {
   "cell_type": "code",
   "execution_count": 117,
   "id": "d0815a15-bade-4879-882c-760ee611108c",
   "metadata": {},
   "outputs": [],
   "source": [
    "car = (\"Fiat\", \"BMW\", \"Audi\", \"Tesla\", \"Honda\", \"Ford\", \"Fiat\")"
   ]
  },
  {
   "cell_type": "code",
   "execution_count": 118,
   "id": "6e52c5b0-b34f-467b-937d-992b0b94608b",
   "metadata": {},
   "outputs": [
    {
     "name": "stdout",
     "output_type": "stream",
     "text": [
      "('Audi', 'Tesla', 'Honda')\n"
     ]
    }
   ],
   "source": [
    "print(car[2:5])"
   ]
  },
  {
   "cell_type": "code",
   "execution_count": 119,
   "id": "c05b663e-dcb5-4051-9f4f-46a1f63f0d68",
   "metadata": {},
   "outputs": [
    {
     "name": "stdout",
     "output_type": "stream",
     "text": [
      "('Honda', 'Ford', 'Fiat')\n"
     ]
    }
   ],
   "source": [
    "print(car[4:])"
   ]
  },
  {
   "cell_type": "code",
   "execution_count": 120,
   "id": "1fc266fc-948e-4d56-8609-aa634f4989b1",
   "metadata": {},
   "outputs": [
    {
     "name": "stdout",
     "output_type": "stream",
     "text": [
      "('Fiat', 'BMW', 'Audi', 'Tesla')\n"
     ]
    }
   ],
   "source": [
    "print(car[:4])"
   ]
  },
  {
   "cell_type": "code",
   "execution_count": 121,
   "id": "c6285c2e-d6f0-402c-97a1-da87679de4c0",
   "metadata": {},
   "outputs": [
    {
     "name": "stdout",
     "output_type": "stream",
     "text": [
      "('Tesla', 'Honda', 'Ford')\n"
     ]
    }
   ],
   "source": [
    "print(car[-4:-1])"
   ]
  },
  {
   "cell_type": "code",
   "execution_count": 122,
   "id": "078fcf92-f341-42bc-be69-c8a09667a35d",
   "metadata": {},
   "outputs": [
    {
     "ename": "TypeError",
     "evalue": "'tuple' object does not support item assignment",
     "output_type": "error",
     "traceback": [
      "\u001b[1;31m-------------------------------------------------------\u001b[0m",
      "\u001b[1;31mTypeError\u001b[0m             Traceback (most recent call last)",
      "Cell \u001b[1;32mIn[122], line 1\u001b[0m\n\u001b[1;32m----> 1\u001b[0m \u001b[43mcar\u001b[49m\u001b[43m[\u001b[49m\u001b[38;5;241;43m0\u001b[39;49m\u001b[43m]\u001b[49m \u001b[38;5;241m=\u001b[39m \u001b[38;5;124m\"\u001b[39m\u001b[38;5;124mTata\u001b[39m\u001b[38;5;124m\"\u001b[39m\n",
      "\u001b[1;31mTypeError\u001b[0m: 'tuple' object does not support item assignment"
     ]
    }
   ],
   "source": [
    "car[0] = \"Tata\""
   ]
  },
  {
   "cell_type": "code",
   "execution_count": null,
   "id": "268f4342-bdb3-432d-889f-a4a6a69f949b",
   "metadata": {},
   "outputs": [],
   "source": []
  },
  {
   "cell_type": "code",
   "execution_count": null,
   "id": "eefe027a-2c23-438b-8f23-9acfa5f8178e",
   "metadata": {},
   "outputs": [],
   "source": []
  },
  {
   "cell_type": "markdown",
   "id": "f4b466ea-8c03-4462-9dc9-5518c227a14c",
   "metadata": {},
   "source": [
    "### Add and Remove List Items"
   ]
  },
  {
   "cell_type": "code",
   "execution_count": 126,
   "id": "1187bf14-9fcc-4d2c-84f6-a844eb77f606",
   "metadata": {},
   "outputs": [
    {
     "name": "stdout",
     "output_type": "stream",
     "text": [
      "('Fiat', 'BMW', 'Audi', 'Tesla', 'Honda', 'Ford', 'Tata')\n"
     ]
    }
   ],
   "source": [
    "car = (\"Fiat\", \"BMW\", \"Audi\", \"Tesla\", \"Honda\", \"Ford\")\n",
    "car = list(car)\n",
    "car.append(\"Tata\")\n",
    "car = tuple(car)\n",
    "\n",
    "print(car)"
   ]
  },
  {
   "cell_type": "code",
   "execution_count": 129,
   "id": "11ba9282-194c-4a38-a6f2-05b3b23d998b",
   "metadata": {},
   "outputs": [
    {
     "name": "stdout",
     "output_type": "stream",
     "text": [
      "('BMW', 'Audi', 'Tesla', 'Honda', 'Ford')\n"
     ]
    }
   ],
   "source": [
    "car = (\"Fiat\", \"BMW\", \"Audi\", \"Tesla\", \"Honda\", \"Ford\")\n",
    "car = list(car)\n",
    "car.remove(\"Fiat\")\n",
    "car = tuple(car)\n",
    "\n",
    "print(car)"
   ]
  },
  {
   "cell_type": "code",
   "execution_count": 130,
   "id": "b4b824ed-c8df-42e7-96fa-ddca1661b20c",
   "metadata": {},
   "outputs": [
    {
     "name": "stdout",
     "output_type": "stream",
     "text": [
      "('Fiat', 'BMW', 'Audi', 'Tesla', 'Honda', 'Ford', 'Tata')\n"
     ]
    }
   ],
   "source": [
    "car = (\"Fiat\", \"BMW\", \"Audi\", \"Tesla\", \"Honda\", \"Ford\")\n",
    "add = (\"Tata\",)\n",
    "car = car + add\n",
    "\n",
    "print(car)"
   ]
  },
  {
   "cell_type": "code",
   "execution_count": null,
   "id": "0881c316-e1d6-4226-bec6-21cf85458cac",
   "metadata": {},
   "outputs": [],
   "source": []
  },
  {
   "cell_type": "markdown",
   "id": "140a9af5-0ba9-410a-8a85-ddbb59a6bd96",
   "metadata": {},
   "source": [
    "# Set"
   ]
  },
  {
   "cell_type": "code",
   "execution_count": 131,
   "id": "0a523aaf-982c-49b5-96d2-6719dedbd1f5",
   "metadata": {},
   "outputs": [],
   "source": [
    "car = {\"Fiat\", \"BMW\", \"Audi\", \"Tesla\", \"Honda\", \"Ford\"}"
   ]
  },
  {
   "cell_type": "code",
   "execution_count": 132,
   "id": "db8e9200-9a76-4b68-ad60-4a36e7007774",
   "metadata": {},
   "outputs": [
    {
     "name": "stdout",
     "output_type": "stream",
     "text": [
      "{'Ford', 'BMW', 'Audi', 'Tesla', 'Fiat', 'Honda'}\n"
     ]
    }
   ],
   "source": [
    "print(car)"
   ]
  },
  {
   "cell_type": "code",
   "execution_count": 133,
   "id": "7fe72d42-5060-43eb-b986-40e442597b64",
   "metadata": {},
   "outputs": [
    {
     "name": "stdout",
     "output_type": "stream",
     "text": [
      "<class 'set'>\n"
     ]
    }
   ],
   "source": [
    "print(type(car))"
   ]
  },
  {
   "cell_type": "markdown",
   "id": "c0138ddf-0838-4d4e-b91c-d9aa08dfc966",
   "metadata": {},
   "source": [
    "### Set items are unordered, unchangeable, and do not allow duplicate values."
   ]
  },
  {
   "cell_type": "code",
   "execution_count": 135,
   "id": "c72dc0cf-cc07-4106-8561-16834c44244b",
   "metadata": {},
   "outputs": [
    {
     "name": "stdout",
     "output_type": "stream",
     "text": [
      "{'Ford', 'BMW', 'Audi', 'Tesla', 'Fiat', 'Honda'}\n"
     ]
    }
   ],
   "source": [
    "car = {\"Fiat\", \"BMW\", \"Audi\", \"Tesla\", \"Honda\", \"Ford\"}\n",
    "print(car)"
   ]
  },
  {
   "cell_type": "code",
   "execution_count": 136,
   "id": "bdc3e42c-db49-4899-ab6d-f46d8189b8f5",
   "metadata": {},
   "outputs": [
    {
     "name": "stdout",
     "output_type": "stream",
     "text": [
      "{'Ford', 'BMW', 'Audi', 'Tesla', 'Fiat', 'Honda'}\n"
     ]
    }
   ],
   "source": [
    "car = {\"Fiat\", \"BMW\", \"Audi\", \"Tesla\", \"Honda\", \"Ford\", \"Fiat\"}\n",
    "print(car)"
   ]
  },
  {
   "cell_type": "code",
   "execution_count": 139,
   "id": "8381db84-85dd-44ef-ba9c-a93275978506",
   "metadata": {},
   "outputs": [
    {
     "name": "stdout",
     "output_type": "stream",
     "text": [
      "6\n"
     ]
    }
   ],
   "source": [
    "car = {\"Fiat\", \"BMW\", \"Audi\", \"Tesla\", \"Honda\", \"Ford\", \"Fiat\"}\n",
    "print(len(car))"
   ]
  },
  {
   "cell_type": "code",
   "execution_count": 140,
   "id": "f0858889-f5f7-4e22-878d-5393fb89d042",
   "metadata": {},
   "outputs": [
    {
     "name": "stdout",
     "output_type": "stream",
     "text": [
      "{'Ford', 'BMW', 'Audi', 'Tesla', 'Fiat', 'Honda'}\n"
     ]
    }
   ],
   "source": [
    "print(car)"
   ]
  },
  {
   "cell_type": "code",
   "execution_count": 141,
   "id": "8f8e5ca5-1e45-44ae-8900-11a0e9e1771e",
   "metadata": {},
   "outputs": [
    {
     "name": "stdout",
     "output_type": "stream",
     "text": [
      "<class 'set'>\n"
     ]
    }
   ],
   "source": [
    "print(type(car))"
   ]
  },
  {
   "cell_type": "code",
   "execution_count": 142,
   "id": "072e8623-5dbc-491e-a4b5-b389b875ad9d",
   "metadata": {},
   "outputs": [
    {
     "name": "stdout",
     "output_type": "stream",
     "text": [
      "{'Ford', 'Tesla', 'Fiat', 'Honda', 'BMW', 'Audi'}\n"
     ]
    }
   ],
   "source": [
    "car = set((\"Fiat\", \"BMW\", \"Audi\", \"Tesla\", \"Honda\", \"Ford\", \"Fiat\"))\n",
    "print(car)"
   ]
  },
  {
   "cell_type": "markdown",
   "id": "89e4b367-4b83-41e3-a15d-eb29961145a6",
   "metadata": {},
   "source": [
    "### Access Set Items"
   ]
  },
  {
   "cell_type": "code",
   "execution_count": 143,
   "id": "f3246777-31eb-4e3a-84a7-a9a56ea08ba9",
   "metadata": {},
   "outputs": [
    {
     "name": "stdout",
     "output_type": "stream",
     "text": [
      "Ford\n",
      "BMW\n",
      "Audi\n",
      "Tesla\n",
      "Fiat\n",
      "Honda\n"
     ]
    }
   ],
   "source": [
    "car = {\"Fiat\", \"BMW\", \"Audi\", \"Tesla\", \"Honda\", \"Ford\", \"Fiat\"}\n",
    "for x in car:\n",
    "    print(x)"
   ]
  },
  {
   "cell_type": "code",
   "execution_count": 145,
   "id": "7b0969a8-9901-4474-871c-517fc88973e9",
   "metadata": {},
   "outputs": [
    {
     "name": "stdout",
     "output_type": "stream",
     "text": [
      "True\n"
     ]
    }
   ],
   "source": [
    "car = {\"Fiat\", \"BMW\", \"Audi\", \"Tesla\", \"Honda\", \"Ford\", \"Fiat\"}\n",
    "print(\"Fiat\" in car)"
   ]
  },
  {
   "cell_type": "markdown",
   "id": "00643042-1434-4f4f-8728-43eae853f9ca",
   "metadata": {},
   "source": [
    "### List/Tuple/Set application"
   ]
  },
  {
   "cell_type": "code",
   "execution_count": 148,
   "id": "65d1e7a3-228d-4b87-91a5-7f8ea218910f",
   "metadata": {},
   "outputs": [
    {
     "name": "stdout",
     "output_type": "stream",
     "text": [
      "['Ford', 'Tesla', 'Fiat', 'Honda', 'BMW', 'Audi']\n"
     ]
    }
   ],
   "source": [
    "car = [\"Fiat\", \"BMW\", \"Audi\", \"Tesla\", \"Honda\", \"Ford\", \"Fiat\", \"Ford\", \"Tesla\", \"Tesla\"]\n",
    "car = set(car)\n",
    "car = list(car)\n",
    "\n",
    "print(car)"
   ]
  },
  {
   "cell_type": "code",
   "execution_count": null,
   "id": "8a292045-8558-41a9-82a4-0d111701b776",
   "metadata": {},
   "outputs": [],
   "source": []
  },
  {
   "cell_type": "markdown",
   "id": "f11fb07e-2567-4388-ae71-d04f25210447",
   "metadata": {},
   "source": [
    "### Add Set Items"
   ]
  },
  {
   "cell_type": "code",
   "execution_count": 150,
   "id": "8b6be220-7a15-4497-8474-f839a27b28bb",
   "metadata": {},
   "outputs": [
    {
     "name": "stdout",
     "output_type": "stream",
     "text": [
      "{'Ford', 'BMW', 'Audi', 'Tesla', 'Fiat', 'Tata', 'Honda'}\n"
     ]
    }
   ],
   "source": [
    "car = {\"Fiat\", \"BMW\", \"Audi\", \"Tesla\", \"Honda\", \"Ford\", \"Fiat\"}\n",
    "car.add(\"Tata\")\n",
    "print(car)"
   ]
  },
  {
   "cell_type": "code",
   "execution_count": 151,
   "id": "1d5f7128-992a-4d37-bcc9-51cbb1fcadaf",
   "metadata": {},
   "outputs": [
    {
     "name": "stdout",
     "output_type": "stream",
     "text": [
      "{'Ford', 'BMW', 'Audi', 'Tesla', 'Fiat', 'Honda'}\n",
      "{'Tesla', 'Ford', 'Fiat', 'Honda'}\n"
     ]
    }
   ],
   "source": [
    "car1 = {\"Fiat\", \"BMW\", \"Audi\"}\n",
    "car2 = {\"Tesla\", \"Honda\", \"Ford\", \"Fiat\"}\n",
    "\n",
    "car1.update(car2)\n",
    "print(car1)\n",
    "print(car2)"
   ]
  },
  {
   "cell_type": "code",
   "execution_count": null,
   "id": "f13049f2-72c9-4e38-83cc-2e1d6b0dca57",
   "metadata": {},
   "outputs": [],
   "source": []
  },
  {
   "cell_type": "code",
   "execution_count": 152,
   "id": "6c85c5ca-0232-481d-9993-0a8986f0386a",
   "metadata": {},
   "outputs": [
    {
     "name": "stdout",
     "output_type": "stream",
     "text": [
      "{'Tesla', 'Ford', 'Honda'}\n"
     ]
    }
   ],
   "source": [
    "shop1 = {\"Tesla\", \"Honda\", \"Ford\", \"Fiat\"}\n",
    "shop2 = {\"Fiat\", \"BMW\", \"Audi\"}\n",
    "\n",
    "diff = shop1 - shop2\n",
    "print(diff)"
   ]
  },
  {
   "cell_type": "code",
   "execution_count": 154,
   "id": "f0c52990-cfba-49ca-acfe-3ec3b0b86bc7",
   "metadata": {},
   "outputs": [
    {
     "name": "stdout",
     "output_type": "stream",
     "text": [
      "{'Fiat'}\n",
      "{'Tesla', 'Ford', 'Fiat', 'Honda'}\n",
      "{'Fiat', 'BMW', 'Audi'}\n"
     ]
    }
   ],
   "source": [
    "shop1 = {\"Tesla\", \"Honda\", \"Ford\", \"Fiat\"}\n",
    "shop2 = {\"Fiat\", \"BMW\", \"Audi\"}\n",
    "\n",
    "inter = shop1.intersection(shop2)\n",
    "print(inter)\n",
    "print(shop1)\n",
    "print(shop2)"
   ]
  },
  {
   "cell_type": "code",
   "execution_count": 155,
   "id": "3d973e72-26cf-4291-bf0e-dc830970604a",
   "metadata": {},
   "outputs": [
    {
     "name": "stdout",
     "output_type": "stream",
     "text": [
      "{'Ford', 'BMW', 'Audi', 'Tesla', 'Fiat', 'Honda'}\n",
      "{'Tesla', 'Ford', 'Fiat', 'Honda'}\n",
      "{'Fiat', 'BMW', 'Audi'}\n"
     ]
    }
   ],
   "source": [
    "shop1 = {\"Tesla\", \"Honda\", \"Ford\", \"Fiat\"}\n",
    "shop2 = {\"Fiat\", \"BMW\", \"Audi\"}\n",
    "\n",
    "inter = shop1.union(shop2)\n",
    "print(inter)\n",
    "print(shop1)\n",
    "print(shop2)"
   ]
  },
  {
   "cell_type": "markdown",
   "id": "25df2954-7e93-4200-9dbc-3b6e95e38758",
   "metadata": {},
   "source": [
    "# Dictionaries"
   ]
  },
  {
   "cell_type": "code",
   "execution_count": 156,
   "id": "39166850-3e42-42ee-86cc-096e5ab20bff",
   "metadata": {},
   "outputs": [],
   "source": [
    "car = {\n",
    "    \"Brand\" : \"Ford\",\n",
    "    \"Model\" : \"Mustang\",\n",
    "    \"Year\" : 1964\n",
    "}"
   ]
  },
  {
   "cell_type": "code",
   "execution_count": 157,
   "id": "5f1a7d6d-ca1f-4fb3-9af7-d1fafb35b336",
   "metadata": {},
   "outputs": [
    {
     "name": "stdout",
     "output_type": "stream",
     "text": [
      "<class 'dict'>\n"
     ]
    }
   ],
   "source": [
    "print(type(car))"
   ]
  },
  {
   "cell_type": "code",
   "execution_count": 158,
   "id": "a7402f07-cac6-4ad2-ab1e-7aa6daa5eb62",
   "metadata": {},
   "outputs": [
    {
     "name": "stdout",
     "output_type": "stream",
     "text": [
      "{'Brand': 'Ford', 'Model': 'Mustang', 'Year': 1964}\n"
     ]
    }
   ],
   "source": [
    "print(car)"
   ]
  },
  {
   "cell_type": "markdown",
   "id": "ccbfef07-b2ce-4210-bbb4-53a9c7f75792",
   "metadata": {},
   "source": [
    "### Here, the key is \"brand\", \"model\", \"year\" and the value is \"Ford\", \"Mustang\", and 1964\n",
    "### Dictionary is ordered and changeable"
   ]
  },
  {
   "cell_type": "code",
   "execution_count": 159,
   "id": "786df636-f1f8-4755-828e-d725e40b1518",
   "metadata": {},
   "outputs": [
    {
     "name": "stdout",
     "output_type": "stream",
     "text": [
      "Honda\n"
     ]
    }
   ],
   "source": [
    "car = [\"Tesla\", \"Honda\", \"Ford\", \"Fiat\"]\n",
    "print(car[1])"
   ]
  },
  {
   "cell_type": "code",
   "execution_count": 162,
   "id": "590c81f2-9e1c-426a-9f0a-31643b6428e1",
   "metadata": {},
   "outputs": [
    {
     "name": "stdout",
     "output_type": "stream",
     "text": [
      "Ford\n",
      "Mustang\n",
      "1964\n"
     ]
    }
   ],
   "source": [
    "car = {\n",
    "    \"Brand\" : \"Ford\",\n",
    "    \"Model\" : \"Mustang\",\n",
    "    \"Year\" : 1964\n",
    "}\n",
    "\n",
    "print(car[\"Brand\"])\n",
    "print(car[\"Model\"])\n",
    "print(car[\"Year\"])"
   ]
  },
  {
   "cell_type": "code",
   "execution_count": 163,
   "id": "ebce31fa-03be-4b18-af97-45e433af905a",
   "metadata": {},
   "outputs": [
    {
     "name": "stdout",
     "output_type": "stream",
     "text": [
      "3\n"
     ]
    }
   ],
   "source": [
    "print(len(car))"
   ]
  },
  {
   "cell_type": "code",
   "execution_count": 172,
   "id": "03659cb9-8c1f-4db2-b466-1d0f8be88f93",
   "metadata": {},
   "outputs": [
    {
     "name": "stdout",
     "output_type": "stream",
     "text": [
      "dict_keys(['Brand', 'Model', 'Year'])\n"
     ]
    }
   ],
   "source": [
    "car = {\n",
    "    \"Brand\" : \"Ford\",\n",
    "    \"Model\" : \"Mustang\",\n",
    "    \"Year\" : 1964\n",
    "}\n",
    "\n",
    "print(car.keys())"
   ]
  },
  {
   "cell_type": "code",
   "execution_count": 165,
   "id": "ec6d6046-faae-41e6-a529-deea67f8ff5a",
   "metadata": {},
   "outputs": [
    {
     "name": "stdout",
     "output_type": "stream",
     "text": [
      "dict_values(['Ford', 'Mustang', 1964])\n"
     ]
    }
   ],
   "source": [
    "car = {\n",
    "    \"Brand\" : \"Ford\",\n",
    "    \"Model\" : \"Mustang\",\n",
    "    \"Year\" : 1964\n",
    "}\n",
    "\n",
    "print(car.values())"
   ]
  },
  {
   "cell_type": "code",
   "execution_count": 166,
   "id": "ae260512-e32a-434e-a6ab-822321b76da2",
   "metadata": {},
   "outputs": [
    {
     "name": "stdout",
     "output_type": "stream",
     "text": [
      "dict_items([('Brand', 'Ford'), ('Model', 'Mustang'), ('Year', 1964)])\n"
     ]
    }
   ],
   "source": [
    "car = {\n",
    "    \"Brand\" : \"Ford\",\n",
    "    \"Model\" : \"Mustang\",\n",
    "    \"Year\" : 1964\n",
    "}\n",
    "\n",
    "print(car.items())"
   ]
  },
  {
   "cell_type": "code",
   "execution_count": 168,
   "id": "45ae0b3e-9e42-483b-b599-ec31724c0a08",
   "metadata": {},
   "outputs": [
    {
     "name": "stdout",
     "output_type": "stream",
     "text": [
      "{'Brand': 'Ford', 'Model': 'Mustang', 'Year': 1964}\n",
      "{'Brand': 'Fiat', 'Model': 'Mustang', 'Year': 1964}\n"
     ]
    }
   ],
   "source": [
    "car = {\n",
    "    \"Brand\" : \"Ford\",\n",
    "    \"Model\" : \"Mustang\",\n",
    "    \"Year\" : 1964\n",
    "}\n",
    "print(car)\n",
    "car[\"Brand\"] = \"Fiat\"\n",
    "print(car)"
   ]
  },
  {
   "cell_type": "code",
   "execution_count": 169,
   "id": "09b73a94-7aa4-401a-8730-d5d984a5949f",
   "metadata": {},
   "outputs": [
    {
     "name": "stdout",
     "output_type": "stream",
     "text": [
      "{'Brand': 'Ford', 'Model': 'Mustang', 'Year': 1964}\n",
      "{'Brand': 'Ford', 'Model': 'Mustang', 'Year': 1964, 'Color': 'Black'}\n"
     ]
    }
   ],
   "source": [
    "car = {\n",
    "    \"Brand\" : \"Ford\",\n",
    "    \"Model\" : \"Mustang\",\n",
    "    \"Year\" : 1964\n",
    "}\n",
    "\n",
    "print(car)\n",
    "car[\"Color\"] = \"Black\"\n",
    "print(car)"
   ]
  },
  {
   "cell_type": "code",
   "execution_count": 170,
   "id": "6b058319-7cf0-4caa-bf19-acce68aa72fc",
   "metadata": {},
   "outputs": [
    {
     "name": "stdout",
     "output_type": "stream",
     "text": [
      "{'Brand': 'Ford', 'Model': 'Mustang', 'Year': 1964}\n",
      "{'Brand': 'Ford', 'Model': 'Mustang', 'Year': 1964, 'Color': 'Black'}\n"
     ]
    }
   ],
   "source": [
    "car = {\n",
    "    \"Brand\" : \"Ford\",\n",
    "    \"Model\" : \"Mustang\",\n",
    "    \"Year\" : 1964\n",
    "}\n",
    "\n",
    "print(car)\n",
    "car.update({\"Color\": \"Black\"})\n",
    "print(car)"
   ]
  },
  {
   "cell_type": "code",
   "execution_count": 1,
   "id": "4a424bef-193a-4c62-84a4-e61b1cbce9a5",
   "metadata": {},
   "outputs": [
    {
     "name": "stdout",
     "output_type": "stream",
     "text": [
      "{'Brand': 'Ford', 'Model': 'Mustang', 'Year': 1964}\n",
      "{'Brand': 'Ford', 'Year': 1964}\n"
     ]
    }
   ],
   "source": [
    "car = {\n",
    "    \"Brand\" : \"Ford\",\n",
    "    \"Model\" : \"Mustang\",\n",
    "    \"Year\" : 1964\n",
    "}\n",
    "\n",
    "print(car)\n",
    "car.pop(\"Model\")\n",
    "print(car)"
   ]
  },
  {
   "cell_type": "code",
   "execution_count": 2,
   "id": "09f73463-cc57-49ae-b398-073b13695242",
   "metadata": {},
   "outputs": [
    {
     "name": "stdout",
     "output_type": "stream",
     "text": [
      "{'Brand': 'Ford', 'Model': 'Mustang', 'Year': 1964}\n",
      "{'Brand': 'Ford', 'Model': 'Mustang'}\n"
     ]
    }
   ],
   "source": [
    "car = {\n",
    "    \"Brand\" : \"Ford\",\n",
    "    \"Model\" : \"Mustang\",\n",
    "    \"Year\" : 1964\n",
    "}\n",
    "\n",
    "print(car)\n",
    "car.popitem()\n",
    "print(car)"
   ]
  },
  {
   "cell_type": "code",
   "execution_count": 3,
   "id": "e0a81271-2024-4c08-a7a3-73476bbed94e",
   "metadata": {},
   "outputs": [
    {
     "name": "stdout",
     "output_type": "stream",
     "text": [
      "{'Brand': 'Ford', 'Model': 'Mustang', 'Year': 1964}\n",
      "{'Model': 'Mustang', 'Year': 1964}\n"
     ]
    }
   ],
   "source": [
    "car = {\n",
    "    \"Brand\" : \"Ford\",\n",
    "    \"Model\" : \"Mustang\",\n",
    "    \"Year\" : 1964\n",
    "}\n",
    "\n",
    "print(car)\n",
    "del car[\"Brand\"]\n",
    "print(car)"
   ]
  },
  {
   "cell_type": "code",
   "execution_count": null,
   "id": "50e36d01-3080-4d53-aafa-2adfaf52539a",
   "metadata": {},
   "outputs": [],
   "source": []
  },
  {
   "cell_type": "code",
   "execution_count": null,
   "id": "318a9682-a1ae-478e-9869-96114a119f37",
   "metadata": {},
   "outputs": [],
   "source": []
  },
  {
   "cell_type": "markdown",
   "id": "35e02253-5e02-43d3-903c-79000d07449f",
   "metadata": {},
   "source": [
    "### Nested Dictionaries and Lists"
   ]
  },
  {
   "cell_type": "code",
   "execution_count": 8,
   "id": "0ad6d6fe-737a-49e8-9894-5c3e6eadbf02",
   "metadata": {},
   "outputs": [],
   "source": [
    "car = {\n",
    "    \"Brand\" : \"Ford\",\n",
    "    \"Model\" : \"Mustang\",\n",
    "    \"Year\" : 1964\n",
    "}"
   ]
  },
  {
   "cell_type": "code",
   "execution_count": 10,
   "id": "dd2b4f5e-4559-4874-98fd-162b7f4ae9a5",
   "metadata": {},
   "outputs": [
    {
     "name": "stdout",
     "output_type": "stream",
     "text": [
      "<class 'str'>\n"
     ]
    }
   ],
   "source": [
    "print(type(car[\"Brand\"]))"
   ]
  },
  {
   "cell_type": "code",
   "execution_count": 4,
   "id": "f7d392a8-3c88-4b1a-8264-349adb15bc35",
   "metadata": {},
   "outputs": [],
   "source": [
    "student = {\n",
    "    \"Asif\": {\"Class\": 12, \"Major\": \"CSE\", \"Section\": \"A\"},\n",
    "    \"Dipon\": {\"Class\": 12, \"Major\": \"EEE\", \"Section\": \"B\"}\n",
    "}"
   ]
  },
  {
   "cell_type": "code",
   "execution_count": 7,
   "id": "09c84d6f-7f5f-4c55-aa4b-888c3905dbc7",
   "metadata": {},
   "outputs": [
    {
     "name": "stdout",
     "output_type": "stream",
     "text": [
      "<class 'dict'>\n"
     ]
    }
   ],
   "source": [
    "print(type(student[\"Dipon\"]))"
   ]
  },
  {
   "cell_type": "code",
   "execution_count": 15,
   "id": "a41b6a05-9261-4ffb-bfdc-fe317abc90be",
   "metadata": {},
   "outputs": [
    {
     "name": "stdout",
     "output_type": "stream",
     "text": [
      "A\n"
     ]
    }
   ],
   "source": [
    "print(student[\"Asif\"][\"Section\"])"
   ]
  },
  {
   "cell_type": "code",
   "execution_count": 17,
   "id": "57e36d81-6fca-4a06-9029-67c99d1cdf5b",
   "metadata": {},
   "outputs": [
    {
     "name": "stdout",
     "output_type": "stream",
     "text": [
      "['Fiat', 'Ford', 'Audi', ['BMW', 'Tesla']]\n"
     ]
    }
   ],
   "source": [
    "car = [\"Fiat\", \"Ford\", \"Audi\", [\"BMW\", \"Tesla\"]]\n",
    "print(car)"
   ]
  },
  {
   "cell_type": "code",
   "execution_count": 23,
   "id": "1b3e6fd0-de6e-481f-b4b0-0e34db6a3c9f",
   "metadata": {},
   "outputs": [
    {
     "name": "stdout",
     "output_type": "stream",
     "text": [
      "Tesla\n"
     ]
    }
   ],
   "source": [
    "print(car[3][1])"
   ]
  },
  {
   "cell_type": "code",
   "execution_count": 24,
   "id": "bb4b793f-3f47-4a67-800d-2d3a2cb730da",
   "metadata": {},
   "outputs": [],
   "source": [
    "student = {\n",
    "    \"Asif\": {\"Class\": 12, \"Major\": \"CSE\", \"Section\": \"A\"},\n",
    "    \"Dipon\": {\"Class\": 12, \"Major\": \"EEE\", \"Section\": \"B\"},\n",
    "    \"Tomal\": [12, \"ME\", \"C\"]\n",
    "}"
   ]
  },
  {
   "cell_type": "code",
   "execution_count": 27,
   "id": "ea477b03-5192-400c-a7b3-7007bb91980d",
   "metadata": {},
   "outputs": [
    {
     "name": "stdout",
     "output_type": "stream",
     "text": [
      "<class 'list'>\n"
     ]
    }
   ],
   "source": [
    "print( type(student[\"Tomal\"]))"
   ]
  },
  {
   "cell_type": "code",
   "execution_count": 29,
   "id": "9e804881-25a8-410a-9043-eb18c5248dac",
   "metadata": {},
   "outputs": [
    {
     "name": "stdout",
     "output_type": "stream",
     "text": [
      "ME\n"
     ]
    }
   ],
   "source": [
    "print(student[\"Tomal\"] [1])"
   ]
  },
  {
   "cell_type": "code",
   "execution_count": 34,
   "id": "76088810-176b-48bf-959f-62a731d584a0",
   "metadata": {},
   "outputs": [],
   "source": [
    "info = {\n",
    "  \"first_name\": \"John\",\n",
    "  \"last_name\": \"Smith\",\n",
    "  \"is_alive\": True,\n",
    "  \"age\": 27,\n",
    "  \"address\": {\n",
    "    \"street_address\": \"21 2nd Street\",\n",
    "    \"city\": \"New York\",\n",
    "    \"state\": \"NY\",\n",
    "    \"postal_code\": \"10021-3100\"\n",
    "  },\n",
    "  \"phone_numbers\": [\n",
    "    {\n",
    "      \"type\": \"home\",\n",
    "      \"number\": \"212 555-1234\"\n",
    "    },\n",
    "    {\n",
    "      \"type\": \"office\",\n",
    "      \"number\": \"646 555-4567\"\n",
    "    }\n",
    "  ],\n",
    "  \"children\": [\n",
    "    \"Catherine\",\n",
    "    \"Thomas\",\n",
    "    \"Trevor\"\n",
    "  ],\n",
    "  \"spouse\": None\n",
    "}"
   ]
  },
  {
   "cell_type": "code",
   "execution_count": 45,
   "id": "a7c21ccd-31b4-4f79-8b5c-8916f6f8e4cb",
   "metadata": {},
   "outputs": [
    {
     "name": "stdout",
     "output_type": "stream",
     "text": [
      "646 555-4567\n"
     ]
    }
   ],
   "source": [
    "print(info[\"phone_numbers\"][1][\"number\"])"
   ]
  },
  {
   "cell_type": "code",
   "execution_count": 47,
   "id": "b146ee00-de97-461a-a18f-509510db2221",
   "metadata": {},
   "outputs": [],
   "source": [
    "info[\"children\"][0] = \"Asif\"\n",
    "info[\"children\"][1] = \"Arif\"\n",
    "info[\"children\"][2] = \"Arafat\""
   ]
  },
  {
   "cell_type": "code",
   "execution_count": 48,
   "id": "00a013b5-e974-40fe-957f-4f57aed04c84",
   "metadata": {},
   "outputs": [
    {
     "name": "stdout",
     "output_type": "stream",
     "text": [
      "{'first_name': 'John', 'last_name': 'Smith', 'is_alive': True, 'age': 27, 'address': {'street_address': '21 2nd Street', 'city': 'New York', 'state': 'NY', 'postal_code': '10021-3100'}, 'phone_numbers': [{'type': 'home', 'number': '212 555-1234'}, {'type': 'office', 'number': '646 555-4567'}], 'children': ['Asif', 'Arif', 'Arafat'], 'spouse': None}\n"
     ]
    }
   ],
   "source": [
    "print(info)"
   ]
  },
  {
   "cell_type": "code",
   "execution_count": null,
   "id": "2a204b27-6e0e-488f-b215-e941af38bf2c",
   "metadata": {},
   "outputs": [],
   "source": []
  },
  {
   "cell_type": "code",
   "execution_count": null,
   "id": "4de746f7-e3c9-443c-9326-9aa53fa2bcd4",
   "metadata": {},
   "outputs": [],
   "source": []
  },
  {
   "cell_type": "markdown",
   "id": "17c28a1d-a066-41e8-9d9e-6464c9856d46",
   "metadata": {},
   "source": [
    "# If ... Else\n",
    "\n",
    "### if (condition):\n",
    "### &emsp; Code"
   ]
  },
  {
   "cell_type": "code",
   "execution_count": 51,
   "id": "cdfcfaeb-5adc-4e4b-98f3-0ee8974a38e1",
   "metadata": {},
   "outputs": [
    {
     "name": "stdout",
     "output_type": "stream",
     "text": [
      "a is greater than b\n"
     ]
    }
   ],
   "source": [
    "a = 7\n",
    "b = 5\n",
    "\n",
    "if a>b:\n",
    "    print(\"a is greater than b\")"
   ]
  },
  {
   "cell_type": "markdown",
   "id": "6a65b328-d1b1-4ebc-90d4-9c9b487062ab",
   "metadata": {},
   "source": [
    "### Indentation is important"
   ]
  },
  {
   "cell_type": "code",
   "execution_count": 55,
   "id": "1744915f-15fa-4fd1-80de-b93b921e0a2a",
   "metadata": {},
   "outputs": [
    {
     "name": "stdout",
     "output_type": "stream",
     "text": [
      "This is outside if Block\n"
     ]
    }
   ],
   "source": [
    "a = 5\n",
    "b = 7\n",
    "\n",
    "if a>b:\n",
    "    print(\"a is greater than b\")\n",
    "    print(\"Hello World\")\n",
    "\n",
    "print(\"This is outside if Block\")"
   ]
  },
  {
   "cell_type": "code",
   "execution_count": 56,
   "id": "b6de78b3-e122-4a94-a84c-cf51e4a48bc5",
   "metadata": {},
   "outputs": [
    {
     "name": "stdout",
     "output_type": "stream",
     "text": [
      "b is greater than a\n"
     ]
    }
   ],
   "source": [
    "a = 5\n",
    "b = 7\n",
    "\n",
    "if a>b:\n",
    "    print(\"a is greater than b\")\n",
    "else:\n",
    "    print(\"b is greater than a\")"
   ]
  },
  {
   "cell_type": "code",
   "execution_count": 57,
   "id": "6ed3da38-ac08-49d3-b146-92b36a458b04",
   "metadata": {},
   "outputs": [
    {
     "name": "stdout",
     "output_type": "stream",
     "text": [
      "b is greater than a\n"
     ]
    }
   ],
   "source": [
    "a = 5\n",
    "b = 7\n",
    "\n",
    "if a>b:\n",
    "    print(\"a is greater than b\")\n",
    "elif a == b:\n",
    "    print(\"a is equal to b\")\n",
    "else:\n",
    "    print(\"b is greater than a\")"
   ]
  },
  {
   "cell_type": "markdown",
   "id": "ff4d8de1-d458-4ac3-b32a-ae8f4609b4a4",
   "metadata": {},
   "source": [
    "### We can write the statement in different way."
   ]
  },
  {
   "cell_type": "code",
   "execution_count": 59,
   "id": "0ea5d9e6-1282-4b26-b949-0467dbf70dd6",
   "metadata": {},
   "outputs": [
    {
     "name": "stdout",
     "output_type": "stream",
     "text": [
      "b is greater than a\n"
     ]
    }
   ],
   "source": [
    "a = 5\n",
    "b = 7\n",
    "\n",
    "if a>b:\n",
    "    print(\"a is greater than b\")\n",
    "else:\n",
    "    print(\"b is greater than a\")"
   ]
  },
  {
   "cell_type": "code",
   "execution_count": 61,
   "id": "34fa2eb0-c814-43cd-ac5d-ca82be06559b",
   "metadata": {},
   "outputs": [
    {
     "name": "stdout",
     "output_type": "stream",
     "text": [
      "b is greater than a\n"
     ]
    }
   ],
   "source": [
    "a = 5\n",
    "b = 7\n",
    "\n",
    "print(\"a is greater than b\") if a>b else print(\"b is greater than a\")"
   ]
  },
  {
   "cell_type": "code",
   "execution_count": null,
   "id": "9a2580e2-548b-4303-87fa-50ae26fd310c",
   "metadata": {},
   "outputs": [],
   "source": []
  },
  {
   "cell_type": "code",
   "execution_count": null,
   "id": "8c60a556-07fe-4e36-8cfc-6c32ba1196c4",
   "metadata": {},
   "outputs": [],
   "source": []
  },
  {
   "cell_type": "markdown",
   "id": "53e0e6ac-7e55-4782-a99b-ac871c51f7f2",
   "metadata": {},
   "source": [
    "### We can use and/or/not operation.\n",
    "\n",
    "False and False = False <br>\n",
    "False and True = False <br>\n",
    "True and False = False <br>\n",
    "True and True = True <br>"
   ]
  },
  {
   "cell_type": "code",
   "execution_count": 66,
   "id": "7f606638-4f7b-4e92-9b83-454b49b8a144",
   "metadata": {},
   "outputs": [
    {
     "name": "stdout",
     "output_type": "stream",
     "text": [
      "c is the largest\n"
     ]
    }
   ],
   "source": [
    "a = 100\n",
    "b = 27\n",
    "c = 500\n",
    "\n",
    "if a>b and a>c:\n",
    "    print(\"a is the largest number\")\n",
    "elif b>a and b>c:\n",
    "    print(\"b is the largest number\")\n",
    "else:\n",
    "    print(\"c is the largest\")"
   ]
  },
  {
   "cell_type": "markdown",
   "id": "7493a226-2490-4b97-b758-2145a91b9d8a",
   "metadata": {},
   "source": [
    "False or False = False <br>\n",
    "False or True = True <br>\n",
    "True or False = True <br>\n",
    "True or True = True <br>"
   ]
  },
  {
   "cell_type": "code",
   "execution_count": null,
   "id": "626ad656-6a3d-4915-8dae-34da1e9a39a9",
   "metadata": {},
   "outputs": [],
   "source": []
  },
  {
   "cell_type": "code",
   "execution_count": null,
   "id": "dcede62c-d208-4e04-ae5a-7a61458277cd",
   "metadata": {},
   "outputs": [],
   "source": []
  },
  {
   "cell_type": "markdown",
   "id": "533f7eb6-748a-4d47-8478-4ff369bc3934",
   "metadata": {},
   "source": [
    "### Nested IF"
   ]
  },
  {
   "cell_type": "code",
   "execution_count": 72,
   "id": "46a7f4f7-93b3-499a-aff8-bbe5221bb925",
   "metadata": {},
   "outputs": [
    {
     "name": "stdout",
     "output_type": "stream",
     "text": [
      "You are selected for the Head of the Department\n"
     ]
    }
   ],
   "source": [
    "city = \"Chittagong\"\n",
    "graduation = True\n",
    "experienced = True\n",
    "publication = 10\n",
    "\n",
    "if city == \"Chittagong\":\n",
    "    if graduation:\n",
    "        if experienced:\n",
    "            if publication > 5:\n",
    "                print(\"You are selected for the Head of the Department\")\n",
    "            else:\n",
    "                print(\"You are selected for the Senior post\")\n",
    "                \n",
    "        else:\n",
    "            print(\"You are selected for the Junior post\")\n",
    "    else:\n",
    "        print(\"You are not selected for the post\")\n",
    "else:\n",
    "    print(\"You are not selected for the post because of the city\")\n",
    "            \n",
    "        "
   ]
  },
  {
   "cell_type": "code",
   "execution_count": null,
   "id": "dea1b5ad-fa5f-4f25-b9f9-8045f21a1bfe",
   "metadata": {},
   "outputs": [],
   "source": []
  },
  {
   "cell_type": "code",
   "execution_count": null,
   "id": "0ba9eb81-96bf-4167-b1b0-fd92b281d07a",
   "metadata": {},
   "outputs": [],
   "source": []
  },
  {
   "cell_type": "markdown",
   "id": "e6b28c36-af03-4c1c-9efd-0fbc8147a157",
   "metadata": {},
   "source": [
    "# Python Loop"
   ]
  },
  {
   "cell_type": "code",
   "execution_count": 77,
   "id": "fc4192f9-5591-4d4b-8eb1-f7a956070997",
   "metadata": {},
   "outputs": [
    {
     "name": "stdout",
     "output_type": "stream",
     "text": [
      "<class 'range'>\n"
     ]
    }
   ],
   "source": [
    "print(type(range(1,10)))"
   ]
  },
  {
   "cell_type": "code",
   "execution_count": 79,
   "id": "6b552b80-5fe9-4084-86ac-70d51de961b1",
   "metadata": {},
   "outputs": [
    {
     "name": "stdout",
     "output_type": "stream",
     "text": [
      "3\n",
      "4\n",
      "5\n",
      "6\n",
      "7\n",
      "8\n",
      "9\n"
     ]
    }
   ],
   "source": [
    "for i in range(3,10):\n",
    "    print(i)"
   ]
  },
  {
   "cell_type": "code",
   "execution_count": 83,
   "id": "f34c4ebf-422e-4e38-88ae-a7a5b7e19897",
   "metadata": {},
   "outputs": [
    {
     "name": "stdout",
     "output_type": "stream",
     "text": [
      "Hello World\n",
      "Hello World\n",
      "Hello World\n",
      "Hello World\n",
      "Hello World\n",
      "Hello World\n",
      "Hello World\n",
      "Hello World\n",
      "Hello World\n",
      "Hello World\n"
     ]
    }
   ],
   "source": [
    "for i in range(1, 11):\n",
    "    print(\"Hello World\")"
   ]
  },
  {
   "cell_type": "code",
   "execution_count": 86,
   "id": "cf81c574-4be1-4122-904b-e462c848af01",
   "metadata": {},
   "outputs": [
    {
     "name": "stdout",
     "output_type": "stream",
     "text": [
      "1\n",
      "4\n",
      "7\n",
      "10\n",
      "13\n",
      "16\n",
      "19\n",
      "22\n",
      "25\n",
      "28\n"
     ]
    }
   ],
   "source": [
    "for i in range(1, 30, 3):\n",
    "    print(i)"
   ]
  },
  {
   "cell_type": "code",
   "execution_count": 87,
   "id": "0961d5ce-bcf6-47ad-bd58-c57864053acf",
   "metadata": {},
   "outputs": [
    {
     "name": "stdout",
     "output_type": "stream",
     "text": [
      "30\n",
      "27\n",
      "24\n",
      "21\n",
      "18\n",
      "15\n",
      "12\n",
      "9\n",
      "6\n",
      "3\n"
     ]
    }
   ],
   "source": [
    "for i in range(30, 1, -3):\n",
    "    print(i)"
   ]
  },
  {
   "cell_type": "code",
   "execution_count": 88,
   "id": "9e92b598-0b84-4194-83d6-91c8360d0d71",
   "metadata": {},
   "outputs": [],
   "source": [
    "for i in range(1, 30, -3):\n",
    "    print(i)"
   ]
  },
  {
   "cell_type": "code",
   "execution_count": 111,
   "id": "b0c21761-8afa-4083-98bd-1a0d2a6d2fd1",
   "metadata": {},
   "outputs": [
    {
     "name": "stdout",
     "output_type": "stream",
     "text": [
      "A\n",
      "s\n",
      "i\n",
      "f\n",
      " \n",
      "I\n",
      "q\n",
      "b\n",
      "a\n",
      "l\n"
     ]
    }
   ],
   "source": [
    "name = \"Asif Iqbal\"\n",
    "\n",
    "for i in range(0, len(name)):   ## range(0, 10)\n",
    "    print(name[i])"
   ]
  },
  {
   "cell_type": "markdown",
   "id": "00f78983-0cdc-431b-96de-131884438f6d",
   "metadata": {},
   "source": [
    "### Combine Condition with Loop"
   ]
  },
  {
   "cell_type": "code",
   "execution_count": 95,
   "id": "f7ca91bc-d711-4f21-924b-7029ec225988",
   "metadata": {},
   "outputs": [],
   "source": [
    "players = [\"Sakib\", \"Tamim\", \"Mushfiq\", \"Liton\", \"Soummo\", \"Taskin\"]\n",
    "\n",
    "name = \"Tamim\"\n",
    "\n",
    "for player in players:\n",
    "    # print(player)\n",
    "    if name == player:\n",
    "        print(\"You are selected\")"
   ]
  },
  {
   "cell_type": "code",
   "execution_count": 98,
   "id": "bac12e97-f973-431b-94da-2703d4c30c2a",
   "metadata": {},
   "outputs": [
    {
     "name": "stdout",
     "output_type": "stream",
     "text": [
      "You are selected\n"
     ]
    }
   ],
   "source": [
    "players = [\"Sakib\", \"Tamim\", \"Mushfiq\", \"Liton\", \"Soummo\", \"Taskin\"]\n",
    "\n",
    "name = \"Tamim\"\n",
    "flag = False\n",
    "\n",
    "for player in players:\n",
    "    if name == player:\n",
    "        print(\"You are selected\")\n",
    "        flag = True\n",
    "\n",
    "\n",
    "if flag == False:\n",
    "    print(\"You are not selected\")"
   ]
  },
  {
   "cell_type": "code",
   "execution_count": null,
   "id": "7571f1dc-334f-4a3c-a5bb-22d654f2eff8",
   "metadata": {},
   "outputs": [],
   "source": []
  },
  {
   "cell_type": "markdown",
   "id": "58b07579-e866-4d03-8140-0f24690ad47c",
   "metadata": {},
   "source": [
    "### Nested For Loop"
   ]
  },
  {
   "cell_type": "code",
   "execution_count": 101,
   "id": "c3795be5-6a3b-4a01-91d6-51a2056efbd9",
   "metadata": {},
   "outputs": [
    {
     "name": "stdout",
     "output_type": "stream",
     "text": [
      "Sakib\n",
      "S\n",
      "a\n",
      "k\n",
      "i\n",
      "b\n",
      "Tamim\n",
      "T\n",
      "a\n",
      "m\n",
      "i\n",
      "m\n",
      "Mushfiq\n",
      "M\n",
      "u\n",
      "s\n",
      "h\n",
      "f\n",
      "i\n",
      "q\n"
     ]
    }
   ],
   "source": [
    "players = [\"Sakib\", \"Tamim\", \"Mushfiq\"]\n",
    "\n",
    "for player in players:\n",
    "    print(player)\n",
    "    for char in player:\n",
    "        print(char)"
   ]
  },
  {
   "cell_type": "code",
   "execution_count": 105,
   "id": "bbfd5212-ff4f-4a15-9684-9e71e6738fda",
   "metadata": {},
   "outputs": [
    {
     "name": "stdout",
     "output_type": "stream",
     "text": [
      "1 * 1 = 1\n",
      "1 * 2 = 2\n",
      "1 * 3 = 3\n",
      "1 * 4 = 4\n",
      "1 * 5 = 5\n",
      "1 * 6 = 6\n",
      "1 * 7 = 7\n",
      "1 * 8 = 8\n",
      "1 * 9 = 9\n",
      "1 * 10 = 10\n",
      "----------------------\n",
      "3 * 1 = 3\n",
      "3 * 2 = 6\n",
      "3 * 3 = 9\n",
      "3 * 4 = 12\n",
      "3 * 5 = 15\n",
      "3 * 6 = 18\n",
      "3 * 7 = 21\n",
      "3 * 8 = 24\n",
      "3 * 9 = 27\n",
      "3 * 10 = 30\n",
      "----------------------\n",
      "5 * 1 = 5\n",
      "5 * 2 = 10\n",
      "5 * 3 = 15\n",
      "5 * 4 = 20\n",
      "5 * 5 = 25\n",
      "5 * 6 = 30\n",
      "5 * 7 = 35\n",
      "5 * 8 = 40\n",
      "5 * 9 = 45\n",
      "5 * 10 = 50\n",
      "----------------------\n",
      "7 * 1 = 7\n",
      "7 * 2 = 14\n",
      "7 * 3 = 21\n",
      "7 * 4 = 28\n",
      "7 * 5 = 35\n",
      "7 * 6 = 42\n",
      "7 * 7 = 49\n",
      "7 * 8 = 56\n",
      "7 * 9 = 63\n",
      "7 * 10 = 70\n",
      "----------------------\n",
      "9 * 1 = 9\n",
      "9 * 2 = 18\n",
      "9 * 3 = 27\n",
      "9 * 4 = 36\n",
      "9 * 5 = 45\n",
      "9 * 6 = 54\n",
      "9 * 7 = 63\n",
      "9 * 8 = 72\n",
      "9 * 9 = 81\n",
      "9 * 10 = 90\n",
      "----------------------\n"
     ]
    }
   ],
   "source": [
    "for i in range(1,10, 2):\n",
    "    for j in range(1, 11):\n",
    "        print(f\"{i} * {j} = {i*j}\")\n",
    "    print(\"----------------------\")"
   ]
  },
  {
   "cell_type": "markdown",
   "id": "1e736544-81e7-4bf9-9547-05cbcfc40acf",
   "metadata": {},
   "source": [
    "### While Loop"
   ]
  },
  {
   "cell_type": "code",
   "execution_count": 113,
   "id": "8e8d2f8b-7a90-4da7-aff0-e24ea8c10401",
   "metadata": {},
   "outputs": [
    {
     "name": "stdout",
     "output_type": "stream",
     "text": [
      "1\n",
      "2\n",
      "3\n",
      "4\n",
      "5\n"
     ]
    }
   ],
   "source": [
    "i = 1\n",
    "while i < 6:\n",
    "    print(i)\n",
    "    i += 1  ## Without this, We may fall in Infinity Loop"
   ]
  },
  {
   "cell_type": "code",
   "execution_count": null,
   "id": "d72f4c32-691c-44d5-b666-36911449191d",
   "metadata": {},
   "outputs": [],
   "source": []
  },
  {
   "cell_type": "markdown",
   "id": "e906fe6a-8667-46cf-9f93-6cb74d20886e",
   "metadata": {},
   "source": [
    "# List Comprehension"
   ]
  },
  {
   "cell_type": "code",
   "execution_count": 115,
   "id": "b4a83c98-4292-4048-9589-73fee1416bf0",
   "metadata": {},
   "outputs": [
    {
     "name": "stdout",
     "output_type": "stream",
     "text": [
      "['Fiat', 'Tata', 'Toyota', 'Audi', 'Volkswagen']\n"
     ]
    }
   ],
   "source": [
    "cars = [\"Fiat\", \"Ford\", \"BMW\", \"Tata\", \"Toyota\", \"Audi\", \"Volkswagen\"]\n",
    "\n",
    "new_list = []\n",
    "for car in cars:\n",
    "    if 'a' in car or 'A' in car:\n",
    "        new_list.append(car)\n",
    "\n",
    "print(new_list)"
   ]
  },
  {
   "cell_type": "code",
   "execution_count": 116,
   "id": "a8852f3f-cc13-49dc-9e8f-a638e18493cd",
   "metadata": {},
   "outputs": [
    {
     "name": "stdout",
     "output_type": "stream",
     "text": [
      "['Fiat', 'Tata', 'Toyota', 'Audi', 'Volkswagen']\n"
     ]
    }
   ],
   "source": [
    "cars = [\"Fiat\", \"Ford\", \"BMW\", \"Tata\", \"Toyota\", \"Audi\", \"Volkswagen\"]\n",
    "\n",
    "new_list = [car for car in cars if 'a' in car or 'A' in car]\n",
    "\n",
    "print(new_list)"
   ]
  },
  {
   "cell_type": "code",
   "execution_count": 117,
   "id": "1c6238f9-f02a-4f96-bc75-b91e2affcd7b",
   "metadata": {},
   "outputs": [
    {
     "name": "stdout",
     "output_type": "stream",
     "text": [
      "[6, 7, 8, 9, 10]\n"
     ]
    }
   ],
   "source": [
    "new_number = []\n",
    "for i in range(1,11):\n",
    "    if i>5:\n",
    "        new_number.append(i)\n",
    "\n",
    "print(new_number)"
   ]
  },
  {
   "cell_type": "code",
   "execution_count": 118,
   "id": "dbc69894-88c2-4e1c-bcb1-3301f590d344",
   "metadata": {},
   "outputs": [
    {
     "name": "stdout",
     "output_type": "stream",
     "text": [
      "[6, 7, 8, 9, 10]\n"
     ]
    }
   ],
   "source": [
    "new_numeber = [i for i in range(1,11) if i>5]\n",
    "\n",
    "print(new_number)"
   ]
  },
  {
   "cell_type": "code",
   "execution_count": null,
   "id": "40fb2b63-7e63-43f6-ba5e-d6e828dbcfd6",
   "metadata": {},
   "outputs": [],
   "source": []
  },
  {
   "cell_type": "code",
   "execution_count": null,
   "id": "ca076e2a-6c60-4351-8500-8d773544ce73",
   "metadata": {},
   "outputs": [],
   "source": []
  },
  {
   "cell_type": "markdown",
   "id": "ad1a96fe-7fa9-466d-9e60-1a65b4bca2fb",
   "metadata": {},
   "source": [
    "# Functions\n",
    "### A function is a block of code that performs a specific task."
   ]
  },
  {
   "cell_type": "code",
   "execution_count": 134,
   "id": "518fe365-281f-4ae3-aeb7-828609494dff",
   "metadata": {},
   "outputs": [],
   "source": [
    "def print_statement():\n",
    "    print(\"Hello World\")\n",
    "    print(\"This is Python programming class\")"
   ]
  },
  {
   "cell_type": "code",
   "execution_count": 135,
   "id": "bec83b2b-7f45-485e-a92c-db456728b586",
   "metadata": {},
   "outputs": [
    {
     "name": "stdout",
     "output_type": "stream",
     "text": [
      "This is before calling a function\n",
      "Hello World\n",
      "This is Python programming class\n",
      "This is after calling a function\n"
     ]
    }
   ],
   "source": [
    "print(\"This is before calling a function\")\n",
    "print_statement()\n",
    "print(\"This is after calling a function\")"
   ]
  },
  {
   "cell_type": "code",
   "execution_count": 56,
   "id": "ab913e6b-2e9a-4ae4-b4a5-415c4ddaa86d",
   "metadata": {},
   "outputs": [],
   "source": [
    "def summation(x,y):\n",
    "    return x+y"
   ]
  },
  {
   "cell_type": "code",
   "execution_count": 57,
   "id": "0bcdc440-96f8-4eaf-9064-93fc6a7180b7",
   "metadata": {},
   "outputs": [
    {
     "name": "stdout",
     "output_type": "stream",
     "text": [
      "900\n"
     ]
    }
   ],
   "source": [
    "a = 10\n",
    "b = 20\n",
    "new_sum = summation(a, b)\n",
    "\n",
    "new_sum = new_sum**2\n",
    "print(new_sum)"
   ]
  },
  {
   "cell_type": "code",
   "execution_count": null,
   "id": "8a42e1a5-f9ae-47ac-a1d3-59070efb82a0",
   "metadata": {},
   "outputs": [],
   "source": []
  },
  {
   "cell_type": "code",
   "execution_count": 147,
   "id": "905f8ccd-6ede-4713-a97e-4ef2c4af55ae",
   "metadata": {},
   "outputs": [
    {
     "name": "stdout",
     "output_type": "stream",
     "text": [
      "14.422205101855956\n"
     ]
    }
   ],
   "source": [
    "x1 = 10\n",
    "y1 = 15\n",
    "x2 = 2\n",
    "y2 = 3\n",
    "\n",
    "distance = ( (x1-x2)**2 + (y1-y2)**2 )**.5\n",
    "print(distance)"
   ]
  },
  {
   "cell_type": "code",
   "execution_count": 2,
   "id": "e4b8b42f-0b31-4dd4-bed2-2a0af9c475af",
   "metadata": {},
   "outputs": [],
   "source": [
    "def distance(x_1, y_1, x_2, y_2):\n",
    "    distance = ( (x_1-x_2)**2 + (y_1-y_2)**2 )**.5\n",
    "    return distance"
   ]
  },
  {
   "cell_type": "code",
   "execution_count": 3,
   "id": "c7b69fe2-c091-4d8b-9bd7-c7e634b083a5",
   "metadata": {},
   "outputs": [
    {
     "name": "stdout",
     "output_type": "stream",
     "text": [
      "14.422205101855956\n"
     ]
    }
   ],
   "source": [
    "x1 = 10\n",
    "y1 = 15\n",
    "x2 = 2\n",
    "y2 = 3\n",
    "\n",
    "new_distance = distance(x1, y1, x2, y2)\n",
    "print(new_distance)"
   ]
  },
  {
   "cell_type": "code",
   "execution_count": 4,
   "id": "e7954126-bace-4f42-8f1f-2372714d217b",
   "metadata": {},
   "outputs": [
    {
     "name": "stdout",
     "output_type": "stream",
     "text": [
      "5.830951894845301\n"
     ]
    }
   ],
   "source": [
    "a1 = 5\n",
    "b1 = 4\n",
    "a2 = 8\n",
    "b2 = 9\n",
    "\n",
    "new_distance = distance(a1, b1, a2, b2)\n",
    "print(new_distance)"
   ]
  },
  {
   "cell_type": "code",
   "execution_count": null,
   "id": "830febff-f361-4f98-b535-bea76bc1bb7f",
   "metadata": {},
   "outputs": [],
   "source": []
  },
  {
   "cell_type": "code",
   "execution_count": null,
   "id": "02260f58-abcd-41ed-8388-61a6924fd98a",
   "metadata": {},
   "outputs": [],
   "source": []
  },
  {
   "cell_type": "markdown",
   "id": "1cc94a19-2681-42e9-a154-3d693991aede",
   "metadata": {},
   "source": [
    "### Two things to remember, Parameter and Argument\n",
    "Parameters are the variables listed inside the parentheses in the function definition. They act like placeholders for the data the function can accept when we call them.\n",
    "Arguments are the actual values that we pass to the function when we call it."
   ]
  },
  {
   "cell_type": "code",
   "execution_count": 15,
   "id": "10124540-ab5c-4c53-988b-0be5f57a9b8a",
   "metadata": {},
   "outputs": [],
   "source": [
    "def distance(x_1, y_1, x_2, y_2):\n",
    "    distance = ( (x_1-x_2)**2 + (y_1-y_2)**2 )**.5\n",
    "    return distance"
   ]
  },
  {
   "cell_type": "code",
   "execution_count": 12,
   "id": "7e0e6367-3dcd-4e57-beec-b59da0f9d2b5",
   "metadata": {},
   "outputs": [
    {
     "name": "stdout",
     "output_type": "stream",
     "text": [
      "14.422205101855956\n"
     ]
    }
   ],
   "source": [
    "x_1 = 10\n",
    "y_1 = 15\n",
    "x_2 = 2\n",
    "y_2 = 3\n",
    "\n",
    "new_distance = distance(x_1, y_1, x_2, y_2)\n",
    "print(new_distance)"
   ]
  },
  {
   "cell_type": "code",
   "execution_count": 16,
   "id": "c42943e6-7081-4d7f-80c1-fec97a82f9e4",
   "metadata": {},
   "outputs": [
    {
     "name": "stdout",
     "output_type": "stream",
     "text": [
      "8.06225774829855\n"
     ]
    }
   ],
   "source": [
    "x1 = 10\n",
    "y1 = 15\n",
    "x2 = 2\n",
    "y2 = 3\n",
    "\n",
    "new_distance = distance(x1, x2, x2, y2)\n",
    "print(new_distance)"
   ]
  },
  {
   "cell_type": "code",
   "execution_count": 17,
   "id": "18da61e9-4653-49cc-b48f-f5a90fdb76a2",
   "metadata": {},
   "outputs": [],
   "source": [
    "def distance(x_axis_1, y_axis_1, x_axis_2, y_axis_2):\n",
    "    distance = ( (x_axis_1-x_axis_2)**2 + (y_axis_1-y_axis_2)**2 )**.5\n",
    "    return distance"
   ]
  },
  {
   "cell_type": "code",
   "execution_count": 19,
   "id": "a409172d-c303-48f0-95cf-50fe383fd5bf",
   "metadata": {},
   "outputs": [
    {
     "name": "stdout",
     "output_type": "stream",
     "text": [
      "14.422205101855956\n"
     ]
    }
   ],
   "source": [
    "x1 = 10\n",
    "y1 = 15\n",
    "x2 = 2\n",
    "y2 = 3\n",
    "\n",
    "new_distance = distance(y_axis_1 = y1, y_axis_2 = y2, x_axis_1 = x1, x_axis_2 = x2)\n",
    "print(new_distance)"
   ]
  },
  {
   "cell_type": "code",
   "execution_count": 22,
   "id": "2db36c07-a41b-4d50-a07f-16bcb7647ea9",
   "metadata": {},
   "outputs": [],
   "source": [
    "def print_date(Date, Month, Year, Hour, Min):\n",
    "    print(f'Today is {Date}th {Month}, {Year}; {Hour}:{Min}')"
   ]
  },
  {
   "cell_type": "code",
   "execution_count": 23,
   "id": "4a30aa97-2886-4655-9715-e4b92a5328ae",
   "metadata": {},
   "outputs": [
    {
     "name": "stdout",
     "output_type": "stream",
     "text": [
      "Today is 24th May, 2024; 3:45\n"
     ]
    }
   ],
   "source": [
    "print_date(24, \"May\", 2024, 3, 45)"
   ]
  },
  {
   "cell_type": "code",
   "execution_count": 39,
   "id": "b65889b1-16dc-4823-ab9c-3aac6ca0ee0c",
   "metadata": {},
   "outputs": [],
   "source": [
    "def print_date(Date, Month, Year, *args):\n",
    "    if len(args) != 0:\n",
    "        print(f'Today is {Date}th {Month}, {Year}; {args[0]}:{args[1]}')\n",
    "    else:\n",
    "        print(f'Today is {Date}th {Month}, {Year}')"
   ]
  },
  {
   "cell_type": "code",
   "execution_count": 43,
   "id": "a025ab31-28c6-472d-a312-b7577da9b8d4",
   "metadata": {},
   "outputs": [
    {
     "name": "stdout",
     "output_type": "stream",
     "text": [
      "Today is 24th May, 2024\n"
     ]
    }
   ],
   "source": [
    "print_date(24, \"May\", 2024)"
   ]
  },
  {
   "cell_type": "code",
   "execution_count": null,
   "id": "fd69b4ef-10a4-4b3a-8652-211978ece329",
   "metadata": {},
   "outputs": [],
   "source": []
  },
  {
   "cell_type": "code",
   "execution_count": null,
   "id": "b72be4a5-7ef3-4c0c-9e45-479120f3d434",
   "metadata": {},
   "outputs": [],
   "source": []
  },
  {
   "cell_type": "markdown",
   "id": "e3ea6516-5425-4980-bf35-0db2b0a45006",
   "metadata": {},
   "source": [
    "## Default Parameter"
   ]
  },
  {
   "cell_type": "code",
   "execution_count": 44,
   "id": "098b27e3-851b-400a-ae0a-ffbf355dd0f4",
   "metadata": {},
   "outputs": [
    {
     "name": "stdout",
     "output_type": "stream",
     "text": [
      "I am from Sweden\n"
     ]
    }
   ],
   "source": [
    "def my_function(country = \"Norway\"):\n",
    "  print(\"I am from \" + country)\n",
    "\n",
    "my_function(\"Sweden\")"
   ]
  },
  {
   "cell_type": "code",
   "execution_count": 45,
   "id": "1d968716-2c5c-4c06-8a6b-dfa1020feb9b",
   "metadata": {},
   "outputs": [
    {
     "name": "stdout",
     "output_type": "stream",
     "text": [
      "I am from India\n"
     ]
    }
   ],
   "source": [
    "my_function(\"India\")"
   ]
  },
  {
   "cell_type": "code",
   "execution_count": 46,
   "id": "8dc9a8fb-f939-47af-a769-21ec6d09d4f0",
   "metadata": {},
   "outputs": [
    {
     "name": "stdout",
     "output_type": "stream",
     "text": [
      "I am from Norway\n"
     ]
    }
   ],
   "source": [
    "my_function()"
   ]
  },
  {
   "cell_type": "code",
   "execution_count": 47,
   "id": "cbbecaa0-77bf-4486-987b-085a974b2af1",
   "metadata": {},
   "outputs": [
    {
     "name": "stdout",
     "output_type": "stream",
     "text": [
      "I am from Brazil\n"
     ]
    }
   ],
   "source": [
    "my_function(\"Brazil\")"
   ]
  },
  {
   "cell_type": "markdown",
   "id": "9618c10d-e8ec-48db-996a-a3f91632a695",
   "metadata": {},
   "source": [
    "# Recursion"
   ]
  },
  {
   "cell_type": "code",
   "execution_count": 63,
   "id": "b8955407-d957-41d8-97e8-7b5e7635d62c",
   "metadata": {},
   "outputs": [],
   "source": [
    "def factorial(value):\n",
    "    if value == 0:\n",
    "        return 1\n",
    "    return value * factorial(value-1)"
   ]
  },
  {
   "cell_type": "code",
   "execution_count": 64,
   "id": "1e494fa4-7b9a-4b8b-a0aa-a87b04418d9c",
   "metadata": {},
   "outputs": [
    {
     "data": {
      "text/plain": [
       "120"
      ]
     },
     "execution_count": 64,
     "metadata": {},
     "output_type": "execute_result"
    }
   ],
   "source": [
    "factorial(5)"
   ]
  },
  {
   "cell_type": "code",
   "execution_count": null,
   "id": "41fbc914-e338-4c18-b7ae-651d5b6669c8",
   "metadata": {},
   "outputs": [],
   "source": []
  }
 ],
 "metadata": {
  "kernelspec": {
   "display_name": "Python 3 (ipykernel)",
   "language": "python",
   "name": "python3"
  },
  "language_info": {
   "codemirror_mode": {
    "name": "ipython",
    "version": 3
   },
   "file_extension": ".py",
   "mimetype": "text/x-python",
   "name": "python",
   "nbconvert_exporter": "python",
   "pygments_lexer": "ipython3",
   "version": "3.12.3"
  }
 },
 "nbformat": 4,
 "nbformat_minor": 5
}
