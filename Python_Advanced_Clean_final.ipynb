{
  "cells": [
    {
      "cell_type": "markdown",
      "metadata": {
        "id": "JRbqXdAjM5Rd"
      },
      "source": [
        "# Python Lambda"
      ]
    },
    {
      "cell_type": "code",
      "execution_count": null,
      "metadata": {
        "id": "uGpu3nmjM2wy"
      },
      "outputs": [],
      "source": [
        "def add(a,b):\n",
        "  return a+b"
      ]
    },
    {
      "cell_type": "code",
      "execution_count": null,
      "metadata": {
        "id": "WAuhcZBIB-Bn"
      },
      "outputs": [],
      "source": [
        "add(5,7)"
      ]
    },
    {
      "cell_type": "code",
      "execution_count": null,
      "metadata": {
        "id": "0SeUlnd2yiw2"
      },
      "outputs": [],
      "source": [
        "add = lambda a,b: a+b"
      ]
    },
    {
      "cell_type": "code",
      "execution_count": null,
      "metadata": {
        "id": "seW7Ni9oLZlJ"
      },
      "outputs": [],
      "source": [
        "add(5,7)"
      ]
    },
    {
      "cell_type": "code",
      "execution_count": null,
      "metadata": {
        "id": "PTivLnUAy3QS"
      },
      "outputs": [],
      "source": [
        "add(10,25)"
      ]
    },
    {
      "cell_type": "code",
      "execution_count": null,
      "metadata": {
        "id": "D80JbJ3Ayism"
      },
      "outputs": [],
      "source": [
        "def distance(x1, y1, x2, y2):\n",
        "  return ( (x1-x2)**2 + (y1-y2)**2 )**.5"
      ]
    },
    {
      "cell_type": "code",
      "execution_count": null,
      "metadata": {
        "id": "c5EdlaB6zvpl"
      },
      "outputs": [],
      "source": [
        "new_distance = lambda x1, y1, x2, y2: ( (x1-x2)**2 + (y1-y2)**2 )**.5"
      ]
    },
    {
      "cell_type": "code",
      "execution_count": null,
      "metadata": {
        "id": "Ucv-vdPhyipu"
      },
      "outputs": [],
      "source": [
        "distance(5,6,10,20)"
      ]
    },
    {
      "cell_type": "code",
      "execution_count": null,
      "metadata": {
        "id": "OdWa7SMnyinS"
      },
      "outputs": [],
      "source": [
        "new_distance(5,6,10,20)"
      ]
    },
    {
      "cell_type": "code",
      "execution_count": null,
      "metadata": {
        "id": "-jlBHpKHyikX"
      },
      "outputs": [],
      "source": []
    },
    {
      "cell_type": "code",
      "execution_count": null,
      "metadata": {
        "id": "ZEbdfLzO0Nbf"
      },
      "outputs": [],
      "source": []
    },
    {
      "cell_type": "markdown",
      "metadata": {
        "id": "PVlahuqv5dNu"
      },
      "source": [
        "# Python Variable Scope"
      ]
    },
    {
      "cell_type": "code",
      "execution_count": null,
      "metadata": {
        "id": "BHhEzR5j5c_o"
      },
      "outputs": [],
      "source": [
        "def print_name(name):\n",
        "  name = \"Asif\"\n",
        "  print(f'My name is {name}')\n",
        "\n",
        "name = \"Iqbal\"\n",
        "print_name(name)\n",
        "print(f'My name is {name}')"
      ]
    },
    {
      "cell_type": "code",
      "execution_count": null,
      "metadata": {
        "id": "bVXIczmI5c8Z"
      },
      "outputs": [],
      "source": [
        "def grade(number):\n",
        "  a = 100\n",
        "  b = 20\n",
        "  c = 12\n",
        "  print(a)\n",
        "  if number>=100:\n",
        "    number = 80\n",
        "    print(f'The number is {number}')\n",
        "    return number\n",
        "\n",
        "  if number<=33:\n",
        "    number = 33\n",
        "    print(f'The number is {number}')\n",
        "    return number\n",
        "\n",
        "  print(f'The number is {number}')\n",
        "  return number"
      ]
    },
    {
      "cell_type": "code",
      "execution_count": null,
      "metadata": {
        "id": "_bIvDrAV5c5f"
      },
      "outputs": [],
      "source": [
        "number = 120\n",
        "new_number = grade(number)\n",
        "\n",
        "print(f'You got {number}, but the final number is {new_number}')"
      ]
    },
    {
      "cell_type": "code",
      "execution_count": null,
      "metadata": {
        "id": "c02VgXrH5c2w"
      },
      "outputs": [],
      "source": [
        "a = 10\n",
        "\n",
        "def print_a():\n",
        "  a = 20\n",
        "  print(f'The value of a inside the function is {a}')\n",
        "\n",
        "print_a()\n",
        "print(f'The value of a outside the function is {a}')"
      ]
    },
    {
      "cell_type": "code",
      "execution_count": null,
      "metadata": {
        "id": "VX8KEOGf5cxP"
      },
      "outputs": [],
      "source": []
    },
    {
      "cell_type": "code",
      "execution_count": null,
      "metadata": {
        "id": "1Mwynwzr5cuW"
      },
      "outputs": [],
      "source": []
    },
    {
      "cell_type": "markdown",
      "metadata": {
        "id": "hbS7ChXQ3Fom"
      },
      "source": [
        "# Python Classes/Objects"
      ]
    },
    {
      "cell_type": "markdown",
      "metadata": {
        "id": "LO-pn2mD2F1h"
      },
      "source": [
        "\n",
        "### Classes:\n",
        "\n",
        "###### Definition: A class in Python is a blueprint for creating objects. It defines a datatype by encapsulating the attributes and behaviors (methods) that the objects created from the class can perform.\n",
        "###### Components: A class typically includes:\n",
        "<br>\n",
        "Attributes: Variables that store data specific to the class.\n",
        "<br>\n",
        "Methods: Functions that define behaviors of the class.\n",
        "\n",
        "### Objects:\n",
        "\n",
        "###### Definition: An object is an instance of a class. When a class is defined, no memory is allocated until an object of that class is created.\n",
        "###### Creation: Objects are created by calling the class itself as if it were a function. This triggers the class's __init__ method, which initializes the object.\n",
        "###### Usage: Objects access the attributes and methods of the class they were created from, allowing for individual object data and behaviors as defined by the class."
      ]
    },
    {
      "cell_type": "markdown",
      "metadata": {
        "id": "g-b-IoTv2QBC"
      },
      "source": [
        "### __init__() Function\n",
        "###### Purpose: The __init__() method is the constructor in Python. It's automatically invoked when a new object of a class is created.\n",
        "###### Self Parameter: The first parameter of the __init__() method is self, which is a reference to the current instance of the class. It allows access to the attributes and methods of the class in Python.\n",
        "###### Initialization: The __init__() method is used to initialize the attributes of an object. This method can take additional arguments to set the initial state of a new object."
      ]
    },
    {
      "cell_type": "code",
      "execution_count": null,
      "metadata": {
        "id": "9yRVlS1EZt9i"
      },
      "outputs": [],
      "source": [
        "class animal:\n",
        "  legs = 0\n",
        "  mammal = False\n",
        "  bark = \"------\"\n",
        "  is_pet = False\n",
        "\n",
        "  def barks(self):\n",
        "    print(self.bark)\n",
        "\n",
        "  def pet(self):\n",
        "    if self.is_pet == True:\n",
        "      print(\"The animal is suitable for petting\")\n",
        "    else:\n",
        "      print(\"The animal is not suitable for petting\")"
      ]
    },
    {
      "cell_type": "code",
      "execution_count": null,
      "metadata": {
        "id": "rVeZcQUjZ9ss"
      },
      "outputs": [],
      "source": [
        "cat = animal"
      ]
    },
    {
      "cell_type": "code",
      "execution_count": null,
      "metadata": {
        "id": "cOgEU64yaIDy"
      },
      "outputs": [],
      "source": [
        "cat.bark"
      ]
    },
    {
      "cell_type": "code",
      "execution_count": null,
      "metadata": {
        "id": "hI8bEAc6auHa"
      },
      "outputs": [],
      "source": [
        "class animal:\n",
        "\n",
        "  def __init__(self, p_legs, p_mammal, p_bark, p_is_pet):\n",
        "    self.legs = p_legs\n",
        "    self.mammal = p_mammal\n",
        "    self.bark = p_bark\n",
        "    self.is_pet = p_is_pet\n",
        "\n",
        "  def barks(self):\n",
        "    print(self.bark)\n",
        "\n",
        "  def pet(self):\n",
        "    if self.is_pet == True:\n",
        "      print(\"The animal is suitable for petting\")\n",
        "    else:\n",
        "      print(\"The animal is not suitable for petting\")"
      ]
    },
    {
      "cell_type": "code",
      "execution_count": null,
      "metadata": {
        "id": "DwDBkx0tawLL"
      },
      "outputs": [],
      "source": [
        "cat = animal(4, True, \"Mhew Mhew\", True)"
      ]
    },
    {
      "cell_type": "code",
      "execution_count": null,
      "metadata": {
        "id": "CI-zMLBaawIi"
      },
      "outputs": [],
      "source": [
        "cat.legs"
      ]
    },
    {
      "cell_type": "code",
      "execution_count": null,
      "metadata": {
        "id": "1dh7GkjD2PvS"
      },
      "outputs": [],
      "source": [
        "class animal:\n",
        "\n",
        "  def __init__(self, p_legs, p_mammal, p_bark, p_is_pet, fur, aggresive):\n",
        "    self.legs = p_legs\n",
        "    self.mammal = p_mammal\n",
        "    self.bark = p_bark\n",
        "    self.is_pet = p_is_pet\n",
        "    self.fur = fur\n",
        "    self.aggresive = aggresive\n",
        "\n",
        "  def aggresive(self):\n",
        "    print(self.aggresive)\n",
        "\n",
        "  def barks(self):\n",
        "    print(self.bark)\n",
        "\n",
        "  def pet(self):\n",
        "    if self.is_pet == True:\n",
        "      print(\"The animal is suitable for petting\")\n",
        "    else:\n",
        "      print(\"The animal is not suitable for petting\")"
      ]
    },
    {
      "cell_type": "code",
      "execution_count": null,
      "metadata": {
        "id": "8KdZCpqT2Fjs"
      },
      "outputs": [],
      "source": [
        "cat = animal(4, True, \"Mew Mew\", True, True, False)\n",
        "\n",
        "cow = animal(4, True, \"Hamba Hamba\", False, True, False)\n",
        "\n",
        "eagle = animal(2, False, \"----\", False, True, True)\n",
        "\n",
        "\n",
        "# cat.barks()"
      ]
    },
    {
      "cell_type": "code",
      "execution_count": null,
      "metadata": {
        "colab": {
          "background_save": true
        },
        "id": "fBWC3ZSHVkpw"
      },
      "outputs": [],
      "source": [
        "cow.legs"
      ]
    },
    {
      "cell_type": "code",
      "execution_count": null,
      "metadata": {
        "colab": {
          "background_save": true
        },
        "id": "kq1y0obkVpVw"
      },
      "outputs": [],
      "source": [
        "eagle.legs"
      ]
    },
    {
      "cell_type": "code",
      "execution_count": null,
      "metadata": {
        "id": "YvFg4Ohe2Fg1"
      },
      "outputs": [],
      "source": [
        "print(cat.legs, cat.mammal, cat.barks(), cat.pet())"
      ]
    },
    {
      "cell_type": "code",
      "execution_count": null,
      "metadata": {
        "id": "hLkBIyTf2Fec"
      },
      "outputs": [],
      "source": [
        "cat.barks()"
      ]
    },
    {
      "cell_type": "code",
      "execution_count": null,
      "metadata": {
        "id": "wwUfYQmv2FYX"
      },
      "outputs": [],
      "source": [
        "cat.pet()"
      ]
    },
    {
      "cell_type": "code",
      "execution_count": null,
      "metadata": {
        "id": "q-IgtX844efa"
      },
      "outputs": [],
      "source": []
    },
    {
      "cell_type": "markdown",
      "metadata": {
        "id": "wdolrttU6qA6"
      },
      "source": [
        "# Python RegEx\n"
      ]
    },
    {
      "cell_type": "markdown",
      "metadata": {
        "id": "SnnPMXKL8RDa"
      },
      "source": [
        "### Metacharacters\n",
        "<li>\n",
        "[] ->\tA set of characters <br>\n",
        ". ->\tAny character (except newline character) <br>\n",
        "^ ->\tStarts with <br>\n",
        "$ ->\tEnds with <br>\n",
        "* ->\tZero or more occurrences <br>\n",
        "+ ->\tOne or more occurrences <br>\n",
        "? ->\tZero or one occurrences <br>\n",
        "{} ->\tExactly the specified number of occurrences <br>\n",
        "</li>"
      ]
    },
    {
      "cell_type": "code",
      "execution_count": null,
      "metadata": {
        "id": "YcdA3j0U6fdQ"
      },
      "outputs": [],
      "source": []
    },
    {
      "cell_type": "code",
      "execution_count": null,
      "metadata": {
        "id": "mVUypieJ6fZy"
      },
      "outputs": [],
      "source": []
    },
    {
      "cell_type": "code",
      "execution_count": null,
      "metadata": {
        "id": "Kh0o1m8M6fWF"
      },
      "outputs": [],
      "source": []
    },
    {
      "cell_type": "code",
      "execution_count": null,
      "metadata": {
        "id": "53Ym24eZ6fSK"
      },
      "outputs": [],
      "source": []
    },
    {
      "cell_type": "code",
      "execution_count": null,
      "metadata": {
        "id": "U60oaM8j6fMO"
      },
      "outputs": [],
      "source": []
    },
    {
      "cell_type": "code",
      "execution_count": null,
      "metadata": {
        "id": "IJvZfprC6fIy"
      },
      "outputs": [],
      "source": []
    },
    {
      "cell_type": "code",
      "execution_count": null,
      "metadata": {
        "id": "ogHFU1ix6fGD"
      },
      "outputs": [],
      "source": []
    },
    {
      "cell_type": "code",
      "execution_count": null,
      "metadata": {
        "id": "W_C27zQK6fAS"
      },
      "outputs": [],
      "source": []
    },
    {
      "cell_type": "code",
      "execution_count": null,
      "metadata": {
        "id": "1Zz-z3es6e9D"
      },
      "outputs": [],
      "source": []
    },
    {
      "cell_type": "code",
      "execution_count": null,
      "metadata": {
        "id": "CD1lAzfU9bLI"
      },
      "outputs": [],
      "source": []
    },
    {
      "cell_type": "markdown",
      "metadata": {
        "id": "3r-qY3i2-BSe"
      },
      "source": [
        "# Try .. Except"
      ]
    },
    {
      "cell_type": "code",
      "execution_count": null,
      "metadata": {
        "id": "YTGaht_tX7Q6"
      },
      "outputs": [],
      "source": [
        "print(\"This is before try--except\")\n",
        "\n",
        "\n",
        "print(\"Hello World\")\n",
        "print(1/0)\n",
        "print(\"This is python programming class.\")\n",
        "\n",
        "print(\"This is after try--except\")"
      ]
    },
    {
      "cell_type": "code",
      "execution_count": null,
      "metadata": {
        "id": "xsdR-SSz-3sW"
      },
      "outputs": [],
      "source": [
        "print(\"This is before try--except\")\n",
        "\n",
        "try:\n",
        "  print(\"Hello World\")\n",
        "  print(1/0)\n",
        "  print(\"This is python programming class.\")\n",
        "except:\n",
        "  pass\n",
        "\n",
        "print(\"This is after try--except\")"
      ]
    },
    {
      "cell_type": "code",
      "execution_count": null,
      "metadata": {
        "id": "KIbSqg4k-7H_"
      },
      "outputs": [],
      "source": [
        "car = ['Ford', \"Fiat\", \"Audi\"]\n",
        "\n",
        "try:\n",
        "  print(car[3])\n",
        "except:\n",
        "  print(\"Please check the index of the list\")"
      ]
    },
    {
      "cell_type": "markdown",
      "metadata": {
        "id": "iCRn_ClP-HYE"
      },
      "source": [
        "### try Block:\n",
        "<li>\n",
        "Purpose: This is where you place the code that might cause an exception during execution. The Python interpreter checks the code in this block for any errors.\n",
        "</li>\n",
        "\n",
        "### except Block:\n",
        "<li>\n",
        "Handling Exceptions: If an exception occurs in the try block, Python stops the execution of that block and transfers control to the except block. You can specify particular exceptions to catch or handle all exceptions generically.\n",
        "</li>\n",
        "<li>\n",
        "Multiple Exceptions: You can have multiple except clauses to handle different exceptions in different ways.\n",
        "</li>\n",
        "\n",
        "### else Block:\n",
        "<li>\n",
        "No Exceptions: This block is executed if no exceptions were raised in the try block. It’s often used for code that should run if the try block was successful.\n",
        "</li>\n",
        "<li>\n",
        "Placement: It must be placed after all except blocks.\n",
        "</li>\n",
        "\n",
        "### finally Block:\n",
        "<li>\n",
        "Always Executes: This block runs regardless of whether an exception was raised or not and whether it was caught if raised. It's typically used for clean-up actions, such as closing files or releasing resources.\n",
        "</li>\n",
        "<li>\n",
        "Guaranteed Execution: Even if the program crashes or a return statement is encountered in the try or except blocks, the finally block will still execute.\n",
        "</li>"
      ]
    },
    {
      "cell_type": "code",
      "execution_count": null,
      "metadata": {
        "id": "c0dzrvaE-FI7"
      },
      "outputs": [],
      "source": []
    },
    {
      "cell_type": "markdown",
      "metadata": {
        "id": "P5_uvUNl_4ZF"
      },
      "source": [
        "### We can use try..except for multiple error."
      ]
    },
    {
      "cell_type": "code",
      "execution_count": null,
      "metadata": {
        "id": "zwa0-prU-FSp"
      },
      "outputs": [],
      "source": [
        "car = ['Ford', \"Fiat\", \"Audi\"]\n",
        "\n",
        "try:\n",
        "  print(car[3])\n",
        "  divide = 1/0\n",
        "except ZeroDivisionError as e:\n",
        "  print(\"Don't divide by zero\")\n",
        "except IndexError as e:\n",
        "  print(\"Please check the index of the list\")"
      ]
    },
    {
      "cell_type": "code",
      "execution_count": null,
      "metadata": {
        "id": "cCk1iPeEZjh6"
      },
      "outputs": [],
      "source": [
        "car = ['Ford', \"Fiat\", \"Audi\"]\n",
        "\n",
        "try:\n",
        "  print(car[3])\n",
        "  divide = 1/0\n",
        "except ZeroDivisionError as e:\n",
        "  print(\"Don't divide by zero\")\n",
        "except IndexError as e:\n",
        "  print(\"Please check the index of the list\")\n",
        "finally:\n",
        "  print(\"This is from the finally block\")"
      ]
    },
    {
      "cell_type": "markdown",
      "metadata": {
        "id": "IQY6QhzMwTOc"
      },
      "source": [
        "# Read Documentation"
      ]
    },
    {
      "cell_type": "code",
      "execution_count": null,
      "metadata": {
        "id": "C8WAfMlHwSWc"
      },
      "outputs": [],
      "source": [
        "help(dict)"
      ]
    },
    {
      "cell_type": "markdown",
      "metadata": {
        "id": "oA0ANX4O4tti"
      },
      "source": [
        "### ** Please learn the following concept by yourself.**\n",
        "(Out of scope for this course)\n",
        "\n",
        "1. Inheritance\n",
        "2. Polymorphism\n",
        "3. Iterators\n",
        "4. File Handling\n",
        "5. IO File"
      ]
    },
    {
      "cell_type": "markdown",
      "metadata": {
        "id": "ROb_veYVA1UL"
      },
      "source": [
        "# Install package"
      ]
    },
    {
      "cell_type": "code",
      "execution_count": null,
      "metadata": {
        "id": "YgKf-5EEAmha"
      },
      "outputs": [],
      "source": [
        "pip install numpy"
      ]
    },
    {
      "cell_type": "code",
      "execution_count": null,
      "metadata": {
        "id": "4xQoykV0A8Xh"
      },
      "outputs": [],
      "source": [
        "pip install pandas"
      ]
    },
    {
      "cell_type": "code",
      "execution_count": null,
      "metadata": {
        "id": "lXwV41w1A-ux"
      },
      "outputs": [],
      "source": []
    },
    {
      "cell_type": "markdown",
      "metadata": {
        "id": "F-VXKir5vzO0"
      },
      "source": [
        "# Python Numpy\n",
        "NumPy (Numerical Python) is an open source Python library that’s used in almost every field of science and engineering.\n",
        "\n",
        "It’s the universal standard for working with numerical data in Python.\n"
      ]
    },
    {
      "cell_type": "code",
      "source": [
        "import numpy"
      ],
      "metadata": {
        "id": "EWZIHoZh86Sj"
      },
      "execution_count": null,
      "outputs": []
    },
    {
      "cell_type": "code",
      "source": [
        "import numpy as np"
      ],
      "metadata": {
        "id": "hvz0xWN4-JX0"
      },
      "execution_count": null,
      "outputs": []
    },
    {
      "cell_type": "code",
      "execution_count": null,
      "metadata": {
        "id": "wQyFGszxvyN4"
      },
      "outputs": [],
      "source": [
        "a = np.array([1,2,3])"
      ]
    },
    {
      "cell_type": "code",
      "execution_count": null,
      "metadata": {
        "id": "R6Xk-RyjvyJt"
      },
      "outputs": [],
      "source": [
        "type(a)"
      ]
    },
    {
      "cell_type": "code",
      "execution_count": null,
      "metadata": {
        "id": "ngv0bGbRwOSl"
      },
      "outputs": [],
      "source": [
        "b = np.array( [ [1,2,3], [4,5,6] ])"
      ]
    },
    {
      "cell_type": "code",
      "execution_count": null,
      "metadata": {
        "id": "KMz1IdO1vyGl"
      },
      "outputs": [],
      "source": [
        "print(b)"
      ]
    },
    {
      "cell_type": "code",
      "execution_count": null,
      "metadata": {
        "id": "ft_ARNucvx85"
      },
      "outputs": [],
      "source": [
        "a.shape"
      ]
    },
    {
      "cell_type": "code",
      "execution_count": null,
      "metadata": {
        "id": "e30VvRngx8BH"
      },
      "outputs": [],
      "source": [
        "b.shape"
      ]
    },
    {
      "cell_type": "code",
      "execution_count": null,
      "metadata": {
        "id": "S2exjjKvyDA4"
      },
      "outputs": [],
      "source": [
        "c = np.array([ [[1,2,3], [4,5,6]], [[7,8,9], [10,11,12]] ])"
      ]
    },
    {
      "cell_type": "code",
      "execution_count": null,
      "metadata": {
        "id": "_bTmNw9lx1Gz"
      },
      "outputs": [],
      "source": [
        "c.shape"
      ]
    },
    {
      "cell_type": "code",
      "execution_count": null,
      "metadata": {
        "id": "ugwWEjsQvx6c"
      },
      "outputs": [],
      "source": [
        "print(a)\n",
        "print(\"######\")\n",
        "print(b)\n",
        "print(\"######\")\n",
        "print(c)"
      ]
    },
    {
      "cell_type": "code",
      "execution_count": null,
      "metadata": {
        "id": "C4qpkxgzxvWK"
      },
      "outputs": [],
      "source": [
        "b[1]"
      ]
    },
    {
      "cell_type": "code",
      "execution_count": null,
      "metadata": {
        "id": "ZdluKuXIxvOk"
      },
      "outputs": [],
      "source": [
        "c[0][0][2]"
      ]
    },
    {
      "cell_type": "code",
      "source": [
        "len(a)"
      ],
      "metadata": {
        "id": "QFVH9urLChbC"
      },
      "execution_count": null,
      "outputs": []
    },
    {
      "cell_type": "code",
      "execution_count": null,
      "metadata": {
        "id": "qAWW7lpBxvL8"
      },
      "outputs": [],
      "source": [
        "len(b)"
      ]
    },
    {
      "cell_type": "code",
      "execution_count": null,
      "metadata": {
        "id": "eN8Qpz_sxvTN"
      },
      "outputs": [],
      "source": [
        "len(c)"
      ]
    },
    {
      "cell_type": "code",
      "execution_count": null,
      "metadata": {
        "id": "gOa09xNYxvJF"
      },
      "outputs": [],
      "source": []
    },
    {
      "cell_type": "code",
      "execution_count": null,
      "metadata": {
        "id": "ZjtRkvNFxvGm"
      },
      "outputs": [],
      "source": []
    },
    {
      "cell_type": "code",
      "execution_count": null,
      "metadata": {
        "id": "K4ecqKRiyeOs"
      },
      "outputs": [],
      "source": []
    },
    {
      "cell_type": "code",
      "execution_count": null,
      "metadata": {
        "id": "rsdl3eWKyeKo"
      },
      "outputs": [],
      "source": []
    },
    {
      "cell_type": "markdown",
      "metadata": {
        "id": "dVcZQlrrykhI"
      },
      "source": [
        "### What’s the difference between a Python list and a NumPy array?\n",
        "\n",
        "###### NumPy gives you an enormous range of fast and efficient ways of creating arrays and manipulating numerical data inside them.\n",
        "\n",
        "###### While a Python list can contain different data types within a single list, all of the elements in a NumPy array should be homogeneous.\n",
        "\n",
        "###### The mathematical operations that are meant to be performed on arrays would be extremely inefficient if the arrays weren’t homogeneous.\n",
        "\n",
        "###### NumPy arrays are faster and more compact than Python lists. NumPy uses much less memory to store data and it provides a mechanism of specifying the data types. This allows the code to be optimized even further."
      ]
    },
    {
      "cell_type": "code",
      "execution_count": null,
      "metadata": {
        "id": "4G5lQsqp0Iaa"
      },
      "outputs": [],
      "source": []
    },
    {
      "cell_type": "markdown",
      "metadata": {
        "id": "XJhmGgPd0JCr"
      },
      "source": [
        "###### 1D Matrix / column Matrix"
      ]
    },
    {
      "cell_type": "code",
      "execution_count": null,
      "metadata": {
        "id": "jJgYY5cWyTai"
      },
      "outputs": [],
      "source": [
        "a = np.array([1,2,3])"
      ]
    },
    {
      "cell_type": "markdown",
      "metadata": {
        "id": "-KC7ZkwP0M6S"
      },
      "source": [
        "###### 2D Matrix"
      ]
    },
    {
      "cell_type": "code",
      "execution_count": null,
      "metadata": {
        "id": "ElJmsBfnyTQ3"
      },
      "outputs": [],
      "source": [
        "b = np.array( [ [1,2,3], [4,5,6] ])"
      ]
    },
    {
      "cell_type": "markdown",
      "metadata": {
        "id": "om7D7RAc0Xm9"
      },
      "source": [
        "###### 3D Matrix"
      ]
    },
    {
      "cell_type": "code",
      "execution_count": null,
      "metadata": {
        "id": "Gp638X-yyTNy"
      },
      "outputs": [],
      "source": [
        "c = np.array([ [[1,2,3], [4,5,6]], [[7,8,9], [10,11,12]] ])"
      ]
    },
    {
      "cell_type": "code",
      "source": [
        "b = np.array( [ [1,2,3], [4,5] ])"
      ],
      "metadata": {
        "id": "48t7YyfcElbb"
      },
      "execution_count": null,
      "outputs": []
    },
    {
      "cell_type": "code",
      "source": [
        "c = np.array([ [[1,2,3], [4,5,6]], [[7,8,9]] ])"
      ],
      "metadata": {
        "id": "t3PutJ6cE9Qj"
      },
      "execution_count": null,
      "outputs": []
    },
    {
      "cell_type": "markdown",
      "metadata": {
        "id": "qncH6H7i3n4h"
      },
      "source": [
        "### Indexing and Slicing"
      ]
    },
    {
      "cell_type": "code",
      "execution_count": null,
      "metadata": {
        "id": "sVY_wBvr3rh1"
      },
      "outputs": [],
      "source": [
        "b[1]"
      ]
    },
    {
      "cell_type": "code",
      "execution_count": null,
      "metadata": {
        "id": "hDNvIY-S3rbh"
      },
      "outputs": [],
      "source": [
        "c[0][0][2]"
      ]
    },
    {
      "cell_type": "code",
      "execution_count": null,
      "metadata": {
        "id": "BTlddPzA3rYN"
      },
      "outputs": [],
      "source": [
        "print(b)"
      ]
    },
    {
      "cell_type": "code",
      "source": [
        "b[0][1] = 100"
      ],
      "metadata": {
        "id": "5PDXIbv4ERRr"
      },
      "execution_count": null,
      "outputs": []
    },
    {
      "cell_type": "code",
      "execution_count": null,
      "metadata": {
        "id": "SoRFSJ5A4GrX"
      },
      "outputs": [],
      "source": [
        "print(b)"
      ]
    },
    {
      "cell_type": "code",
      "source": [
        "b[1][1] = 1000"
      ],
      "metadata": {
        "id": "WatQp6yHFbOK"
      },
      "execution_count": null,
      "outputs": []
    },
    {
      "cell_type": "code",
      "source": [
        "print(b)"
      ],
      "metadata": {
        "id": "3ygugtnFFfrj"
      },
      "execution_count": null,
      "outputs": []
    },
    {
      "cell_type": "markdown",
      "metadata": {
        "id": "nm1FOsNK1uUP"
      },
      "source": [
        "### Shape and Size of an ndarray"
      ]
    },
    {
      "cell_type": "code",
      "execution_count": null,
      "metadata": {
        "id": "fqcQiMXH1txh"
      },
      "outputs": [],
      "source": [
        "a.shape"
      ]
    },
    {
      "cell_type": "code",
      "source": [
        "a.size"
      ],
      "metadata": {
        "id": "y-clj9AeEDUE"
      },
      "execution_count": null,
      "outputs": []
    },
    {
      "cell_type": "code",
      "execution_count": null,
      "metadata": {
        "id": "IqP5DLQp1tqp"
      },
      "outputs": [],
      "source": [
        "b.shape"
      ]
    },
    {
      "cell_type": "code",
      "source": [
        "b.size"
      ],
      "metadata": {
        "id": "FchS_RmjEAD7"
      },
      "execution_count": null,
      "outputs": []
    },
    {
      "cell_type": "code",
      "execution_count": null,
      "metadata": {
        "id": "ZmaakpC_15Xu"
      },
      "outputs": [],
      "source": [
        "c.size"
      ]
    },
    {
      "cell_type": "markdown",
      "metadata": {
        "id": "2EirfxEe0fCx"
      },
      "source": [
        "### Create a matrix\n",
        "###### with zeros, ones, arange"
      ]
    },
    {
      "cell_type": "code",
      "execution_count": null,
      "metadata": {
        "id": "ufFf_nvM0efP"
      },
      "outputs": [],
      "source": [
        "np.zeros(2)"
      ]
    },
    {
      "cell_type": "code",
      "execution_count": null,
      "metadata": {
        "id": "obfAH3TO0ecF"
      },
      "outputs": [],
      "source": [
        "zero = np.zeros([2,3])"
      ]
    },
    {
      "cell_type": "code",
      "execution_count": null,
      "metadata": {
        "id": "AzCW6n1r0eZL"
      },
      "outputs": [],
      "source": [
        "print(zero)"
      ]
    },
    {
      "cell_type": "code",
      "execution_count": null,
      "metadata": {
        "id": "-Y59l9Mm0eWn"
      },
      "outputs": [],
      "source": [
        "zero[1][2] = 100\n",
        "\n",
        "print(zero)"
      ]
    },
    {
      "cell_type": "code",
      "execution_count": null,
      "metadata": {
        "id": "dGcnw9Yj0eUN"
      },
      "outputs": [],
      "source": [
        "one = np.ones([3,3,3])\n",
        "print(one)"
      ]
    },
    {
      "cell_type": "code",
      "source": [
        "one[1][0][2] = 100"
      ],
      "metadata": {
        "id": "5gSuLgzkGyWe"
      },
      "execution_count": null,
      "outputs": []
    },
    {
      "cell_type": "code",
      "execution_count": null,
      "metadata": {
        "id": "VqWjD_ca0eRP"
      },
      "outputs": [],
      "source": [
        "print(one)"
      ]
    },
    {
      "cell_type": "code",
      "execution_count": null,
      "metadata": {
        "id": "r81gnpU-0xgz"
      },
      "outputs": [],
      "source": []
    },
    {
      "cell_type": "markdown",
      "metadata": {
        "id": "2h1nE_i81Bi1"
      },
      "source": [
        "### Adding, removing, and sorting elements"
      ]
    },
    {
      "cell_type": "code",
      "execution_count": null,
      "metadata": {
        "id": "alubfbcz1FLl"
      },
      "outputs": [],
      "source": [
        "a = np.array([1,2,3,4])\n",
        "b = np.array([5,6,7,8])\n",
        "\n",
        "c = np.concatenate( (a,b) )\n",
        "\n",
        "print(c)"
      ]
    },
    {
      "cell_type": "markdown",
      "metadata": {
        "id": "ZrY5rL1Y1Wyp"
      },
      "source": [
        "###### But you need to think about the \"axis\" sometime"
      ]
    },
    {
      "cell_type": "code",
      "source": [
        "a = np.array([[1, 2], [3, 4]])\n",
        "b = np.array([[5, 6]])\n",
        "\n",
        "print(a.shape)\n",
        "print(b.shape)"
      ],
      "metadata": {
        "id": "Zkg6y4ByMKbz"
      },
      "execution_count": null,
      "outputs": []
    },
    {
      "cell_type": "code",
      "execution_count": null,
      "metadata": {
        "id": "zudIjt8K5zKF"
      },
      "outputs": [],
      "source": [
        "a = np.array([[1, 2], [3, 4]])\n",
        "b = np.array([[5, 6]])\n",
        "\n",
        "np.concatenate((a, b), axis=0)"
      ]
    },
    {
      "cell_type": "code",
      "execution_count": null,
      "metadata": {
        "id": "i6NWH4og53oz"
      },
      "outputs": [],
      "source": [
        "a = np.array([[1, 2], [3, 4]])\n",
        "b = np.array([[5, 6]])\n",
        "\n",
        "np.concatenate((a, b), axis=1)"
      ]
    },
    {
      "cell_type": "code",
      "execution_count": null,
      "metadata": {
        "id": "fWX9xrov1h8u"
      },
      "outputs": [],
      "source": [
        "a1 = np.array([[1,2], [3,4]])\n",
        "a2 = np.array([[5,6], [7,8]])"
      ]
    },
    {
      "cell_type": "code",
      "source": [
        "np.concatenate((a1, a2), axis=0)"
      ],
      "metadata": {
        "id": "INujvA55NfHi"
      },
      "execution_count": null,
      "outputs": []
    },
    {
      "cell_type": "code",
      "execution_count": null,
      "metadata": {
        "id": "Q9Ywx-cs0909"
      },
      "outputs": [],
      "source": [
        "np.vstack((a1,a2))"
      ]
    },
    {
      "cell_type": "code",
      "source": [
        "np.concatenate((a1, a2), axis=1)"
      ],
      "metadata": {
        "id": "GLoeQMjPNjcy"
      },
      "execution_count": null,
      "outputs": []
    },
    {
      "cell_type": "code",
      "execution_count": null,
      "metadata": {
        "id": "De4ecpS91Dd1"
      },
      "outputs": [],
      "source": [
        "np.hstack((a1,a2))"
      ]
    },
    {
      "cell_type": "code",
      "execution_count": null,
      "metadata": {
        "id": "-mcSqMd99TI6"
      },
      "outputs": [],
      "source": [
        "a = np.array([1000,2, 10, 200, 5])"
      ]
    },
    {
      "cell_type": "code",
      "execution_count": null,
      "metadata": {
        "id": "waEgtJOv9Znp"
      },
      "outputs": [],
      "source": [
        "a = np.sort(a)"
      ]
    },
    {
      "cell_type": "code",
      "source": [
        "reverse_array = a[::-1]\n",
        "print(reverse_array)"
      ],
      "metadata": {
        "id": "FIFdF_NkPq-K"
      },
      "execution_count": null,
      "outputs": []
    },
    {
      "cell_type": "code",
      "source": [
        "a = np.sort(a)[::-1]\n",
        "print(a)"
      ],
      "metadata": {
        "id": "dkDKJ4gsVPNx"
      },
      "execution_count": null,
      "outputs": []
    },
    {
      "cell_type": "markdown",
      "metadata": {
        "id": "wPQ9Twfm2vHV"
      },
      "source": [
        "### Reshape an ndarray"
      ]
    },
    {
      "cell_type": "code",
      "execution_count": null,
      "metadata": {
        "id": "iRZSR_3r1jje"
      },
      "outputs": [],
      "source": [
        "a = np.array([1,2,3,4,5,6])\n",
        "a.shape"
      ]
    },
    {
      "cell_type": "code",
      "execution_count": null,
      "metadata": {
        "id": "Q0q7fak_27nI"
      },
      "outputs": [],
      "source": [
        "b = a.reshape(2,3)\n",
        "print(b)"
      ]
    },
    {
      "cell_type": "code",
      "execution_count": null,
      "metadata": {
        "id": "deH3hpla3DVl"
      },
      "outputs": [],
      "source": [
        "c = a.reshape(3,2)\n",
        "print(c)"
      ]
    },
    {
      "cell_type": "code",
      "source": [
        "a = np.array([1,2,3,4,5,6,7])\n",
        "a.shape"
      ],
      "metadata": {
        "id": "Kr01BjyzVuxF"
      },
      "execution_count": null,
      "outputs": []
    },
    {
      "cell_type": "code",
      "source": [
        "d = a.reshape(2,3)"
      ],
      "metadata": {
        "id": "3gpBL6AGWGdK"
      },
      "execution_count": null,
      "outputs": []
    },
    {
      "cell_type": "code",
      "source": [
        "a = np.array([1,2,3,4,5,6,7,8,9,10,11,12])\n",
        "a.shape"
      ],
      "metadata": {
        "id": "kqCcgZa6WXXj"
      },
      "execution_count": null,
      "outputs": []
    },
    {
      "cell_type": "code",
      "source": [
        "e = a.reshape(2,2,3)\n",
        "print(e)"
      ],
      "metadata": {
        "id": "C9eABhVcWaua"
      },
      "execution_count": null,
      "outputs": []
    },
    {
      "cell_type": "code",
      "source": [
        "c = np.array([ [[1,2,3], [5,4,6]], [[7,8,9], [10,11,12]] ])"
      ],
      "metadata": {
        "id": "tjVS1wzdYpZy"
      },
      "execution_count": null,
      "outputs": []
    },
    {
      "cell_type": "code",
      "source": [
        "c.shape"
      ],
      "metadata": {
        "id": "oYenFH6BYrjr"
      },
      "execution_count": null,
      "outputs": []
    },
    {
      "cell_type": "code",
      "source": [
        "x = c.reshape(4,3)\n",
        "x.shape"
      ],
      "metadata": {
        "id": "7Zi0qNZHYwJL"
      },
      "execution_count": null,
      "outputs": []
    },
    {
      "cell_type": "code",
      "source": [
        "x = c.reshape(6,2)\n",
        "x"
      ],
      "metadata": {
        "id": "qUmWJCwtYwF6"
      },
      "execution_count": null,
      "outputs": []
    },
    {
      "cell_type": "code",
      "source": [],
      "metadata": {
        "id": "eq1Tgb6wZEyx"
      },
      "execution_count": null,
      "outputs": []
    },
    {
      "cell_type": "markdown",
      "metadata": {
        "id": "OoNOJuLv9oS2"
      },
      "source": [
        "### Flatten an ndarray"
      ]
    },
    {
      "cell_type": "code",
      "execution_count": null,
      "metadata": {
        "id": "tZB-kg_29mR2"
      },
      "outputs": [],
      "source": [
        "c = np.array([ [[1,2,3], [4,5,6]], [[7,8,9], [10,11,12]] ])\n",
        "c.shape"
      ]
    },
    {
      "cell_type": "code",
      "execution_count": null,
      "metadata": {
        "id": "rdTm4a809nzA"
      },
      "outputs": [],
      "source": [
        "x = c.flatten()\n",
        "print(x)"
      ]
    },
    {
      "cell_type": "code",
      "source": [
        "type(x)"
      ],
      "metadata": {
        "id": "aPJxETzBWu7S"
      },
      "execution_count": null,
      "outputs": []
    },
    {
      "cell_type": "markdown",
      "metadata": {
        "id": "CAjqubWM4TMF"
      },
      "source": [
        "### Creating array from existing data"
      ]
    },
    {
      "cell_type": "code",
      "execution_count": null,
      "metadata": {
        "id": "76B8aT1O3WFF"
      },
      "outputs": [],
      "source": [
        "a = np.array([1,2,3,4,5,6])\n",
        "b = a[2:5]\n",
        "print(b)"
      ]
    },
    {
      "cell_type": "code",
      "source": [
        "type(b)"
      ],
      "metadata": {
        "id": "G6v8Cj7XXJhR"
      },
      "execution_count": null,
      "outputs": []
    },
    {
      "cell_type": "markdown",
      "metadata": {
        "id": "GIkKbfTj68w7"
      },
      "source": [
        "### Basic array operations"
      ]
    },
    {
      "cell_type": "code",
      "execution_count": null,
      "metadata": {
        "id": "zH0rD4XF3GNl"
      },
      "outputs": [],
      "source": [
        "a = np.array([1,2])\n",
        "b = np.array([2,3])"
      ]
    },
    {
      "cell_type": "code",
      "execution_count": null,
      "metadata": {
        "id": "hqpWpLRv7FWD"
      },
      "outputs": [],
      "source": [
        "a+b"
      ]
    },
    {
      "cell_type": "code",
      "execution_count": null,
      "metadata": {
        "id": "Dxdu16JL7AOM"
      },
      "outputs": [],
      "source": [
        "a*b"
      ]
    },
    {
      "cell_type": "code",
      "execution_count": null,
      "metadata": {
        "id": "S2mkvsBa7HdM"
      },
      "outputs": [],
      "source": [
        "a/b"
      ]
    },
    {
      "cell_type": "code",
      "source": [
        "a *10"
      ],
      "metadata": {
        "id": "j0hdhuS7Xiua"
      },
      "execution_count": null,
      "outputs": []
    },
    {
      "cell_type": "code",
      "source": [
        "d = b/3"
      ],
      "metadata": {
        "id": "MTnf4EdaXmKy"
      },
      "execution_count": null,
      "outputs": []
    },
    {
      "cell_type": "code",
      "source": [
        "np.round(d,2)"
      ],
      "metadata": {
        "id": "kOLfkQZAX1bX"
      },
      "execution_count": null,
      "outputs": []
    },
    {
      "cell_type": "markdown",
      "metadata": {
        "id": "1sI9Hjgv7dAr"
      },
      "source": [
        "### Max/Min/Sum"
      ]
    },
    {
      "cell_type": "code",
      "execution_count": null,
      "metadata": {
        "id": "2-GNHb157H1d"
      },
      "outputs": [],
      "source": [
        "a = np.array([1,2,3,4,5])"
      ]
    },
    {
      "cell_type": "code",
      "execution_count": null,
      "metadata": {
        "id": "3qaoC3hM7KcU"
      },
      "outputs": [],
      "source": [
        "a.max()"
      ]
    },
    {
      "cell_type": "code",
      "execution_count": null,
      "metadata": {
        "id": "XjOQ0wLw7UUF"
      },
      "outputs": [],
      "source": [
        "a.min()"
      ]
    },
    {
      "cell_type": "code",
      "execution_count": null,
      "metadata": {
        "id": "-rgNUhIt7Wuc"
      },
      "outputs": [],
      "source": [
        "a.sum()"
      ]
    },
    {
      "cell_type": "code",
      "execution_count": null,
      "metadata": {
        "id": "pZDHNP3k7WrD"
      },
      "outputs": [],
      "source": [
        "c = np.array([ [[1,2,3], [4,5,6]], [[7,8,9], [10,11,12]] ])"
      ]
    },
    {
      "cell_type": "code",
      "execution_count": null,
      "metadata": {
        "id": "Fg0I3z3x7WmA"
      },
      "outputs": [],
      "source": [
        "c.max()"
      ]
    },
    {
      "cell_type": "code",
      "execution_count": null,
      "metadata": {
        "id": "o5i0iw377Wix"
      },
      "outputs": [],
      "source": [
        "c.min()"
      ]
    },
    {
      "cell_type": "code",
      "execution_count": null,
      "metadata": {
        "id": "uDAJGWQ67Vz8"
      },
      "outputs": [],
      "source": [
        "c.sum()"
      ]
    },
    {
      "cell_type": "code",
      "execution_count": null,
      "metadata": {
        "id": "yjndfxjV8_Vr"
      },
      "outputs": [],
      "source": []
    },
    {
      "cell_type": "code",
      "execution_count": null,
      "metadata": {
        "id": "u4tWXk5k9BQk"
      },
      "outputs": [],
      "source": []
    },
    {
      "cell_type": "code",
      "execution_count": null,
      "metadata": {
        "id": "xaN_m88oEKa6"
      },
      "outputs": [],
      "source": []
    },
    {
      "cell_type": "markdown",
      "source": [
        "# Pandas"
      ],
      "metadata": {
        "id": "FpsBN_98-G-i"
      }
    },
    {
      "cell_type": "code",
      "source": [
        "pip install pandas"
      ],
      "metadata": {
        "id": "iZ2ad4za-GwM"
      },
      "execution_count": null,
      "outputs": []
    },
    {
      "cell_type": "code",
      "source": [
        "import pandas as pd"
      ],
      "metadata": {
        "id": "AM-zQyNeA76x"
      },
      "execution_count": null,
      "outputs": []
    },
    {
      "cell_type": "markdown",
      "source": [
        "### Series: a one-dimensional labeled array holding data of any type,\n",
        "such as integers, strings, Python objects etc.\n",
        "\n",
        "### DataFrame: a two-dimensional data structure that holds data like a two-dimension array or a table with rows and columns."
      ],
      "metadata": {
        "id": "0ckvFGiBBBXP"
      }
    },
    {
      "cell_type": "markdown",
      "source": [
        "### Object creation"
      ],
      "metadata": {
        "id": "VabLIt84BJIN"
      }
    },
    {
      "cell_type": "code",
      "source": [
        "s = pd.Series([0, 1, 3, 5, np.nan, 6, 8])"
      ],
      "metadata": {
        "id": "wf5lChmqA9Zt"
      },
      "execution_count": null,
      "outputs": []
    },
    {
      "cell_type": "code",
      "source": [
        "print(s)"
      ],
      "metadata": {
        "id": "LN2mXmY0TOjU"
      },
      "execution_count": null,
      "outputs": []
    },
    {
      "cell_type": "code",
      "source": [
        "print(type(s))"
      ],
      "metadata": {
        "id": "oeBO7dSHTOjb"
      },
      "execution_count": null,
      "outputs": []
    },
    {
      "cell_type": "code",
      "source": [
        "import pandas as pd\n",
        "\n",
        "calories = {\"day1\": 420, \"day2\": 380, \"day3\": 390}\n",
        "\n",
        "myvar = pd.Series(calories)\n",
        "\n",
        "print(myvar)"
      ],
      "metadata": {
        "id": "B4uxWgEHTOjb"
      },
      "execution_count": null,
      "outputs": []
    },
    {
      "cell_type": "code",
      "source": [
        "print(type(myvar))"
      ],
      "metadata": {
        "id": "Gt50BtmZTOjb"
      },
      "execution_count": null,
      "outputs": []
    },
    {
      "cell_type": "code",
      "source": [],
      "metadata": {
        "id": "YILvytndTOjb"
      },
      "execution_count": null,
      "outputs": []
    },
    {
      "cell_type": "code",
      "source": [
        "import pandas as pd\n",
        "\n",
        "data = {\n",
        "  \"Weight\": [80,77, 65, 73, 90],\n",
        "  \"Height\": [176, 182, 156, 172, 167],\n",
        "  'Age': [20,30,35, 25, 37]\n",
        "}\n",
        "\n",
        "#load data into a DataFrame object:\n",
        "df = pd.DataFrame(data)\n",
        "\n",
        "print(df)"
      ],
      "metadata": {
        "id": "nBVpUndVTOjb"
      },
      "execution_count": null,
      "outputs": []
    },
    {
      "cell_type": "code",
      "source": [
        "print(type(df))"
      ],
      "metadata": {
        "id": "k-gS1n1ATOjb"
      },
      "execution_count": null,
      "outputs": []
    },
    {
      "cell_type": "code",
      "source": [
        "import pandas as pd\n",
        "\n",
        "data = {\n",
        "  \"Weight\": [80, 77, 65, 73, 90],\n",
        "  \"Height\": [176, 182, 156, 172, 167]\n",
        "}\n",
        "\n",
        "#load data into a DataFrame object:\n",
        "df = pd.DataFrame(data, index = [\"Person1\", \"Person2\", \"Person3\", \"Person4\", \"Person5\"])\n",
        "\n",
        "print(df)"
      ],
      "metadata": {
        "id": "vspdTRAjTOjc"
      },
      "execution_count": null,
      "outputs": []
    },
    {
      "cell_type": "code",
      "source": [],
      "metadata": {
        "id": "rnY7PPamTQi1"
      },
      "execution_count": null,
      "outputs": []
    },
    {
      "cell_type": "code",
      "source": [],
      "metadata": {
        "id": "4M6XgHYmD5_S"
      },
      "execution_count": null,
      "outputs": []
    },
    {
      "cell_type": "markdown",
      "source": [
        "### Pandas Dataframe is a collection of Series"
      ],
      "metadata": {
        "id": "GH9hLyT2Cl7B"
      }
    },
    {
      "cell_type": "code",
      "source": [
        "df"
      ],
      "metadata": {
        "id": "f1GjQYIhcywx"
      },
      "execution_count": null,
      "outputs": []
    },
    {
      "cell_type": "code",
      "source": [
        "print(type(df[\"Weight\"]))"
      ],
      "metadata": {
        "id": "AaqZ5FA6Ce2k"
      },
      "execution_count": null,
      "outputs": []
    },
    {
      "cell_type": "markdown",
      "source": [
        "### Pandas Slicing"
      ],
      "metadata": {
        "id": "yFZzd7AVDLNY"
      }
    },
    {
      "cell_type": "code",
      "source": [
        "import pandas as pd\n",
        "\n",
        "data = {\n",
        "  \"Weight\": [80, 77, 65, 73, 90],\n",
        "  \"Height\": [176, 182, 156, 172, 167]\n",
        "}\n",
        "\n",
        "#load data into a DataFrame object:\n",
        "df = pd.DataFrame(data, index = [\"Person1\", \"Person2\", \"Person3\", \"Person4\", \"Person5\"])\n",
        "\n",
        "print(df)"
      ],
      "metadata": {
        "id": "7OLWNiivTevc"
      },
      "execution_count": null,
      "outputs": []
    },
    {
      "cell_type": "code",
      "source": [
        "df[\"Weight\"]"
      ],
      "metadata": {
        "id": "pTbk-dxRevac"
      },
      "execution_count": null,
      "outputs": []
    },
    {
      "cell_type": "code",
      "source": [
        "print(df.loc['Person1'])"
      ],
      "metadata": {
        "id": "TKT8LnlgTevi"
      },
      "execution_count": null,
      "outputs": []
    },
    {
      "cell_type": "code",
      "source": [
        "print(df.iloc[0])"
      ],
      "metadata": {
        "id": "TNHflrEYfV0h"
      },
      "execution_count": null,
      "outputs": []
    },
    {
      "cell_type": "code",
      "source": [
        "print(df.iloc[[0,2]])"
      ],
      "metadata": {
        "id": "gqzZR781Tevi"
      },
      "execution_count": null,
      "outputs": []
    },
    {
      "cell_type": "code",
      "source": [
        "import pandas as pd\n",
        "\n",
        "data = {\n",
        "  \"Weight\": [80, 77, 65, 73, 90],\n",
        "  \"Height\": [176, 182, 156, 172, 167]\n",
        "}\n",
        "\n",
        "#load data into a DataFrame object:\n",
        "df = pd.DataFrame(data, index = [\"Person1\", \"Person2\", \"Person3\", \"Person4\", \"Person5\"])\n",
        "\n",
        "print(df)"
      ],
      "metadata": {
        "id": "hgvNtw0RTevi"
      },
      "execution_count": null,
      "outputs": []
    },
    {
      "cell_type": "code",
      "source": [
        "print(df.loc[\"Person2\"])"
      ],
      "metadata": {
        "id": "aP2-grpqTevj"
      },
      "execution_count": null,
      "outputs": []
    },
    {
      "cell_type": "code",
      "source": [
        "print(df.iloc[0:3])"
      ],
      "metadata": {
        "id": "GYIhSla-ThHa"
      },
      "execution_count": null,
      "outputs": []
    },
    {
      "cell_type": "markdown",
      "source": [
        "### Reading a csv file"
      ],
      "metadata": {
        "id": "izWoOOi92oxK"
      }
    },
    {
      "cell_type": "code",
      "source": [
        "# df = pd.read_excel(\"/content/Bank_Loans_dataset.xlsx\")"
      ],
      "metadata": {
        "id": "2nVWe1lxnFXR"
      },
      "execution_count": null,
      "outputs": []
    },
    {
      "cell_type": "code",
      "source": [
        "df = pd.read_csv(\"/content/Bank_Loans_dataset.csv\")"
      ],
      "metadata": {
        "id": "BvMTMB372oRs"
      },
      "execution_count": null,
      "outputs": []
    },
    {
      "cell_type": "code",
      "source": [
        "df"
      ],
      "metadata": {
        "id": "GsjSv7rg3XZs"
      },
      "execution_count": null,
      "outputs": []
    },
    {
      "cell_type": "code",
      "source": [
        "df.shape"
      ],
      "metadata": {
        "id": "8EGNKOspEgO8"
      },
      "execution_count": null,
      "outputs": []
    },
    {
      "cell_type": "code",
      "source": [
        "df.head()"
      ],
      "metadata": {
        "id": "1ZUu1oJK3IA8"
      },
      "execution_count": null,
      "outputs": []
    },
    {
      "cell_type": "code",
      "source": [
        "df.tail()"
      ],
      "metadata": {
        "id": "5F82TTVa3VKJ"
      },
      "execution_count": null,
      "outputs": []
    },
    {
      "cell_type": "code",
      "source": [
        "df.columns"
      ],
      "metadata": {
        "id": "DdftkDH16PJ1"
      },
      "execution_count": null,
      "outputs": []
    },
    {
      "cell_type": "code",
      "source": [
        "df.shape"
      ],
      "metadata": {
        "id": "vWHNoPtq3bXo"
      },
      "execution_count": null,
      "outputs": []
    },
    {
      "cell_type": "code",
      "source": [
        "df.head()"
      ],
      "metadata": {
        "id": "X1i0f2pUml94"
      },
      "execution_count": null,
      "outputs": []
    },
    {
      "cell_type": "code",
      "source": [
        "df.info()"
      ],
      "metadata": {
        "id": "jfLunA863eBo"
      },
      "execution_count": null,
      "outputs": []
    },
    {
      "cell_type": "code",
      "source": [
        "df.dtypes"
      ],
      "metadata": {
        "id": "Q0I1Vnkt3f84"
      },
      "execution_count": null,
      "outputs": []
    },
    {
      "cell_type": "markdown",
      "source": [
        "### Changing Data type"
      ],
      "metadata": {
        "id": "h9MdGTdG4SOm"
      }
    },
    {
      "cell_type": "code",
      "source": [
        "# loan_id:\n",
        "df['loan_id'] = df['loan_id'].astype('object')\n",
        "# repaid:\n",
        "df['repaid'] = df['repaid'].astype('category')"
      ],
      "metadata": {
        "id": "wClWgjS63ong"
      },
      "execution_count": null,
      "outputs": []
    },
    {
      "cell_type": "code",
      "source": [
        "# loan_start:\n",
        "df['loan_start'] = pd.to_datetime(df['loan_start'])\n",
        "# loan_end:\n",
        "df['loan_end'] = pd.to_datetime(df['loan_end'], format = '%Y-%m-%d')"
      ],
      "metadata": {
        "id": "HIzdEf7W3_wY"
      },
      "execution_count": null,
      "outputs": []
    },
    {
      "cell_type": "code",
      "source": [],
      "metadata": {
        "id": "im5tlff74J14"
      },
      "execution_count": null,
      "outputs": []
    },
    {
      "cell_type": "code",
      "source": [],
      "metadata": {
        "id": "NRY9Fb4x4LD8"
      },
      "execution_count": null,
      "outputs": []
    },
    {
      "cell_type": "code",
      "source": [],
      "metadata": {
        "id": "7TZoDJKU4RMs"
      },
      "execution_count": null,
      "outputs": []
    },
    {
      "cell_type": "markdown",
      "source": [
        "### Pandas Slicing"
      ],
      "metadata": {
        "id": "PT0unZbf7v4i"
      }
    },
    {
      "cell_type": "markdown",
      "source": [
        "### In columns"
      ],
      "metadata": {
        "id": "CgVG8eAt707Z"
      }
    },
    {
      "cell_type": "code",
      "source": [],
      "metadata": {
        "id": "QupkERj074Wj"
      },
      "execution_count": null,
      "outputs": []
    },
    {
      "cell_type": "code",
      "source": [],
      "metadata": {
        "id": "1cFGBdTW7vpJ"
      },
      "execution_count": null,
      "outputs": []
    },
    {
      "cell_type": "code",
      "source": [],
      "metadata": {
        "id": "FmAq6pUg7vcB"
      },
      "execution_count": null,
      "outputs": []
    },
    {
      "cell_type": "markdown",
      "source": [
        "### in rows"
      ],
      "metadata": {
        "id": "IC1abAl48SgV"
      }
    },
    {
      "cell_type": "code",
      "source": [],
      "metadata": {
        "id": "4fVgvtpD8KEL"
      },
      "execution_count": null,
      "outputs": []
    },
    {
      "cell_type": "code",
      "source": [],
      "metadata": {
        "id": "tyiU2N-38KAI"
      },
      "execution_count": null,
      "outputs": []
    },
    {
      "cell_type": "code",
      "source": [],
      "metadata": {
        "id": "26QWA4qx8J8C"
      },
      "execution_count": null,
      "outputs": []
    },
    {
      "cell_type": "markdown",
      "source": [
        "### Replacing values"
      ],
      "metadata": {
        "id": "04huRxeg62DC"
      }
    },
    {
      "cell_type": "code",
      "source": [],
      "metadata": {
        "id": "L5MSm2Yr61ij"
      },
      "execution_count": null,
      "outputs": []
    },
    {
      "cell_type": "code",
      "source": [],
      "metadata": {
        "id": "7RE1bXoz61Z6"
      },
      "execution_count": null,
      "outputs": []
    },
    {
      "cell_type": "markdown",
      "source": [
        "### Let's check the missing value"
      ],
      "metadata": {
        "id": "KPGnxykF4qR1"
      }
    },
    {
      "cell_type": "code",
      "source": [],
      "metadata": {
        "id": "KGNnRd2J4cVa"
      },
      "execution_count": null,
      "outputs": []
    },
    {
      "cell_type": "code",
      "source": [],
      "metadata": {
        "id": "bddXNnVk4ot1"
      },
      "execution_count": null,
      "outputs": []
    },
    {
      "cell_type": "code",
      "source": [],
      "metadata": {
        "id": "8tsUZiWV4okD"
      },
      "execution_count": null,
      "outputs": []
    },
    {
      "cell_type": "code",
      "source": [],
      "metadata": {
        "id": "DnOQZSD07KGP"
      },
      "execution_count": null,
      "outputs": []
    },
    {
      "cell_type": "markdown",
      "source": [
        "###### Replace the missing value with a value/mean/meadina/mode"
      ],
      "metadata": {
        "id": "GnZLezjS6XT0"
      }
    },
    {
      "cell_type": "code",
      "source": [],
      "metadata": {
        "id": "_x_F5Fuk4ogL"
      },
      "execution_count": null,
      "outputs": []
    },
    {
      "cell_type": "code",
      "source": [
        "import pandas as pd\n",
        "\n",
        "df = pd.read_csv('/content/Bank_Loans_dataset.csv')\n",
        "\n",
        "x = df[\"loan_amount\"].mean()\n",
        "# x = df[\"loan_amount\"].median()\n",
        "# x = df[\"loan_amount\"].mode()[0]\n",
        "\n",
        "df[\"loan_amount\"].fillna(x, inplace = True)"
      ],
      "metadata": {
        "id": "ugEpojK36IYS"
      },
      "execution_count": null,
      "outputs": []
    },
    {
      "cell_type": "code",
      "source": [],
      "metadata": {
        "id": "vcIzvt3i6T3b"
      },
      "execution_count": null,
      "outputs": []
    },
    {
      "cell_type": "markdown",
      "source": [
        "### Correlation"
      ],
      "metadata": {
        "id": "NDxkmxjx7MPv"
      }
    },
    {
      "cell_type": "code",
      "source": [],
      "metadata": {
        "id": "_cKBUaHr7UUn"
      },
      "execution_count": null,
      "outputs": []
    },
    {
      "cell_type": "code",
      "source": [],
      "metadata": {
        "id": "FFBqzOp96Tny"
      },
      "execution_count": null,
      "outputs": []
    },
    {
      "cell_type": "code",
      "source": [],
      "metadata": {
        "id": "qVu0jrdM6Thy"
      },
      "execution_count": null,
      "outputs": []
    },
    {
      "cell_type": "markdown",
      "source": [
        "# Matplotlib"
      ],
      "metadata": {
        "id": "noiix7lC9UPQ"
      }
    },
    {
      "cell_type": "code",
      "source": [
        "import matplotlib.pyplot as plt\n",
        "\n",
        "plt.plot([1, 2, 4, 7, 4, 2, 1])\n",
        "plt.show() # You must call plt.show() to render your final plot."
      ],
      "metadata": {
        "id": "gfz35aoaDYuB"
      },
      "execution_count": null,
      "outputs": []
    },
    {
      "cell_type": "code",
      "source": [
        "import matplotlib.pyplot as plt\n",
        "\n",
        "plt.plot([-3, -2, 5, 0], [1, 6, 4, 3])\n",
        "plt.show()"
      ],
      "metadata": {
        "id": "Ee1_diDdDYrK"
      },
      "execution_count": null,
      "outputs": []
    },
    {
      "cell_type": "code",
      "source": [
        "import matplotlib.pyplot as plt\n",
        "import numpy as np\n",
        "\n",
        "x = np.array([1, 2])\n",
        "y = np.array([3, 4])\n",
        "plt.scatter(x, y, color=[\"r\",\"b\"]) # Read more on the color argument in the examples section below.\n",
        "plt.show()"
      ],
      "metadata": {
        "id": "j36KqUyGDYok"
      },
      "execution_count": null,
      "outputs": []
    },
    {
      "cell_type": "code",
      "source": [
        "import matplotlib.pyplot as plt\n",
        "\n",
        "plt.plot([-3, -2, 5, 0], [1, 6, 4, 3])\n",
        "plt.axis([-4, 6, 0, 7])\n",
        "plt.show()"
      ],
      "metadata": {
        "id": "eQZqIdnnDYjA"
      },
      "execution_count": null,
      "outputs": []
    },
    {
      "cell_type": "code",
      "source": [
        "import matplotlib.pyplot as plt\n",
        "import numpy as np\n",
        "\n",
        "x = np.linspace(-2, 2, 50)\n",
        "plt.plot(x, x**2, \"r--\", label=\"Square function\")\n",
        "plt.plot(x, x**3, \"g-\", label=\"Cube function\")\n",
        "plt.legend(loc=\"best\")\n",
        "plt.grid(True)\n",
        "plt.show()"
      ],
      "metadata": {
        "id": "8SrY9ORQEKAL"
      },
      "execution_count": null,
      "outputs": []
    },
    {
      "cell_type": "code",
      "source": [
        "import numpy as np\n",
        "import matplotlib.pyplot as plt\n",
        "\n",
        "x = np.linspace(-2, 2, 50)\n",
        "plt.plot(x, x**2, \"r--\", label=\"Square function\")\n",
        "\n",
        "# Add a legend\n",
        "plt.legend(['Square plot'], fontsize=7)\n",
        "\n",
        "# Set X and Y Labels\n",
        "plt.xlabel('x', fontsize=12)\n",
        "plt.ylabel('x^2', fontsize=12)\n",
        "\n",
        "# Add a plot title\n",
        "plt.title('Square function', fontsize=15)\n",
        "\n",
        "plt.grid(True)\n",
        "plt.show()"
      ],
      "metadata": {
        "id": "un06ipsgEUpy"
      },
      "execution_count": null,
      "outputs": []
    },
    {
      "cell_type": "code",
      "source": [
        "import matplotlib.pyplot as plt\n",
        "import numpy as np\n",
        "\n",
        "x = np.linspace(-2.0, 2.0, 30)\n",
        "\n",
        "plt.subplot(2, 2, 1) # 2 rows, 2 columns, 1st subplot = top left\n",
        "plt.plot(x, x)\n",
        "plt.subplot(2, 2, 2) # 2 rows, 2 columns, 2nd subplot = top right\n",
        "plt.plot(x, x**2)\n",
        "plt.subplot(2, 2, 3) # 2 rows, 2 columns, 3rd subplot = bottow left\n",
        "plt.plot(x, x**3)\n",
        "plt.subplot(2, 2, 4) # 2 rows, 2 columns, 4th subplot = bottom right\n",
        "plt.plot(x, x**4)\n",
        "plt.show()"
      ],
      "metadata": {
        "id": "7uNdIYTbDYf6"
      },
      "execution_count": null,
      "outputs": []
    },
    {
      "cell_type": "code",
      "source": [
        "import matplotlib.pyplot as plt\n",
        "import numpy as np\n",
        "\n",
        "plt.subplot(2, 2, 1)  # 2 rows, 2 columns, 1st subplot = top left\n",
        "plt.plot(x, x)\n",
        "plt.subplot(2, 2, 2)  # 2 rows, 2 columns, 2nd subplot = top right\n",
        "plt.plot(x, x**2)\n",
        "plt.subplot(2, 1, 2)  # 2 rows, *1* column, 2nd subplot = bottom\n",
        "plt.plot(x, x**3)\n",
        "plt.show()"
      ],
      "metadata": {
        "id": "NG6xa_JyDYdF"
      },
      "execution_count": null,
      "outputs": []
    },
    {
      "cell_type": "code",
      "source": [],
      "metadata": {
        "id": "HTPWzeh4DYaS"
      },
      "execution_count": null,
      "outputs": []
    },
    {
      "cell_type": "markdown",
      "source": [
        "# Plot with Pandas and Matplotlib"
      ],
      "metadata": {
        "id": "W1oXPvQLvwl5"
      }
    },
    {
      "cell_type": "markdown",
      "source": [
        "### With Pandas"
      ],
      "metadata": {
        "id": "2hNfGwrn_M3b"
      }
    },
    {
      "cell_type": "code",
      "source": [
        "import pandas as pd\n",
        "\n",
        "df = pd.read_csv(\"/content/stroke.csv\")\n",
        "df.head()"
      ],
      "metadata": {
        "id": "bgWhHUMXDYXP"
      },
      "execution_count": null,
      "outputs": []
    },
    {
      "cell_type": "code",
      "source": [
        "df.columns"
      ],
      "metadata": {
        "id": "WOXby7d3wy7X"
      },
      "execution_count": null,
      "outputs": []
    },
    {
      "cell_type": "code",
      "source": [
        "df.plot(kind='scatter', x = \"age\", y = \"heart_disease\", title=\"Scatter Plot\")"
      ],
      "metadata": {
        "id": "BP3fG2pQDYT1"
      },
      "execution_count": null,
      "outputs": []
    },
    {
      "cell_type": "code",
      "source": [
        "df.plot(kind='scatter', x = \"age\", y = \"bmi\", title=\"Scatter Plot\")"
      ],
      "metadata": {
        "id": "v3mq4RmODYOi"
      },
      "execution_count": null,
      "outputs": []
    },
    {
      "cell_type": "code",
      "source": [
        "df.plot(kind='scatter', x = \"age\", y = \"stroke\", title=\"Scatter Plot\")"
      ],
      "metadata": {
        "id": "94txNpHcxNhR"
      },
      "execution_count": null,
      "outputs": []
    },
    {
      "cell_type": "code",
      "source": [],
      "metadata": {
        "id": "GfIxxGL53clS"
      },
      "execution_count": null,
      "outputs": []
    },
    {
      "cell_type": "markdown",
      "source": [
        "### With Matplotlib"
      ],
      "metadata": {
        "id": "moaOv6wT_P8X"
      }
    },
    {
      "cell_type": "code",
      "source": [
        "import numpy as np\n",
        "import pandas as pd\n",
        "import matplotlib.pyplot as plt"
      ],
      "metadata": {
        "id": "7sV1lT62_PkZ"
      },
      "execution_count": null,
      "outputs": []
    },
    {
      "cell_type": "code",
      "source": [
        "df = pd.read_csv(\"/content/bank.csv\", sep=';')\n",
        "df.head()"
      ],
      "metadata": {
        "id": "s-RPO0z03Exi"
      },
      "execution_count": null,
      "outputs": []
    },
    {
      "cell_type": "code",
      "source": [
        "plt.plot(df['balance'])\n",
        "plt.show()"
      ],
      "metadata": {
        "id": "dR1-UXPL_lYg"
      },
      "execution_count": null,
      "outputs": []
    },
    {
      "cell_type": "code",
      "source": [
        "plt.plot(df['balance'])\n",
        "plt.xlabel('Customer')\n",
        "plt.ylabel('Balance')\n",
        "plt.title('Customer Balance')\n",
        "plt.legend()\n",
        "plt.show()"
      ],
      "metadata": {
        "id": "uQew--q5_tbw"
      },
      "execution_count": null,
      "outputs": []
    },
    {
      "cell_type": "code",
      "source": [
        "plt.hist(df['balance'])\n",
        "plt.ylabel('Customer')\n",
        "plt.xlabel('Balance')\n",
        "plt.title('Customer Balance Distribution')\n",
        "plt.show()"
      ],
      "metadata": {
        "id": "1wgD2OXc_0u4"
      },
      "execution_count": null,
      "outputs": []
    },
    {
      "cell_type": "code",
      "source": [
        "plt.bar(data['marital'], df['balance'])\n",
        "plt.xlabel('Marital Status')\n",
        "plt.ylabel('Balance')\n",
        "plt.title('Customer Balance Distribution')\n",
        "plt.show()"
      ],
      "metadata": {
        "id": "YHJQ3qlIBevm"
      },
      "execution_count": null,
      "outputs": []
    },
    {
      "cell_type": "code",
      "source": [
        "plt.bar(data['housing'], df['balance'])\n",
        "plt.xlabel('Housing')\n",
        "plt.ylabel('Balance')\n",
        "plt.title('Customer Balance Distribution')\n",
        "plt.show()"
      ],
      "metadata": {
        "id": "toTsJgQjCGPN"
      },
      "execution_count": null,
      "outputs": []
    },
    {
      "cell_type": "code",
      "source": [
        "plt.scatter(data['age'], data['balance'])\n",
        "plt.show()"
      ],
      "metadata": {
        "id": "StnR4kyqAGpR"
      },
      "execution_count": null,
      "outputs": []
    },
    {
      "cell_type": "code",
      "source": [
        "plt.scatter(data['age'], data['balance'])\n",
        "plt.xlabel('Age')\n",
        "plt.ylabel('Balance')\n",
        "plt.title(\"Balance by Age\")\n",
        "plt.show()"
      ],
      "metadata": {
        "id": "rtIsZQKKAcjS"
      },
      "execution_count": null,
      "outputs": []
    },
    {
      "cell_type": "code",
      "source": [
        "plt.pie(data['marital'].value_counts())\n",
        "plt.show()"
      ],
      "metadata": {
        "id": "92cJfyjbAhyS"
      },
      "execution_count": null,
      "outputs": []
    },
    {
      "cell_type": "code",
      "source": [
        "plt.pie(data['marital'].value_counts(), labels = data['marital'].value_counts().keys())\n",
        "plt.legend()\n",
        "plt.show()"
      ],
      "metadata": {
        "id": "JP7rqE_UCaNX"
      },
      "execution_count": null,
      "outputs": []
    }
  ],
  "metadata": {
    "colab": {
      "provenance": []
    },
    "kernelspec": {
      "display_name": "Python 3 (ipykernel)",
      "language": "python",
      "name": "python3"
    },
    "language_info": {
      "codemirror_mode": {
        "name": "ipython",
        "version": 3
      },
      "file_extension": ".py",
      "mimetype": "text/x-python",
      "name": "python",
      "nbconvert_exporter": "python",
      "pygments_lexer": "ipython3",
      "version": "3.12.3"
    }
  },
  "nbformat": 4,
  "nbformat_minor": 0
}