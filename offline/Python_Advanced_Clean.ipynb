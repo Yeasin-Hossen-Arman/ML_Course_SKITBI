{
 "cells": [
  {
   "cell_type": "markdown",
   "metadata": {
    "id": "JRbqXdAjM5Rd"
   },
   "source": [
    "# Python Lambda"
   ]
  },
  {
   "cell_type": "code",
   "execution_count": null,
   "metadata": {
    "colab": {
     "base_uri": "https://localhost:8080/"
    },
    "id": "uGpu3nmjM2wy",
    "outputId": "451bc81c-4e01-4cad-9462-cdfb69b2532f"
   },
   "outputs": [],
   "source": []
  },
  {
   "cell_type": "code",
   "execution_count": null,
   "metadata": {
    "colab": {
     "base_uri": "https://localhost:8080/"
    },
    "id": "0SeUlnd2yiw2",
    "outputId": "6b642dc1-5281-4d17-f065-402e7f0388e9"
   },
   "outputs": [],
   "source": []
  },
  {
   "cell_type": "code",
   "execution_count": null,
   "metadata": {
    "colab": {
     "base_uri": "https://localhost:8080/"
    },
    "id": "PTivLnUAy3QS",
    "outputId": "2a3d58f9-db58-4de8-822d-fb4549f1d2fe"
   },
   "outputs": [],
   "source": []
  },
  {
   "cell_type": "code",
   "execution_count": null,
   "metadata": {
    "colab": {
     "base_uri": "https://localhost:8080/"
    },
    "id": "D80JbJ3Ayism",
    "outputId": "4db86d8a-d817-4ea9-ec4f-d71e5df56ccf"
   },
   "outputs": [],
   "source": []
  },
  {
   "cell_type": "code",
   "execution_count": null,
   "metadata": {
    "colab": {
     "base_uri": "https://localhost:8080/"
    },
    "id": "c5EdlaB6zvpl",
    "outputId": "d3600010-c8cf-470c-a1a6-7a1be1c8c487"
   },
   "outputs": [],
   "source": []
  },
  {
   "cell_type": "code",
   "execution_count": null,
   "metadata": {
    "colab": {
     "base_uri": "https://localhost:8080/"
    },
    "id": "Ucv-vdPhyipu",
    "outputId": "860d0057-a435-4877-d02f-ee6865196b58"
   },
   "outputs": [],
   "source": []
  },
  {
   "cell_type": "code",
   "execution_count": null,
   "metadata": {
    "colab": {
     "base_uri": "https://localhost:8080/"
    },
    "id": "OdWa7SMnyinS",
    "outputId": "93abd672-7526-4a16-ccea-c86c10477293"
   },
   "outputs": [],
   "source": []
  },
  {
   "cell_type": "code",
   "execution_count": null,
   "metadata": {
    "colab": {
     "base_uri": "https://localhost:8080/"
    },
    "id": "-jlBHpKHyikX",
    "outputId": "4e511b47-4c1f-4d92-fb5d-73ed7cd46f53"
   },
   "outputs": [],
   "source": []
  },
  {
   "cell_type": "code",
   "execution_count": null,
   "metadata": {
    "id": "ZEbdfLzO0Nbf"
   },
   "outputs": [],
   "source": []
  },
  {
   "cell_type": "markdown",
   "metadata": {
    "id": "PVlahuqv5dNu"
   },
   "source": [
    "# Python Variable Scope"
   ]
  },
  {
   "cell_type": "code",
   "execution_count": null,
   "metadata": {
    "colab": {
     "base_uri": "https://localhost:8080/"
    },
    "id": "BHhEzR5j5c_o",
    "outputId": "9ad34e72-414d-44e4-fe45-339a16744809"
   },
   "outputs": [],
   "source": []
  },
  {
   "cell_type": "code",
   "execution_count": null,
   "metadata": {
    "colab": {
     "base_uri": "https://localhost:8080/"
    },
    "id": "bVXIczmI5c8Z",
    "outputId": "4d3adc97-6b86-40a4-8bc5-ef19a4317bd7"
   },
   "outputs": [],
   "source": []
  },
  {
   "cell_type": "code",
   "execution_count": null,
   "metadata": {
    "colab": {
     "base_uri": "https://localhost:8080/"
    },
    "id": "_bIvDrAV5c5f",
    "outputId": "f9579c8a-0ad5-45a1-8884-ef0b9a4e92cc"
   },
   "outputs": [],
   "source": []
  },
  {
   "cell_type": "code",
   "execution_count": null,
   "metadata": {
    "colab": {
     "base_uri": "https://localhost:8080/"
    },
    "id": "c02VgXrH5c2w",
    "outputId": "39b81427-e94c-4f89-e4e6-bdf143c72e62"
   },
   "outputs": [],
   "source": []
  },
  {
   "cell_type": "code",
   "execution_count": null,
   "metadata": {
    "id": "VX8KEOGf5cxP"
   },
   "outputs": [],
   "source": []
  },
  {
   "cell_type": "code",
   "execution_count": null,
   "metadata": {
    "id": "1Mwynwzr5cuW"
   },
   "outputs": [],
   "source": []
  },
  {
   "cell_type": "markdown",
   "metadata": {
    "id": "hbS7ChXQ3Fom"
   },
   "source": [
    "# Python Classes/Objects"
   ]
  },
  {
   "cell_type": "markdown",
   "metadata": {
    "id": "LO-pn2mD2F1h"
   },
   "source": [
    "\n",
    "### Classes:\n",
    "\n",
    "###### Definition: A class in Python is a blueprint for creating objects. It defines a datatype by encapsulating the attributes and behaviors (methods) that the objects created from the class can perform.\n",
    "###### Components: A class typically includes:\n",
    "<br>\n",
    "Attributes: Variables that store data specific to the class.\n",
    "<br>\n",
    "Methods: Functions that define behaviors of the class.\n",
    "\n",
    "### Objects:\n",
    "\n",
    "###### Definition: An object is an instance of a class. When a class is defined, no memory is allocated until an object of that class is created.\n",
    "###### Creation: Objects are created by calling the class itself as if it were a function. This triggers the class's __init__ method, which initializes the object.\n",
    "###### Usage: Objects access the attributes and methods of the class they were created from, allowing for individual object data and behaviors as defined by the class."
   ]
  },
  {
   "cell_type": "markdown",
   "metadata": {
    "id": "g-b-IoTv2QBC"
   },
   "source": [
    "### __init__() Function\n",
    "###### Purpose: The __init__() method is the constructor in Python. It's automatically invoked when a new object of a class is created.\n",
    "###### Self Parameter: The first parameter of the __init__() method is self, which is a reference to the current instance of the class. It allows access to the attributes and methods of the class in Python.\n",
    "###### Initialization: The __init__() method is used to initialize the attributes of an object. This method can take additional arguments to set the initial state of a new object."
   ]
  },
  {
   "cell_type": "code",
   "execution_count": null,
   "metadata": {
    "id": "1dh7GkjD2PvS"
   },
   "outputs": [],
   "source": []
  },
  {
   "cell_type": "code",
   "execution_count": null,
   "metadata": {
    "colab": {
     "base_uri": "https://localhost:8080/"
    },
    "id": "8KdZCpqT2Fjs",
    "outputId": "d410d1c1-716b-4aab-f85d-1a4c6b43cc0a"
   },
   "outputs": [],
   "source": []
  },
  {
   "cell_type": "code",
   "execution_count": null,
   "metadata": {
    "colab": {
     "base_uri": "https://localhost:8080/"
    },
    "id": "YvFg4Ohe2Fg1",
    "outputId": "271d46b9-0400-488d-87d7-a82dcda30e23"
   },
   "outputs": [],
   "source": []
  },
  {
   "cell_type": "code",
   "execution_count": null,
   "metadata": {
    "id": "hLkBIyTf2Fec"
   },
   "outputs": [],
   "source": []
  },
  {
   "cell_type": "code",
   "execution_count": null,
   "metadata": {
    "colab": {
     "base_uri": "https://localhost:8080/"
    },
    "id": "wwUfYQmv2FYX",
    "outputId": "10244da1-b1fb-483f-80e1-8c6ffe49faa4"
   },
   "outputs": [],
   "source": []
  },
  {
   "cell_type": "code",
   "execution_count": null,
   "metadata": {
    "id": "q-IgtX844efa"
   },
   "outputs": [],
   "source": []
  },
  {
   "cell_type": "markdown",
   "metadata": {
    "id": "wdolrttU6qA6"
   },
   "source": [
    "# Python RegEx\n"
   ]
  },
  {
   "cell_type": "markdown",
   "metadata": {
    "id": "SnnPMXKL8RDa"
   },
   "source": [
    "### Metacharacters\n",
    "<li>\n",
    "[] ->\tA set of characters <br>\n",
    ". ->\tAny character (except newline character) <br>\n",
    "^ ->\tStarts with <br>\n",
    "$ ->\tEnds with <br>\n",
    "* ->\tZero or more occurrences <br>\n",
    "+ ->\tOne or more occurrences <br>\n",
    "? ->\tZero or one occurrences <br>\n",
    "{} ->\tExactly the specified number of occurrences <br>\n",
    "</li>"
   ]
  },
  {
   "cell_type": "code",
   "execution_count": null,
   "metadata": {
    "id": "YcdA3j0U6fdQ"
   },
   "outputs": [],
   "source": []
  },
  {
   "cell_type": "code",
   "execution_count": null,
   "metadata": {
    "id": "mVUypieJ6fZy"
   },
   "outputs": [],
   "source": []
  },
  {
   "cell_type": "code",
   "execution_count": null,
   "metadata": {
    "colab": {
     "base_uri": "https://localhost:8080/"
    },
    "id": "Kh0o1m8M6fWF",
    "outputId": "20da9a41-67f1-4916-82ec-46fd0805540b"
   },
   "outputs": [],
   "source": []
  },
  {
   "cell_type": "code",
   "execution_count": null,
   "metadata": {
    "id": "53Ym24eZ6fSK"
   },
   "outputs": [],
   "source": []
  },
  {
   "cell_type": "code",
   "execution_count": null,
   "metadata": {
    "colab": {
     "base_uri": "https://localhost:8080/"
    },
    "id": "U60oaM8j6fMO",
    "outputId": "9d33e1ed-ff59-4d4e-835f-fdb9e4ea6156"
   },
   "outputs": [],
   "source": []
  },
  {
   "cell_type": "code",
   "execution_count": null,
   "metadata": {
    "id": "IJvZfprC6fIy"
   },
   "outputs": [],
   "source": []
  },
  {
   "cell_type": "code",
   "execution_count": null,
   "metadata": {
    "colab": {
     "base_uri": "https://localhost:8080/"
    },
    "id": "ogHFU1ix6fGD",
    "outputId": "08eece70-0922-4ec6-aca5-90737bb5cf5f"
   },
   "outputs": [],
   "source": []
  },
  {
   "cell_type": "code",
   "execution_count": null,
   "metadata": {
    "colab": {
     "base_uri": "https://localhost:8080/"
    },
    "id": "W_C27zQK6fAS",
    "outputId": "f212cdd7-f8d6-4090-91d2-fef5ae8fc3ef"
   },
   "outputs": [],
   "source": []
  },
  {
   "cell_type": "code",
   "execution_count": null,
   "metadata": {
    "colab": {
     "base_uri": "https://localhost:8080/"
    },
    "id": "1Zz-z3es6e9D",
    "outputId": "5bed9864-4877-46d3-bd7e-83fc1ca6b102"
   },
   "outputs": [],
   "source": []
  },
  {
   "cell_type": "code",
   "execution_count": null,
   "metadata": {
    "colab": {
     "base_uri": "https://localhost:8080/"
    },
    "id": "CD1lAzfU9bLI",
    "outputId": "4bbaa8cc-966a-4018-a15a-c8579641b9b3"
   },
   "outputs": [],
   "source": []
  },
  {
   "cell_type": "markdown",
   "metadata": {
    "id": "3r-qY3i2-BSe"
   },
   "source": [
    "# Try .. Catch"
   ]
  },
  {
   "cell_type": "code",
   "execution_count": null,
   "metadata": {
    "colab": {
     "base_uri": "https://localhost:8080/",
     "height": 141
    },
    "id": "xsdR-SSz-3sW",
    "outputId": "e1636e90-f88e-4455-e884-c8481ab23eb9"
   },
   "outputs": [],
   "source": []
  },
  {
   "cell_type": "code",
   "execution_count": null,
   "metadata": {
    "colab": {
     "base_uri": "https://localhost:8080/"
    },
    "id": "s4DFi22y9f7o",
    "outputId": "ac9cfa27-8cae-4290-a1df-0f330c8ea7ca"
   },
   "outputs": [],
   "source": []
  },
  {
   "cell_type": "code",
   "execution_count": null,
   "metadata": {
    "colab": {
     "base_uri": "https://localhost:8080/",
     "height": 176
    },
    "id": "KIbSqg4k-7H_",
    "outputId": "c76c9d65-d0a8-478d-be39-6f15fd13d694"
   },
   "outputs": [],
   "source": []
  },
  {
   "cell_type": "code",
   "execution_count": null,
   "metadata": {
    "colab": {
     "base_uri": "https://localhost:8080/"
    },
    "id": "zwa0-prU-FSp",
    "outputId": "5561e3b2-b974-4c86-efd8-3d43c0c1d3a6"
   },
   "outputs": [],
   "source": []
  },
  {
   "cell_type": "markdown",
   "metadata": {
    "id": "iCRn_ClP-HYE"
   },
   "source": [
    "### try Block:\n",
    "<li>\n",
    "Purpose: This is where you place the code that might cause an exception during execution. The Python interpreter checks the code in this block for any errors.\n",
    "</li>\n",
    "\n",
    "### except Block:\n",
    "<li>\n",
    "Handling Exceptions: If an exception occurs in the try block, Python stops the execution of that block and transfers control to the except block. You can specify particular exceptions to catch or handle all exceptions generically.\n",
    "</li>\n",
    "<li>\n",
    "Multiple Exceptions: You can have multiple except clauses to handle different exceptions in different ways.\n",
    "</li>\n",
    "\n",
    "### else Block:\n",
    "<li>\n",
    "No Exceptions: This block is executed if no exceptions were raised in the try block. It’s often used for code that should run if the try block was successful.\n",
    "</li>\n",
    "<li>\n",
    "Placement: It must be placed after all except blocks.\n",
    "</li>\n",
    "\n",
    "### finally Block:\n",
    "<li>\n",
    "Always Executes: This block runs regardless of whether an exception was raised or not and whether it was caught if raised. It's typically used for clean-up actions, such as closing files or releasing resources.\n",
    "</li>\n",
    "<li>\n",
    "Guaranteed Execution: Even if the program crashes or a return statement is encountered in the try or except blocks, the finally block will still execute.\n",
    "</li>"
   ]
  },
  {
   "cell_type": "code",
   "execution_count": null,
   "metadata": {
    "colab": {
     "base_uri": "https://localhost:8080/"
    },
    "id": "c0dzrvaE-FI7",
    "outputId": "04e89cc7-ac86-449d-f04d-4355072bd8c3"
   },
   "outputs": [],
   "source": []
  },
  {
   "cell_type": "markdown",
   "metadata": {
    "id": "P5_uvUNl_4ZF"
   },
   "source": [
    "### We can use try..except for multiple error."
   ]
  },
  {
   "cell_type": "code",
   "execution_count": null,
   "metadata": {
    "colab": {
     "base_uri": "https://localhost:8080/"
    },
    "id": "g3CWxeND_T5h",
    "outputId": "f1e05d61-34c0-44e2-cb52-6252cf05041f"
   },
   "outputs": [],
   "source": []
  },
  {
   "cell_type": "code",
   "execution_count": null,
   "metadata": {
    "colab": {
     "base_uri": "https://localhost:8080/"
    },
    "id": "lHvyCM4GAmnk",
    "outputId": "aad0c703-19c1-4532-e2f6-d21460e16be2"
   },
   "outputs": [],
   "source": []
  },
  {
   "cell_type": "code",
   "execution_count": null,
   "metadata": {
    "id": "F16CQOvDAmkj"
   },
   "outputs": [],
   "source": []
  },
  {
   "cell_type": "markdown",
   "metadata": {
    "id": "IQY6QhzMwTOc"
   },
   "source": [
    "# Read Documentation"
   ]
  },
  {
   "cell_type": "code",
   "execution_count": null,
   "metadata": {
    "colab": {
     "base_uri": "https://localhost:8080/",
     "height": 141
    },
    "id": "C8WAfMlHwSWc",
    "outputId": "a2994711-2823-46da-9ad9-0b1d240bf37c"
   },
   "outputs": [],
   "source": []
  },
  {
   "cell_type": "markdown",
   "metadata": {
    "id": "oA0ANX4O4tti"
   },
   "source": [
    "### ** Please learn the following concept by yourself.**\n",
    "(Out of scope for this course)\n",
    "\n",
    "1. Inheritance\n",
    "2. Polymorphism\n",
    "3. Iterators\n",
    "4. File Handling\n",
    "5. IO File"
   ]
  },
  {
   "cell_type": "markdown",
   "metadata": {
    "id": "ROb_veYVA1UL"
   },
   "source": [
    "# Install package"
   ]
  },
  {
   "cell_type": "code",
   "execution_count": null,
   "metadata": {
    "colab": {
     "base_uri": "https://localhost:8080/"
    },
    "id": "YgKf-5EEAmha",
    "outputId": "471e4037-fdcd-4fac-b920-521f34152a60"
   },
   "outputs": [],
   "source": [
    "pip install numpy"
   ]
  },
  {
   "cell_type": "code",
   "execution_count": null,
   "metadata": {
    "colab": {
     "base_uri": "https://localhost:8080/"
    },
    "id": "4xQoykV0A8Xh",
    "outputId": "931d28f3-495a-4fb7-cbc1-6d9901f7ff10"
   },
   "outputs": [],
   "source": [
    "pip install pandas"
   ]
  },
  {
   "cell_type": "code",
   "execution_count": null,
   "metadata": {
    "id": "lXwV41w1A-ux"
   },
   "outputs": [],
   "source": []
  },
  {
   "cell_type": "markdown",
   "metadata": {
    "id": "F-VXKir5vzO0"
   },
   "source": [
    "# Python Numpy\n",
    "NumPy (Numerical Python) is an open source Python library that’s used in almost every field of science and engineering.\n",
    "\n",
    "It’s the universal standard for working with numerical data in Python.\n"
   ]
  },
  {
   "cell_type": "code",
   "execution_count": null,
   "metadata": {
    "id": "wQyFGszxvyN4"
   },
   "outputs": [],
   "source": []
  },
  {
   "cell_type": "code",
   "execution_count": null,
   "metadata": {
    "id": "R6Xk-RyjvyJt"
   },
   "outputs": [],
   "source": []
  },
  {
   "cell_type": "code",
   "execution_count": null,
   "metadata": {
    "id": "ngv0bGbRwOSl"
   },
   "outputs": [],
   "source": []
  },
  {
   "cell_type": "code",
   "execution_count": null,
   "metadata": {
    "colab": {
     "base_uri": "https://localhost:8080/",
     "height": 0
    },
    "id": "KMz1IdO1vyGl",
    "outputId": "c8873359-9297-4e9d-e66f-c0ddee270340"
   },
   "outputs": [],
   "source": []
  },
  {
   "cell_type": "code",
   "execution_count": null,
   "metadata": {
    "colab": {
     "base_uri": "https://localhost:8080/",
     "height": 0
    },
    "id": "ft_ARNucvx85",
    "outputId": "1579e4db-f1e1-4c13-f2ec-48702b296e6c"
   },
   "outputs": [],
   "source": []
  },
  {
   "cell_type": "code",
   "execution_count": null,
   "metadata": {
    "colab": {
     "base_uri": "https://localhost:8080/",
     "height": 0
    },
    "id": "e30VvRngx8BH",
    "outputId": "30745225-2bd6-4f1b-9584-e5b19e44c039"
   },
   "outputs": [],
   "source": []
  },
  {
   "cell_type": "code",
   "execution_count": null,
   "metadata": {
    "colab": {
     "base_uri": "https://localhost:8080/",
     "height": 0
    },
    "id": "S2exjjKvyDA4",
    "outputId": "bbf95047-c367-4d0d-b93c-341856fd0576"
   },
   "outputs": [],
   "source": []
  },
  {
   "cell_type": "code",
   "execution_count": null,
   "metadata": {
    "colab": {
     "base_uri": "https://localhost:8080/",
     "height": 0
    },
    "id": "_bTmNw9lx1Gz",
    "outputId": "789836b4-d3a4-431a-cf4c-efe2ab92878a"
   },
   "outputs": [],
   "source": []
  },
  {
   "cell_type": "code",
   "execution_count": null,
   "metadata": {
    "id": "ugwWEjsQvx6c"
   },
   "outputs": [],
   "source": []
  },
  {
   "cell_type": "code",
   "execution_count": null,
   "metadata": {
    "colab": {
     "base_uri": "https://localhost:8080/",
     "height": 0
    },
    "id": "C4qpkxgzxvWK",
    "outputId": "95c65d47-3c53-47e4-dc38-790ec3edcbcc"
   },
   "outputs": [],
   "source": []
  },
  {
   "cell_type": "code",
   "execution_count": null,
   "metadata": {
    "colab": {
     "base_uri": "https://localhost:8080/"
    },
    "id": "ZdluKuXIxvOk",
    "outputId": "e1149c33-a1d3-4255-a3a7-de2a3236d63a"
   },
   "outputs": [],
   "source": []
  },
  {
   "cell_type": "code",
   "execution_count": null,
   "metadata": {
    "colab": {
     "base_uri": "https://localhost:8080/"
    },
    "id": "qAWW7lpBxvL8",
    "outputId": "39243b85-3a94-43d1-a9dc-232fba418b05"
   },
   "outputs": [],
   "source": []
  },
  {
   "cell_type": "code",
   "execution_count": null,
   "metadata": {
    "colab": {
     "base_uri": "https://localhost:8080/",
     "height": 0
    },
    "id": "eN8Qpz_sxvTN",
    "outputId": "564966b3-bc3d-4333-bcf9-afed3fd82f2d"
   },
   "outputs": [],
   "source": []
  },
  {
   "cell_type": "code",
   "execution_count": null,
   "metadata": {
    "id": "gOa09xNYxvJF"
   },
   "outputs": [],
   "source": []
  },
  {
   "cell_type": "code",
   "execution_count": null,
   "metadata": {
    "colab": {
     "base_uri": "https://localhost:8080/",
     "height": 0
    },
    "id": "ZjtRkvNFxvGm",
    "outputId": "990f6390-580b-4a6f-a766-c8912b9f2894"
   },
   "outputs": [],
   "source": []
  },
  {
   "cell_type": "code",
   "execution_count": null,
   "metadata": {
    "colab": {
     "base_uri": "https://localhost:8080/",
     "height": 0
    },
    "id": "K4ecqKRiyeOs",
    "outputId": "3d541b92-d1c4-461e-8a4e-6eb6e49ad2fa"
   },
   "outputs": [],
   "source": []
  },
  {
   "cell_type": "code",
   "execution_count": null,
   "metadata": {
    "colab": {
     "base_uri": "https://localhost:8080/",
     "height": 0
    },
    "id": "rsdl3eWKyeKo",
    "outputId": "48a103c6-5c11-4105-b810-48d6c5be1a2e"
   },
   "outputs": [],
   "source": []
  },
  {
   "cell_type": "markdown",
   "metadata": {
    "id": "dVcZQlrrykhI"
   },
   "source": [
    "### What’s the difference between a Python list and a NumPy array?\n",
    "\n",
    "###### NumPy gives you an enormous range of fast and efficient ways of creating arrays and manipulating numerical data inside them.\n",
    "\n",
    "###### While a Python list can contain different data types within a single list, all of the elements in a NumPy array should be homogeneous.\n",
    "\n",
    "###### The mathematical operations that are meant to be performed on arrays would be extremely inefficient if the arrays weren’t homogeneous.\n",
    "\n",
    "###### NumPy arrays are faster and more compact than Python lists. NumPy uses much less memory to store data and it provides a mechanism of specifying the data types. This allows the code to be optimized even further."
   ]
  },
  {
   "cell_type": "code",
   "execution_count": null,
   "metadata": {
    "id": "4G5lQsqp0Iaa"
   },
   "outputs": [],
   "source": []
  },
  {
   "cell_type": "markdown",
   "metadata": {
    "id": "XJhmGgPd0JCr"
   },
   "source": [
    "###### 1D Matrix / column Matrix"
   ]
  },
  {
   "cell_type": "code",
   "execution_count": null,
   "metadata": {
    "id": "jJgYY5cWyTai"
   },
   "outputs": [],
   "source": []
  },
  {
   "cell_type": "markdown",
   "metadata": {
    "id": "-KC7ZkwP0M6S"
   },
   "source": [
    "###### 2D Matrix"
   ]
  },
  {
   "cell_type": "code",
   "execution_count": null,
   "metadata": {
    "id": "ElJmsBfnyTQ3"
   },
   "outputs": [],
   "source": []
  },
  {
   "cell_type": "markdown",
   "metadata": {
    "id": "om7D7RAc0Xm9"
   },
   "source": [
    "###### 3D Matrix"
   ]
  },
  {
   "cell_type": "code",
   "execution_count": null,
   "metadata": {
    "id": "Gp638X-yyTNy"
   },
   "outputs": [],
   "source": []
  },
  {
   "cell_type": "markdown",
   "metadata": {
    "id": "qncH6H7i3n4h"
   },
   "source": [
    "### Indexing and Slicing"
   ]
  },
  {
   "cell_type": "code",
   "execution_count": null,
   "metadata": {
    "colab": {
     "base_uri": "https://localhost:8080/",
     "height": 0
    },
    "id": "sVY_wBvr3rh1",
    "outputId": "1a62ff0d-5d52-4023-956d-ab943bab76bd"
   },
   "outputs": [],
   "source": []
  },
  {
   "cell_type": "code",
   "execution_count": null,
   "metadata": {
    "colab": {
     "base_uri": "https://localhost:8080/",
     "height": 0
    },
    "id": "hDNvIY-S3rbh",
    "outputId": "ed7476d4-ab6e-4ff5-fa7f-c6ba78aef845"
   },
   "outputs": [],
   "source": []
  },
  {
   "cell_type": "code",
   "execution_count": null,
   "metadata": {
    "colab": {
     "base_uri": "https://localhost:8080/",
     "height": 0
    },
    "id": "BTlddPzA3rYN",
    "outputId": "ef51be5b-68a8-4304-d81b-429833080c78"
   },
   "outputs": [],
   "source": []
  },
  {
   "cell_type": "code",
   "execution_count": null,
   "metadata": {
    "colab": {
     "base_uri": "https://localhost:8080/",
     "height": 0
    },
    "id": "SoRFSJ5A4GrX",
    "outputId": "326f9bc6-9da2-4b5c-e70a-ff3223606151"
   },
   "outputs": [],
   "source": []
  },
  {
   "cell_type": "markdown",
   "metadata": {
    "id": "nm1FOsNK1uUP"
   },
   "source": [
    "### Shape and Size of an ndarray"
   ]
  },
  {
   "cell_type": "code",
   "execution_count": null,
   "metadata": {
    "id": "fqcQiMXH1txh"
   },
   "outputs": [],
   "source": []
  },
  {
   "cell_type": "code",
   "execution_count": null,
   "metadata": {
    "colab": {
     "base_uri": "https://localhost:8080/",
     "height": 0
    },
    "id": "IqP5DLQp1tqp",
    "outputId": "7ff7b7bb-8962-41f2-bf96-38ce4c10e588"
   },
   "outputs": [],
   "source": []
  },
  {
   "cell_type": "code",
   "execution_count": null,
   "metadata": {
    "colab": {
     "base_uri": "https://localhost:8080/",
     "height": 0
    },
    "id": "ZmaakpC_15Xu",
    "outputId": "e8284d2d-f618-425f-dde9-5e0a697ef3c4"
   },
   "outputs": [],
   "source": []
  },
  {
   "cell_type": "markdown",
   "metadata": {
    "id": "2EirfxEe0fCx"
   },
   "source": [
    "### Create a matrix\n",
    "###### with zeros, ones, arange"
   ]
  },
  {
   "cell_type": "code",
   "execution_count": null,
   "metadata": {
    "colab": {
     "base_uri": "https://localhost:8080/",
     "height": 0
    },
    "id": "ufFf_nvM0efP",
    "outputId": "f24acf83-aaf0-43a2-c016-3224e9277699"
   },
   "outputs": [],
   "source": []
  },
  {
   "cell_type": "code",
   "execution_count": null,
   "metadata": {
    "colab": {
     "base_uri": "https://localhost:8080/",
     "height": 0
    },
    "id": "obfAH3TO0ecF",
    "outputId": "5ba578a1-df33-4fa7-cf1a-006e3cf1e45e"
   },
   "outputs": [],
   "source": []
  },
  {
   "cell_type": "code",
   "execution_count": null,
   "metadata": {
    "colab": {
     "base_uri": "https://localhost:8080/",
     "height": 0
    },
    "id": "AzCW6n1r0eZL",
    "outputId": "c530bf33-9dcc-435e-adb7-6c13d47bc83a"
   },
   "outputs": [],
   "source": []
  },
  {
   "cell_type": "code",
   "execution_count": null,
   "metadata": {
    "colab": {
     "base_uri": "https://localhost:8080/",
     "height": 0
    },
    "id": "-Y59l9Mm0eWn",
    "outputId": "110cd64f-31c9-4204-8dfe-214594f6389f"
   },
   "outputs": [],
   "source": []
  },
  {
   "cell_type": "code",
   "execution_count": null,
   "metadata": {
    "colab": {
     "base_uri": "https://localhost:8080/",
     "height": 0
    },
    "id": "dGcnw9Yj0eUN",
    "outputId": "031aa50a-7715-452b-b282-ccc72b308229"
   },
   "outputs": [],
   "source": []
  },
  {
   "cell_type": "code",
   "execution_count": null,
   "metadata": {
    "colab": {
     "base_uri": "https://localhost:8080/",
     "height": 0
    },
    "id": "VqWjD_ca0eRP",
    "outputId": "40376a37-9ffb-423a-d3d6-148b7c5d5b17"
   },
   "outputs": [],
   "source": []
  },
  {
   "cell_type": "code",
   "execution_count": null,
   "metadata": {
    "colab": {
     "base_uri": "https://localhost:8080/",
     "height": 0
    },
    "id": "r81gnpU-0xgz",
    "outputId": "281ec66a-639a-45b5-e74e-0e0fc14ab71d"
   },
   "outputs": [],
   "source": []
  },
  {
   "cell_type": "code",
   "execution_count": null,
   "metadata": {
    "colab": {
     "base_uri": "https://localhost:8080/",
     "height": 0
    },
    "id": "i-FqnHHJ02Hn",
    "outputId": "a4ab18de-0aee-4de7-c88f-76e700d0f604"
   },
   "outputs": [],
   "source": []
  },
  {
   "cell_type": "markdown",
   "metadata": {
    "id": "2h1nE_i81Bi1"
   },
   "source": [
    "### Adding, removing, and sorting elements"
   ]
  },
  {
   "cell_type": "code",
   "execution_count": null,
   "metadata": {
    "colab": {
     "base_uri": "https://localhost:8080/",
     "height": 0
    },
    "id": "alubfbcz1FLl",
    "outputId": "b9329dda-8173-4a40-88e4-39a6a34b0a83"
   },
   "outputs": [],
   "source": []
  },
  {
   "cell_type": "markdown",
   "metadata": {
    "id": "ZrY5rL1Y1Wyp"
   },
   "source": [
    "###### But you need to think about the \"axis\" sometime"
   ]
  },
  {
   "cell_type": "code",
   "execution_count": null,
   "metadata": {
    "colab": {
     "base_uri": "https://localhost:8080/",
     "height": 0
    },
    "id": "xuIZr7PC1Lsj",
    "outputId": "3742c6ba-eeed-4dde-9f16-f4eb4935da3d"
   },
   "outputs": [],
   "source": []
  },
  {
   "cell_type": "code",
   "execution_count": null,
   "metadata": {
    "id": "zudIjt8K5zKF"
   },
   "outputs": [],
   "source": []
  },
  {
   "cell_type": "code",
   "execution_count": null,
   "metadata": {
    "colab": {
     "base_uri": "https://localhost:8080/",
     "height": 0
    },
    "id": "IwNuXfJA5y9N",
    "outputId": "9938aaee-d253-4d3e-90a6-524cbdaf5085"
   },
   "outputs": [],
   "source": []
  },
  {
   "cell_type": "code",
   "execution_count": null,
   "metadata": {
    "colab": {
     "base_uri": "https://localhost:8080/",
     "height": 0
    },
    "id": "i6NWH4og53oz",
    "outputId": "e35a319d-4bed-4cef-9fc8-c948fcf1ca8e"
   },
   "outputs": [],
   "source": []
  },
  {
   "cell_type": "code",
   "execution_count": null,
   "metadata": {
    "colab": {
     "base_uri": "https://localhost:8080/",
     "height": 0
    },
    "id": "fWX9xrov1h8u",
    "outputId": "63339f14-4683-43c3-ffde-5e6d09581b08"
   },
   "outputs": [],
   "source": []
  },
  {
   "cell_type": "code",
   "execution_count": null,
   "metadata": {
    "id": "Q9Ywx-cs0909"
   },
   "outputs": [],
   "source": []
  },
  {
   "cell_type": "code",
   "execution_count": null,
   "metadata": {
    "colab": {
     "base_uri": "https://localhost:8080/"
    },
    "id": "De4ecpS91Dd1",
    "outputId": "c176adb4-00b2-484d-e55f-962048df6f8a"
   },
   "outputs": [],
   "source": []
  },
  {
   "cell_type": "code",
   "execution_count": null,
   "metadata": {
    "colab": {
     "base_uri": "https://localhost:8080/",
     "height": 0
    },
    "id": "-mcSqMd99TI6",
    "outputId": "94040d1c-d643-410f-f096-3e04115aa27a"
   },
   "outputs": [],
   "source": []
  },
  {
   "cell_type": "code",
   "execution_count": null,
   "metadata": {
    "colab": {
     "base_uri": "https://localhost:8080/",
     "height": 0
    },
    "id": "7hYw3p0_9IGT",
    "outputId": "1c5b021d-28ad-4551-8ea9-0055cfa8e3ee"
   },
   "outputs": [],
   "source": []
  },
  {
   "cell_type": "code",
   "execution_count": null,
   "metadata": {
    "id": "waEgtJOv9Znp"
   },
   "outputs": [],
   "source": []
  },
  {
   "cell_type": "code",
   "execution_count": null,
   "metadata": {
    "colab": {
     "base_uri": "https://localhost:8080/",
     "height": 0
    },
    "id": "rA-f6YSc9Zj0",
    "outputId": "b807d12a-58d7-4b08-93cc-e31b790e266f"
   },
   "outputs": [],
   "source": []
  },
  {
   "cell_type": "markdown",
   "metadata": {
    "id": "wPQ9Twfm2vHV"
   },
   "source": [
    "### Reshape an ndarray"
   ]
  },
  {
   "cell_type": "code",
   "execution_count": null,
   "metadata": {
    "colab": {
     "base_uri": "https://localhost:8080/",
     "height": 0
    },
    "id": "iRZSR_3r1jje",
    "outputId": "6020f64d-a964-4aba-edad-e62f458a9121"
   },
   "outputs": [],
   "source": []
  },
  {
   "cell_type": "code",
   "execution_count": null,
   "metadata": {
    "colab": {
     "base_uri": "https://localhost:8080/",
     "height": 0
    },
    "id": "Q0q7fak_27nI",
    "outputId": "cf68467c-60a8-4e4f-abe9-491cdf6b2ffe"
   },
   "outputs": [],
   "source": []
  },
  {
   "cell_type": "code",
   "execution_count": null,
   "metadata": {
    "colab": {
     "base_uri": "https://localhost:8080/",
     "height": 0
    },
    "id": "deH3hpla3DVl",
    "outputId": "56c0ccb5-0e65-41d5-b7da-65e746307735"
   },
   "outputs": [],
   "source": []
  },
  {
   "cell_type": "markdown",
   "metadata": {
    "id": "OoNOJuLv9oS2"
   },
   "source": [
    "### Flatten an ndarray"
   ]
  },
  {
   "cell_type": "code",
   "execution_count": null,
   "metadata": {
    "id": "tZB-kg_29mR2"
   },
   "outputs": [],
   "source": []
  },
  {
   "cell_type": "code",
   "execution_count": null,
   "metadata": {
    "colab": {
     "base_uri": "https://localhost:8080/",
     "height": 0
    },
    "id": "rdTm4a809nzA",
    "outputId": "27b2dfad-5094-48d0-a1ed-846ea79fc33b"
   },
   "outputs": [],
   "source": []
  },
  {
   "cell_type": "markdown",
   "metadata": {
    "id": "CAjqubWM4TMF"
   },
   "source": [
    "### Creating array from existing data"
   ]
  },
  {
   "cell_type": "code",
   "execution_count": null,
   "metadata": {
    "colab": {
     "base_uri": "https://localhost:8080/",
     "height": 0
    },
    "id": "76B8aT1O3WFF",
    "outputId": "65604f1a-7e6f-4452-c3cf-31e99bc03a2f"
   },
   "outputs": [],
   "source": []
  },
  {
   "cell_type": "markdown",
   "metadata": {
    "id": "GIkKbfTj68w7"
   },
   "source": [
    "### Basic array operations"
   ]
  },
  {
   "cell_type": "code",
   "execution_count": null,
   "metadata": {
    "colab": {
     "base_uri": "https://localhost:8080/",
     "height": 0
    },
    "id": "zH0rD4XF3GNl",
    "outputId": "717195bb-5c63-4db4-c559-65db947834b2"
   },
   "outputs": [],
   "source": []
  },
  {
   "cell_type": "code",
   "execution_count": null,
   "metadata": {
    "colab": {
     "base_uri": "https://localhost:8080/",
     "height": 0
    },
    "id": "hqpWpLRv7FWD",
    "outputId": "43f1f7db-ca95-4598-81bc-f38e430b31fd"
   },
   "outputs": [],
   "source": []
  },
  {
   "cell_type": "code",
   "execution_count": null,
   "metadata": {
    "colab": {
     "base_uri": "https://localhost:8080/",
     "height": 0
    },
    "id": "Dxdu16JL7AOM",
    "outputId": "7e1bb261-2899-49ab-ea17-90c2c0db0b4f"
   },
   "outputs": [],
   "source": []
  },
  {
   "cell_type": "code",
   "execution_count": null,
   "metadata": {
    "colab": {
     "base_uri": "https://localhost:8080/",
     "height": 0
    },
    "id": "S2mkvsBa7HdM",
    "outputId": "55d19825-3ba1-4516-d3fb-0ed987d920f2"
   },
   "outputs": [],
   "source": []
  },
  {
   "cell_type": "markdown",
   "metadata": {
    "id": "1sI9Hjgv7dAr"
   },
   "source": [
    "### Max/Min/Sum"
   ]
  },
  {
   "cell_type": "code",
   "execution_count": null,
   "metadata": {
    "colab": {
     "base_uri": "https://localhost:8080/",
     "height": 0
    },
    "id": "2-GNHb157H1d",
    "outputId": "03001d6c-5114-46d0-db1b-228181573279"
   },
   "outputs": [],
   "source": []
  },
  {
   "cell_type": "code",
   "execution_count": null,
   "metadata": {
    "colab": {
     "base_uri": "https://localhost:8080/",
     "height": 0
    },
    "id": "3qaoC3hM7KcU",
    "outputId": "e62a7f69-8e5c-4603-fa3c-46e4ed2f7a72"
   },
   "outputs": [],
   "source": []
  },
  {
   "cell_type": "code",
   "execution_count": null,
   "metadata": {
    "colab": {
     "base_uri": "https://localhost:8080/",
     "height": 0
    },
    "id": "XjOQ0wLw7UUF",
    "outputId": "51ae0978-7efa-4402-8367-fd05614a678d"
   },
   "outputs": [],
   "source": []
  },
  {
   "cell_type": "code",
   "execution_count": null,
   "metadata": {
    "colab": {
     "base_uri": "https://localhost:8080/",
     "height": 0
    },
    "id": "-rgNUhIt7Wuc",
    "outputId": "3e868ffe-58e1-4f54-9205-d2b5feb690c3"
   },
   "outputs": [],
   "source": []
  },
  {
   "cell_type": "code",
   "execution_count": null,
   "metadata": {
    "colab": {
     "base_uri": "https://localhost:8080/",
     "height": 0
    },
    "id": "pZDHNP3k7WrD",
    "outputId": "de1490e6-b01b-4cb1-9797-ac966d86daca"
   },
   "outputs": [],
   "source": []
  },
  {
   "cell_type": "code",
   "execution_count": null,
   "metadata": {
    "colab": {
     "base_uri": "https://localhost:8080/",
     "height": 0
    },
    "id": "Fg0I3z3x7WmA",
    "outputId": "62fb23c2-f664-4a74-d7d5-27205cee6e3b"
   },
   "outputs": [],
   "source": []
  },
  {
   "cell_type": "code",
   "execution_count": null,
   "metadata": {
    "colab": {
     "base_uri": "https://localhost:8080/",
     "height": 0
    },
    "id": "o5i0iw377Wix",
    "outputId": "8bfc9e4d-a4c7-4266-c6d1-a5ea814a7b79"
   },
   "outputs": [],
   "source": []
  },
  {
   "cell_type": "code",
   "execution_count": null,
   "metadata": {
    "colab": {
     "base_uri": "https://localhost:8080/",
     "height": 0
    },
    "id": "uDAJGWQ67Vz8",
    "outputId": "213cc9bf-fffe-4f92-958d-aa5fc1315a9a"
   },
   "outputs": [],
   "source": []
  },
  {
   "cell_type": "code",
   "execution_count": null,
   "metadata": {
    "colab": {
     "base_uri": "https://localhost:8080/",
     "height": 0
    },
    "id": "yjndfxjV8_Vr",
    "outputId": "324d7158-7ab0-4339-93a4-e3dc2ad25084"
   },
   "outputs": [],
   "source": []
  },
  {
   "cell_type": "code",
   "execution_count": null,
   "metadata": {
    "id": "u4tWXk5k9BQk"
   },
   "outputs": [],
   "source": []
  },
  {
   "cell_type": "markdown",
   "metadata": {
    "id": "FpsBN_98-G-i"
   },
   "source": [
    "# Pandas"
   ]
  },
  {
   "cell_type": "code",
   "execution_count": null,
   "metadata": {
    "colab": {
     "base_uri": "https://localhost:8080/",
     "height": 0
    },
    "id": "iZ2ad4za-GwM",
    "outputId": "e563fffa-b749-45a1-94c3-0487097e3bd4"
   },
   "outputs": [],
   "source": []
  },
  {
   "cell_type": "code",
   "execution_count": null,
   "metadata": {
    "id": "AM-zQyNeA76x"
   },
   "outputs": [],
   "source": []
  },
  {
   "cell_type": "markdown",
   "metadata": {
    "id": "0ckvFGiBBBXP"
   },
   "source": [
    "### Series: a one-dimensional labeled array holding data of any type,\n",
    "such as integers, strings, Python objects etc.\n",
    "\n",
    "### DataFrame: a two-dimensional data structure that holds data like a two-dimension array or a table with rows and columns."
   ]
  },
  {
   "cell_type": "markdown",
   "metadata": {
    "id": "VabLIt84BJIN"
   },
   "source": [
    "### Object creation"
   ]
  },
  {
   "cell_type": "code",
   "execution_count": null,
   "metadata": {
    "id": "wf5lChmqA9Zt"
   },
   "outputs": [],
   "source": []
  },
  {
   "cell_type": "code",
   "execution_count": null,
   "metadata": {
    "colab": {
     "base_uri": "https://localhost:8080/",
     "height": 0
    },
    "id": "bRR0PVY-BLVx",
    "outputId": "36ebba93-44d7-4ac2-b48d-4fe88f1cdc22"
   },
   "outputs": [],
   "source": []
  },
  {
   "cell_type": "code",
   "execution_count": null,
   "metadata": {
    "colab": {
     "base_uri": "https://localhost:8080/",
     "height": 0
    },
    "id": "W4cD89qeC0-v",
    "outputId": "13b2c1e5-a5df-45f0-976b-0734c7c5c09d"
   },
   "outputs": [],
   "source": []
  },
  {
   "cell_type": "code",
   "execution_count": null,
   "metadata": {
    "colab": {
     "base_uri": "https://localhost:8080/",
     "height": 0
    },
    "id": "Bd8m9XjbC5wI",
    "outputId": "45cc6996-36e0-4b44-dcdb-0244e2c3aaa4"
   },
   "outputs": [],
   "source": []
  },
  {
   "cell_type": "code",
   "execution_count": null,
   "metadata": {
    "colab": {
     "base_uri": "https://localhost:8080/",
     "height": 0
    },
    "id": "SLHbDK1qC5sP",
    "outputId": "9c37b017-a0c0-4d92-989e-87e1d1dcb8d1"
   },
   "outputs": [],
   "source": []
  },
  {
   "cell_type": "code",
   "execution_count": null,
   "metadata": {
    "id": "texViTPzC5mJ"
   },
   "outputs": [],
   "source": []
  },
  {
   "cell_type": "code",
   "execution_count": null,
   "metadata": {
    "colab": {
     "base_uri": "https://localhost:8080/",
     "height": 0
    },
    "id": "BkF2poMBBMQu",
    "outputId": "c7553419-0e1b-4d8a-b7b3-acd8aa29c1f1"
   },
   "outputs": [],
   "source": []
  },
  {
   "cell_type": "code",
   "execution_count": null,
   "metadata": {
    "colab": {
     "base_uri": "https://localhost:8080/",
     "height": 0
    },
    "id": "fy22s7njCuoZ",
    "outputId": "6a05e8d8-a07e-4d00-fd3f-1ea4a1613a53"
   },
   "outputs": [],
   "source": []
  },
  {
   "cell_type": "code",
   "execution_count": null,
   "metadata": {
    "colab": {
     "base_uri": "https://localhost:8080/",
     "height": 0
    },
    "id": "JOpslDTyD6DT",
    "outputId": "39cc3b0c-5b35-46e6-acb5-95e0546f4526"
   },
   "outputs": [],
   "source": []
  },
  {
   "cell_type": "code",
   "execution_count": null,
   "metadata": {
    "id": "4M6XgHYmD5_S"
   },
   "outputs": [],
   "source": []
  },
  {
   "cell_type": "markdown",
   "metadata": {
    "id": "GH9hLyT2Cl7B"
   },
   "source": [
    "### Pandas Dataframe is a collection of Series"
   ]
  },
  {
   "cell_type": "code",
   "execution_count": null,
   "metadata": {
    "colab": {
     "base_uri": "https://localhost:8080/",
     "height": 0
    },
    "id": "AaqZ5FA6Ce2k",
    "outputId": "b5a27363-7730-407a-c138-db7ae3c7c213"
   },
   "outputs": [],
   "source": []
  },
  {
   "cell_type": "markdown",
   "metadata": {
    "id": "yFZzd7AVDLNY"
   },
   "source": [
    "### Pandas Slicing"
   ]
  },
  {
   "cell_type": "code",
   "execution_count": null,
   "metadata": {
    "colab": {
     "base_uri": "https://localhost:8080/",
     "height": 0
    },
    "id": "-tym3TOUCrwi",
    "outputId": "b41f0c93-a801-4256-c7fc-cb000e83479c"
   },
   "outputs": [],
   "source": []
  },
  {
   "cell_type": "code",
   "execution_count": null,
   "metadata": {
    "colab": {
     "base_uri": "https://localhost:8080/",
     "height": 0
    },
    "id": "iPToYCfPDdOs",
    "outputId": "f28d35da-5e8a-4806-dd6d-c266d3ded26a"
   },
   "outputs": [],
   "source": []
  },
  {
   "cell_type": "code",
   "execution_count": null,
   "metadata": {
    "colab": {
     "base_uri": "https://localhost:8080/",
     "height": 0
    },
    "id": "ygdTsb4UDqZO",
    "outputId": "79087dcd-b046-4c2b-fb57-fb328f3a914a"
   },
   "outputs": [],
   "source": []
  },
  {
   "cell_type": "code",
   "execution_count": null,
   "metadata": {
    "colab": {
     "base_uri": "https://localhost:8080/",
     "height": 0
    },
    "id": "wLf1uhj2DuBs",
    "outputId": "5f852bdd-197c-4ba2-8850-2943d9c21027"
   },
   "outputs": [],
   "source": []
  },
  {
   "cell_type": "code",
   "execution_count": null,
   "metadata": {
    "colab": {
     "base_uri": "https://localhost:8080/",
     "height": 0
    },
    "id": "3TMBtf2ZEJIS",
    "outputId": "40c33c3d-d612-4729-d218-4c2de41e8085"
   },
   "outputs": [],
   "source": []
  },
  {
   "cell_type": "code",
   "execution_count": null,
   "metadata": {
    "id": "xaN_m88oEKa6"
   },
   "outputs": [],
   "source": []
  }
 ],
 "metadata": {
  "colab": {
   "provenance": []
  },
  "kernelspec": {
   "display_name": "Python 3 (ipykernel)",
   "language": "python",
   "name": "python3"
  },
  "language_info": {
   "codemirror_mode": {
    "name": "ipython",
    "version": 3
   },
   "file_extension": ".py",
   "mimetype": "text/x-python",
   "name": "python",
   "nbconvert_exporter": "python",
   "pygments_lexer": "ipython3",
   "version": "3.12.3"
  }
 },
 "nbformat": 4,
 "nbformat_minor": 4
}
